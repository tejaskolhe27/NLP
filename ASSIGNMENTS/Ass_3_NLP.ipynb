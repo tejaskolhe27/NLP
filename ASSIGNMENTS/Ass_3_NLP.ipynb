{
  "nbformat": 4,
  "nbformat_minor": 0,
  "metadata": {
    "colab": {
      "provenance": []
    },
    "kernelspec": {
      "name": "python3",
      "display_name": "Python 3"
    },
    "language_info": {
      "name": "python"
    }
  },
  "cells": [
    {
      "cell_type": "code",
      "execution_count": 37,
      "metadata": {
        "id": "bh7vd9akIq-D"
      },
      "outputs": [],
      "source": [
        "import nltk\n",
        "from nltk.tokenize import word_tokenize, sent_tokenize\n",
        "from nltk.tag import pos_tag\n",
        "from nltk.stem import PorterStemmer, LancasterStemmer, WordNetLemmatizer\n",
        "from nltk.corpus import wordnet\n",
        "from nltk.chunk import RegexpParser\n",
        "from nltk.corpus import wordnet"
      ]
    },
    {
      "cell_type": "code",
      "source": [
        "# Sample text\n",
        "text = \"\"\"UNESCO World Heritage Sites: Ajanta Caves, Ellora Caves, Elephanta Caves, Chhatrapati Shivaji Maharaj Terminus (formerly Victoria Terminus),\n",
        "The Victorian Gothic and Art Deco Ensembles of Mumbai and The Western Ghats, a heritage site made up of 39 individual properties of which 4 are in Maharashtra.\"\"\"\n"
      ],
      "metadata": {
        "id": "ymcU45_IItlC"
      },
      "execution_count": 38,
      "outputs": []
    },
    {
      "cell_type": "code",
      "source": [
        "# Tokenizing and POS tagging\n",
        "words = word_tokenize(text)\n",
        "pos_tags = pos_tag(words)"
      ],
      "metadata": {
        "id": "n7wZGdoBev0T"
      },
      "execution_count": 39,
      "outputs": []
    },
    {
      "cell_type": "code",
      "source": [
        "# 1. Chuncking of type <VBD><DT>\n",
        "chunk_pattern = \"Chunk: {<VBD><DT>}\"\n",
        "chunk_parser = RegexpParser(chunk_pattern)\n",
        "chunks = chunk_parser.parse(pos_tags)\n",
        "for subtree in chunks.subtrees():\n",
        "    if subtree.label() == 'Chunk':\n",
        "        print(subtree)"
      ],
      "metadata": {
        "id": "FhAz0TPEI2aF"
      },
      "execution_count": 40,
      "outputs": []
    },
    {
      "cell_type": "code",
      "source": [
        "# 2. Named Entities\n",
        "entities = nltk.ne_chunk(pos_tags)\n",
        "for subtree in entities.subtrees():\n",
        "    if subtree.label() == 'GPE' or subtree.label() == 'PERSON' or subtree.label() == 'ORGANIZATION':\n",
        "        print(subtree)"
      ],
      "metadata": {
        "id": "STSpCEqEJ8eY",
        "colab": {
          "base_uri": "https://localhost:8080/"
        },
        "outputId": "2ba3bdcf-7957-4b8b-cc57-f85cc7696210"
      },
      "execution_count": 41,
      "outputs": [
        {
          "output_type": "stream",
          "name": "stdout",
          "text": [
            "(ORGANIZATION UNESCO/NNP)\n",
            "(PERSON Ajanta/NNP Caves/NNP)\n",
            "(PERSON Ellora/NNP Caves/NNP)\n",
            "(PERSON Elephanta/NNP Caves/NNP)\n",
            "(PERSON Chhatrapati/NNP Shivaji/NNP Maharaj/NNP Terminus/NNP)\n",
            "(PERSON Victoria/NNP Terminus/NNP)\n",
            "(ORGANIZATION Victorian/JJ Gothic/NNP)\n",
            "(PERSON Art/NNP Deco/NNP Ensembles/NNP)\n",
            "(GPE Mumbai/NNP)\n",
            "(GPE Maharashtra/NNP)\n"
          ]
        }
      ]
    },
    {
      "cell_type": "code",
      "source": [
        "# 3. Verbs with Porter and Lancaster Stemmers\n",
        "verbs = [word for word, pos in pos_tags if pos.startswith('V')]\n",
        "porter = PorterStemmer()\n",
        "lancaster = LancasterStemmer()\n",
        "stemmed_verbs_porter = [porter.stem(verb) for verb in verbs]\n",
        "stemmed_verbs_lancaster = [lancaster.stem(verb) for verb in verbs]\n",
        "\n",
        "print(\"Verbs with Porter Stemmer:\", stemmed_verbs_porter)\n",
        "print(\"Verbs with Lancaster Stemmer:\", stemmed_verbs_lancaster)"
      ],
      "metadata": {
        "colab": {
          "base_uri": "https://localhost:8080/"
        },
        "id": "HJ4bRaOIKHqi",
        "outputId": "5efee5b9-e7bf-4cc9-b25c-76eed3336bd4"
      },
      "execution_count": 42,
      "outputs": [
        {
          "output_type": "stream",
          "name": "stdout",
          "text": [
            "Verbs with Porter Stemmer: ['site', 'made', 'are']\n",
            "Verbs with Lancaster Stemmer: ['sit', 'mad', 'ar']\n"
          ]
        }
      ]
    },
    {
      "cell_type": "code",
      "source": [
        "# 4. Verbs in Past Tense (Lemmatized, Unique)\n",
        "past_tense_verbs = [word for word, pos in pos_tags if pos == 'VBD']\n",
        "lemmatizer = WordNetLemmatizer()\n",
        "lemmatized_verbs = list(set([lemmatizer.lemmatize(verb, 'v') for verb in past_tense_verbs]))\n",
        "\n",
        "print(\"Unique Lemmatized Past Tense Verbs:\", lemmatized_verbs)\n"
      ],
      "metadata": {
        "id": "uG_nA4ztKI8B",
        "colab": {
          "base_uri": "https://localhost:8080/"
        },
        "outputId": "78efbfb4-7b62-48dc-af17-c83641aaf60e"
      },
      "execution_count": 43,
      "outputs": [
        {
          "output_type": "stream",
          "name": "stdout",
          "text": [
            "Unique Lemmatized Past Tense Verbs: ['make']\n"
          ]
        }
      ]
    },
    {
      "cell_type": "code",
      "source": [
        "# 5. Adjectives and Their Synonyms\n",
        "adjectives = [word for word, pos in pos_tags if pos == 'JJ']\n",
        "synonyms = [wordnet.synsets(adj)[0].lemmas()[0].name() for adj in adjectives] if adjectives else []\n",
        "\n",
        "\n",
        "print(\" Adjectives and Their Synonyms:\", synonyms)\n"
      ],
      "metadata": {
        "colab": {
          "base_uri": "https://localhost:8080/"
        },
        "id": "M7tWGh0VcuR-",
        "outputId": "f684d5f3-457e-4c78-9ba5-2616bbe87e76"
      },
      "execution_count": 44,
      "outputs": [
        {
          "output_type": "stream",
          "name": "stdout",
          "text": [
            " Adjectives and Their Synonyms: ['Victorian', 'Western', 'person']\n"
          ]
        }
      ]
    },
    {
      "cell_type": "code",
      "source": [
        "# 6. Verbs and Their Antonyms\n",
        "antonyms = []\n",
        "for verb in verbs:\n",
        "    for syn in wordnet.synsets(verb, pos=wordnet.VERB):\n",
        "        for lemma in syn.lemmas():\n",
        "            if lemma.antonyms():\n",
        "                antonyms.append(lemma.antonyms()[0].name())\n",
        "\n",
        "print(\"Verbs and Their Antonyms:\", antonyms)"
      ],
      "metadata": {
        "colab": {
          "base_uri": "https://localhost:8080/"
        },
        "id": "9ikBG_HZcuTp",
        "outputId": "d35dd08c-e235-4c70-8afa-5cb30a7f2441"
      },
      "execution_count": 45,
      "outputs": [
        {
          "output_type": "stream",
          "name": "stdout",
          "text": [
            "Verbs and Their Antonyms: ['stand', 'arise', 'unmake', 'break', 'differ']\n"
          ]
        }
      ]
    },
    {
      "cell_type": "code",
      "source": [
        "# 7. Print all entities marked as DATE and TIME\n",
        "for subtree in entities.subtrees():\n",
        "    if subtree.label() == 'DATE' or subtree.label() == 'TIME':\n",
        "        print(subtree.leaves())"
      ],
      "metadata": {
        "id": "7Ufy9hK_cuXk"
      },
      "execution_count": 46,
      "outputs": []
    },
    {
      "cell_type": "code",
      "source": [
        "locations = [word for word, pos in pos_tags if pos == 'NNP']\n",
        "\n",
        "print(\"Named Locations:\", locations)\n"
      ],
      "metadata": {
        "colab": {
          "base_uri": "https://localhost:8080/"
        },
        "id": "tDT6j4yVc_fv",
        "outputId": "675a3c68-6ccc-4e46-86e6-b9833331a3aa"
      },
      "execution_count": 47,
      "outputs": [
        {
          "output_type": "stream",
          "name": "stdout",
          "text": [
            "Named Locations: ['UNESCO', 'World', 'Heritage', 'Ajanta', 'Caves', 'Ellora', 'Caves', 'Elephanta', 'Caves', 'Chhatrapati', 'Shivaji', 'Maharaj', 'Terminus', 'Victoria', 'Terminus', 'Gothic', 'Art', 'Deco', 'Ensembles', 'Mumbai', 'Ghats', 'Maharashtra']\n"
          ]
        }
      ]
    },
    {
      "cell_type": "code",
      "source": [],
      "metadata": {
        "id": "muwWBhQYcuY7"
      },
      "execution_count": 47,
      "outputs": []
    },
    {
      "cell_type": "code",
      "source": [],
      "metadata": {
        "id": "LRtxbI1Gc-i1"
      },
      "execution_count": 47,
      "outputs": []
    }
  ]
}