{
 "cells": [
  {
   "cell_type": "code",
   "execution_count": 1,
   "id": "e3cd76f3",
   "metadata": {},
   "outputs": [],
   "source": [
    "import nltk , string, gensim\n",
    "from nltk.corpus import abc\n",
    "from nltk.tokenize import word_tokenize\n",
    "import numpy as np"
   ]
  },
  {
   "cell_type": "code",
   "execution_count": 2,
   "id": "6c305c0c",
   "metadata": {},
   "outputs": [],
   "source": [
    "import json\n",
    "jason_file = 'intents.json'\n",
    "with open('intents.json','r') as f:\n",
    "    data = json.load(f)"
   ]
  },
  {
   "cell_type": "code",
   "execution_count": 3,
   "id": "68e91c9a",
   "metadata": {},
   "outputs": [
    {
     "data": {
      "text/plain": [
       "[{'tag': 'welcome',\n",
       "  'patterns': ['Hi',\n",
       "   'How are you',\n",
       "   'Is any one to talk?',\n",
       "   'Hello',\n",
       "   'hi are you available'],\n",
       "  'responses': ['Hello, thanks for contacting us',\n",
       "   'Good to see you here',\n",
       "   ' Hi there, how may I assist you?']},\n",
       " {'tag': 'goodbye',\n",
       "  'patterns': ['Bye', 'See you later', 'Goodbye', 'I will come back soon'],\n",
       "  'responses': ['See you later, thanks for visiting',\n",
       "   'have a great day ahead',\n",
       "   'Wish you Come back again soon.']},\n",
       " {'tag': 'thankful',\n",
       "  'patterns': ['Thanks for helping me',\n",
       "   'Thank your guidance',\n",
       "   \"That's helpful and kind from you\"],\n",
       "  'responses': ['Happy to help!',\n",
       "   'Any time!',\n",
       "   'My pleasure',\n",
       "   'It is my duty to help you']},\n",
       " {'tag': 'hoursopening',\n",
       "  'patterns': ['What hours are you open?',\n",
       "   'Tell your opening time?',\n",
       "   'When are you open?',\n",
       "   'Just your timing please'],\n",
       "  'responses': [\"We're open every day 8am-7pm\",\n",
       "   'Our office hours are 8am-7pm every day',\n",
       "   'We open office at 8 am and close at 7 pm']},\n",
       " {'tag': 'payments',\n",
       "  'patterns': ['Can I pay using credit card?',\n",
       "   ' Can I pay using Mastercard?',\n",
       "   ' Can I pay using cash only?'],\n",
       "  'responses': ['We accept VISA, Mastercard and credit card',\n",
       "   'We accept credit card, debit cards and cash. Please don’t worry']}]"
      ]
     },
     "execution_count": 3,
     "metadata": {},
     "output_type": "execute_result"
    }
   ],
   "source": [
    "data   "
   ]
  },
  {
   "cell_type": "code",
   "execution_count": 4,
   "id": "b79bd250",
   "metadata": {},
   "outputs": [],
   "source": [
    "import pandas as pd\n",
    "df = pd.DataFrame(data)"
   ]
  },
  {
   "cell_type": "code",
   "execution_count": 5,
   "id": "4f8b5883",
   "metadata": {},
   "outputs": [
    {
     "data": {
      "text/html": [
       "<div>\n",
       "<style scoped>\n",
       "    .dataframe tbody tr th:only-of-type {\n",
       "        vertical-align: middle;\n",
       "    }\n",
       "\n",
       "    .dataframe tbody tr th {\n",
       "        vertical-align: top;\n",
       "    }\n",
       "\n",
       "    .dataframe thead th {\n",
       "        text-align: right;\n",
       "    }\n",
       "</style>\n",
       "<table border=\"1\" class=\"dataframe\">\n",
       "  <thead>\n",
       "    <tr style=\"text-align: right;\">\n",
       "      <th></th>\n",
       "      <th>tag</th>\n",
       "      <th>patterns</th>\n",
       "      <th>responses</th>\n",
       "    </tr>\n",
       "  </thead>\n",
       "  <tbody>\n",
       "    <tr>\n",
       "      <th>0</th>\n",
       "      <td>welcome</td>\n",
       "      <td>[Hi, How are you, Is any one to talk?, Hello, ...</td>\n",
       "      <td>[Hello, thanks for contacting us, Good to see ...</td>\n",
       "    </tr>\n",
       "    <tr>\n",
       "      <th>1</th>\n",
       "      <td>goodbye</td>\n",
       "      <td>[Bye, See you later, Goodbye, I will come back...</td>\n",
       "      <td>[See you later, thanks for visiting, have a gr...</td>\n",
       "    </tr>\n",
       "    <tr>\n",
       "      <th>2</th>\n",
       "      <td>thankful</td>\n",
       "      <td>[Thanks for helping me, Thank your guidance, T...</td>\n",
       "      <td>[Happy to help!, Any time!, My pleasure, It is...</td>\n",
       "    </tr>\n",
       "    <tr>\n",
       "      <th>3</th>\n",
       "      <td>hoursopening</td>\n",
       "      <td>[What hours are you open?, Tell your opening t...</td>\n",
       "      <td>[We're open every day 8am-7pm, Our office hour...</td>\n",
       "    </tr>\n",
       "    <tr>\n",
       "      <th>4</th>\n",
       "      <td>payments</td>\n",
       "      <td>[Can I pay using credit card?,  Can I pay usin...</td>\n",
       "      <td>[We accept VISA, Mastercard and credit card, W...</td>\n",
       "    </tr>\n",
       "  </tbody>\n",
       "</table>\n",
       "</div>"
      ],
      "text/plain": [
       "            tag                                           patterns  \\\n",
       "0       welcome  [Hi, How are you, Is any one to talk?, Hello, ...   \n",
       "1       goodbye  [Bye, See you later, Goodbye, I will come back...   \n",
       "2      thankful  [Thanks for helping me, Thank your guidance, T...   \n",
       "3  hoursopening  [What hours are you open?, Tell your opening t...   \n",
       "4      payments  [Can I pay using credit card?,  Can I pay usin...   \n",
       "\n",
       "                                           responses  \n",
       "0  [Hello, thanks for contacting us, Good to see ...  \n",
       "1  [See you later, thanks for visiting, have a gr...  \n",
       "2  [Happy to help!, Any time!, My pleasure, It is...  \n",
       "3  [We're open every day 8am-7pm, Our office hour...  \n",
       "4  [We accept VISA, Mastercard and credit card, W...  "
      ]
     },
     "execution_count": 5,
     "metadata": {},
     "output_type": "execute_result"
    }
   ],
   "source": [
    "df"
   ]
  },
  {
   "cell_type": "code",
   "execution_count": 6,
   "id": "d13e4c4b",
   "metadata": {},
   "outputs": [],
   "source": [
    "df['patterns'] = df['patterns'].apply(\", \".join)"
   ]
  },
  {
   "cell_type": "code",
   "execution_count": 7,
   "id": "88d98740",
   "metadata": {},
   "outputs": [
    {
     "data": {
      "text/html": [
       "<div>\n",
       "<style scoped>\n",
       "    .dataframe tbody tr th:only-of-type {\n",
       "        vertical-align: middle;\n",
       "    }\n",
       "\n",
       "    .dataframe tbody tr th {\n",
       "        vertical-align: top;\n",
       "    }\n",
       "\n",
       "    .dataframe thead th {\n",
       "        text-align: right;\n",
       "    }\n",
       "</style>\n",
       "<table border=\"1\" class=\"dataframe\">\n",
       "  <thead>\n",
       "    <tr style=\"text-align: right;\">\n",
       "      <th></th>\n",
       "      <th>tag</th>\n",
       "      <th>patterns</th>\n",
       "      <th>responses</th>\n",
       "    </tr>\n",
       "  </thead>\n",
       "  <tbody>\n",
       "    <tr>\n",
       "      <th>0</th>\n",
       "      <td>welcome</td>\n",
       "      <td>Hi, How are you, Is any one to talk?, Hello, h...</td>\n",
       "      <td>[Hello, thanks for contacting us, Good to see ...</td>\n",
       "    </tr>\n",
       "    <tr>\n",
       "      <th>1</th>\n",
       "      <td>goodbye</td>\n",
       "      <td>Bye, See you later, Goodbye, I will come back ...</td>\n",
       "      <td>[See you later, thanks for visiting, have a gr...</td>\n",
       "    </tr>\n",
       "    <tr>\n",
       "      <th>2</th>\n",
       "      <td>thankful</td>\n",
       "      <td>Thanks for helping me, Thank your guidance, Th...</td>\n",
       "      <td>[Happy to help!, Any time!, My pleasure, It is...</td>\n",
       "    </tr>\n",
       "    <tr>\n",
       "      <th>3</th>\n",
       "      <td>hoursopening</td>\n",
       "      <td>What hours are you open?, Tell your opening ti...</td>\n",
       "      <td>[We're open every day 8am-7pm, Our office hour...</td>\n",
       "    </tr>\n",
       "    <tr>\n",
       "      <th>4</th>\n",
       "      <td>payments</td>\n",
       "      <td>Can I pay using credit card?,  Can I pay using...</td>\n",
       "      <td>[We accept VISA, Mastercard and credit card, W...</td>\n",
       "    </tr>\n",
       "  </tbody>\n",
       "</table>\n",
       "</div>"
      ],
      "text/plain": [
       "            tag                                           patterns  \\\n",
       "0       welcome  Hi, How are you, Is any one to talk?, Hello, h...   \n",
       "1       goodbye  Bye, See you later, Goodbye, I will come back ...   \n",
       "2      thankful  Thanks for helping me, Thank your guidance, Th...   \n",
       "3  hoursopening  What hours are you open?, Tell your opening ti...   \n",
       "4      payments  Can I pay using credit card?,  Can I pay using...   \n",
       "\n",
       "                                           responses  \n",
       "0  [Hello, thanks for contacting us, Good to see ...  \n",
       "1  [See you later, thanks for visiting, have a gr...  \n",
       "2  [Happy to help!, Any time!, My pleasure, It is...  \n",
       "3  [We're open every day 8am-7pm, Our office hour...  \n",
       "4  [We accept VISA, Mastercard and credit card, W...  "
      ]
     },
     "execution_count": 7,
     "metadata": {},
     "output_type": "execute_result"
    }
   ],
   "source": [
    "df"
   ]
  },
  {
   "cell_type": "code",
   "execution_count": 8,
   "id": "96e89e63",
   "metadata": {},
   "outputs": [
    {
     "name": "stderr",
     "output_type": "stream",
     "text": [
      "[nltk_data] Error loading wordnet: <urlopen error [Errno 104]\n",
      "[nltk_data]     Connection reset by peer>\n",
      "/tmp/ipykernel_27421/2430501326.py:11: FutureWarning: The default value of regex will change from True to False in a future version.\n",
      "  df['patterns'] = df['patterns'].str.replace('[^\\w\\s]','')\n"
     ]
    }
   ],
   "source": [
    "#!pip install textblob\n",
    "from nltk.corpus import stopwords\n",
    "from textblob import Word\n",
    "nltk.download('wordnet')\n",
    "\n",
    "stop =stopwords.words('english')\n",
    "df['patterns'] = df['patterns'].apply(lambda x: ' '.join(x.lower() for x in x.split()))\n",
    "\n",
    "df['patterns'] = df['patterns'].apply(lambda x: ' '.join(x.lower() for x in word_tokenize(x) if x not in string.punctuation))\n",
    "\n",
    "df['patterns'] = df['patterns'].str.replace('[^\\w\\s]','')\n",
    "\n",
    "df['patterns'] = df['patterns'].apply(lambda x: ' '.join(x.lower() for x in x.split() if not x.isdigit()))\n",
    "\n",
    "df['patterns'] = df['patterns'].apply(lambda x: ' '.join(x.lower() for x in x.split() if not x in stop))\n",
    "\n",
    "df['patterns'] = df['patterns'].apply(lambda x: \" \".join([Word(word).lemmatize() for word in x.split()]))"
   ]
  },
  {
   "cell_type": "code",
   "execution_count": 9,
   "id": "6949f1c5",
   "metadata": {},
   "outputs": [],
   "source": [
    "from gensim.models import Word2Vec\n",
    "from nltk.corpus import wordnet"
   ]
  },
  {
   "cell_type": "code",
   "execution_count": 10,
   "id": "481a83cd",
   "metadata": {},
   "outputs": [],
   "source": [
    "#taking the outer list\n",
    "bigger_list = []\n",
    "for i in df['patterns']:\n",
    "  li = i.split()\n",
    "  bigger_list.append(li)"
   ]
  },
  {
   "cell_type": "code",
   "execution_count": 11,
   "id": "b8baee6b",
   "metadata": {},
   "outputs": [
    {
     "data": {
      "text/plain": [
       "[['hi', 'one', 'talk', 'hello', 'hi', 'available'],\n",
       " ['bye', 'see', 'later', 'goodbye', 'come', 'back', 'soon'],\n",
       " ['thanks', 'helping', 'thank', 'guidance', 'helpful', 'kind'],\n",
       " ['hour', 'open', 'tell', 'opening', 'time', 'open', 'timing', 'please'],\n",
       " ['pay',\n",
       "  'using',\n",
       "  'credit',\n",
       "  'card',\n",
       "  'pay',\n",
       "  'using',\n",
       "  'mastercard',\n",
       "  'pay',\n",
       "  'using',\n",
       "  'cash']]"
      ]
     },
     "execution_count": 11,
     "metadata": {},
     "output_type": "execute_result"
    }
   ],
   "source": [
    "bigger_list"
   ]
  },
  {
   "cell_type": "code",
   "execution_count": 12,
   "id": "f7d8ef71",
   "metadata": {},
   "outputs": [
    {
     "name": "stdout",
     "output_type": "stream",
     "text": [
      "Word2Vec<vocab=31, vector_size=100, alpha=0.025>\n"
     ]
    }
   ],
   "source": [
    "model = Word2Vec(bigger_list,min_count = 1, workers =4)\n",
    "print(model)"
   ]
  },
  {
   "cell_type": "code",
   "execution_count": 13,
   "id": "95c84d50",
   "metadata": {},
   "outputs": [
    {
     "data": {
      "text/plain": [
       "['using',\n",
       " 'pay',\n",
       " 'hi',\n",
       " 'open',\n",
       " 'later',\n",
       " 'soon',\n",
       " 'back',\n",
       " 'come',\n",
       " 'goodbye',\n",
       " 'bye',\n",
       " 'see',\n",
       " 'helping',\n",
       " 'available',\n",
       " 'hello',\n",
       " 'talk',\n",
       " 'one',\n",
       " 'thanks',\n",
       " 'cash',\n",
       " 'thank',\n",
       " 'mastercard',\n",
       " 'helpful',\n",
       " 'kind',\n",
       " 'hour',\n",
       " 'tell',\n",
       " 'opening',\n",
       " 'time',\n",
       " 'timing',\n",
       " 'please',\n",
       " 'credit',\n",
       " 'card',\n",
       " 'guidance']"
      ]
     },
     "execution_count": 13,
     "metadata": {},
     "output_type": "execute_result"
    }
   ],
   "source": [
    "vocab = list(model.wv.key_to_index)       #saved model can be trained on another machine as well\n",
    "\n",
    "vocab"
   ]
  },
  {
   "cell_type": "code",
   "execution_count": 14,
   "id": "b6a4ff90",
   "metadata": {},
   "outputs": [],
   "source": [
    "text = \"guidance system is not working.\""
   ]
  },
  {
   "cell_type": "code",
   "execution_count": 15,
   "id": "057d9ea4",
   "metadata": {},
   "outputs": [],
   "source": [
    "# preprocessing:\n",
    "\n",
    "def similar_mean(text):\n",
    "    \n",
    "    token = word_tokenize(text)\n",
    "\n",
    "    token2 = [word for word in token if word not in string.punctuation]\n",
    "\n",
    "    token3 = [word for word in token2 if word not in stopwords.words('english')]\n",
    "    word_in_vocab = []\n",
    "    lst = []\n",
    "    for word in token3:\n",
    "        if word not in vocab:\n",
    "\n",
    "            for word in wordnet.synsets(word):\n",
    "                word1 = word.lemmas()[0].name()\n",
    "                if word1 not in lst:\n",
    "                    lst.append(word1)\n",
    "            print(lst)\n",
    "        else:\n",
    "            \n",
    "            word_in_vocab.append(word)\n",
    "            similar_word = model.wv.most_similar(word)\n",
    "            print(similar_word)\n",
    "    return lst, word_in_vocab\n"
   ]
  },
  {
   "cell_type": "code",
   "execution_count": 16,
   "id": "8ee5ee8b",
   "metadata": {},
   "outputs": [
    {
     "name": "stdout",
     "output_type": "stream",
     "text": [
      "[('helpful', 0.18681879341602325), ('helping', 0.18191713094711304), ('later', 0.17530782520771027), ('soon', 0.1626758724451065), ('using', 0.15174217522144318), ('please', 0.1423748880624771), ('cash', 0.1337394416332245), ('credit', 0.11591789871454239), ('kind', 0.10269659012556076), ('thanks', 0.09045052528381348)]\n",
      "['system', 'arrangement', 'organization']\n",
      "['system', 'arrangement', 'organization', 'working', 'work', 'function', 'exercise', 'make', 'bring', 'cultivate', 'influence', 'shape', 'knead', 'exploit', 'solve', 'ferment', 'sour', 'running']\n"
     ]
    }
   ],
   "source": [
    "not_in_vocab, in_vocab = similar_mean(text)"
   ]
  },
  {
   "cell_type": "code",
   "execution_count": 17,
   "id": "aae9bbc1",
   "metadata": {},
   "outputs": [
    {
     "data": {
      "text/plain": [
       "['system',\n",
       " 'arrangement',\n",
       " 'organization',\n",
       " 'working',\n",
       " 'work',\n",
       " 'function',\n",
       " 'exercise',\n",
       " 'make',\n",
       " 'bring',\n",
       " 'cultivate',\n",
       " 'influence',\n",
       " 'shape',\n",
       " 'knead',\n",
       " 'exploit',\n",
       " 'solve',\n",
       " 'ferment',\n",
       " 'sour',\n",
       " 'running']"
      ]
     },
     "execution_count": 17,
     "metadata": {},
     "output_type": "execute_result"
    }
   ],
   "source": [
    "not_in_vocab"
   ]
  },
  {
   "cell_type": "code",
   "execution_count": 18,
   "id": "99e38e9e",
   "metadata": {},
   "outputs": [
    {
     "data": {
      "text/plain": [
       "['guidance']"
      ]
     },
     "execution_count": 18,
     "metadata": {},
     "output_type": "execute_result"
    }
   ],
   "source": [
    "in_vocab"
   ]
  },
  {
   "cell_type": "code",
   "execution_count": 19,
   "id": "8196021d",
   "metadata": {},
   "outputs": [
    {
     "data": {
      "text/html": [
       "<div>\n",
       "<style scoped>\n",
       "    .dataframe tbody tr th:only-of-type {\n",
       "        vertical-align: middle;\n",
       "    }\n",
       "\n",
       "    .dataframe tbody tr th {\n",
       "        vertical-align: top;\n",
       "    }\n",
       "\n",
       "    .dataframe thead th {\n",
       "        text-align: right;\n",
       "    }\n",
       "</style>\n",
       "<table border=\"1\" class=\"dataframe\">\n",
       "  <thead>\n",
       "    <tr style=\"text-align: right;\">\n",
       "      <th></th>\n",
       "      <th>tag</th>\n",
       "      <th>patterns</th>\n",
       "      <th>responses</th>\n",
       "    </tr>\n",
       "  </thead>\n",
       "  <tbody>\n",
       "    <tr>\n",
       "      <th>0</th>\n",
       "      <td>welcome</td>\n",
       "      <td>hi one talk hello hi available</td>\n",
       "      <td>[Hello, thanks for contacting us, Good to see ...</td>\n",
       "    </tr>\n",
       "    <tr>\n",
       "      <th>1</th>\n",
       "      <td>goodbye</td>\n",
       "      <td>bye see later goodbye come back soon</td>\n",
       "      <td>[See you later, thanks for visiting, have a gr...</td>\n",
       "    </tr>\n",
       "    <tr>\n",
       "      <th>2</th>\n",
       "      <td>thankful</td>\n",
       "      <td>thanks helping thank guidance helpful kind</td>\n",
       "      <td>[Happy to help!, Any time!, My pleasure, It is...</td>\n",
       "    </tr>\n",
       "    <tr>\n",
       "      <th>3</th>\n",
       "      <td>hoursopening</td>\n",
       "      <td>hour open tell opening time open timing please</td>\n",
       "      <td>[We're open every day 8am-7pm, Our office hour...</td>\n",
       "    </tr>\n",
       "    <tr>\n",
       "      <th>4</th>\n",
       "      <td>payments</td>\n",
       "      <td>pay using credit card pay using mastercard pay...</td>\n",
       "      <td>[We accept VISA, Mastercard and credit card, W...</td>\n",
       "    </tr>\n",
       "  </tbody>\n",
       "</table>\n",
       "</div>"
      ],
      "text/plain": [
       "            tag                                           patterns  \\\n",
       "0       welcome                     hi one talk hello hi available   \n",
       "1       goodbye               bye see later goodbye come back soon   \n",
       "2      thankful         thanks helping thank guidance helpful kind   \n",
       "3  hoursopening     hour open tell opening time open timing please   \n",
       "4      payments  pay using credit card pay using mastercard pay...   \n",
       "\n",
       "                                           responses  \n",
       "0  [Hello, thanks for contacting us, Good to see ...  \n",
       "1  [See you later, thanks for visiting, have a gr...  \n",
       "2  [Happy to help!, Any time!, My pleasure, It is...  \n",
       "3  [We're open every day 8am-7pm, Our office hour...  \n",
       "4  [We accept VISA, Mastercard and credit card, W...  "
      ]
     },
     "execution_count": 19,
     "metadata": {},
     "output_type": "execute_result"
    }
   ],
   "source": [
    "df"
   ]
  },
  {
   "cell_type": "code",
   "execution_count": 20,
   "id": "92b156ce",
   "metadata": {},
   "outputs": [
    {
     "name": "stdout",
     "output_type": "stream",
     "text": [
      "['It is my duty to help you']\n"
     ]
    }
   ],
   "source": [
    "if in_vocab:\n",
    "    \n",
    "    for word in in_vocab:\n",
    "\n",
    "        a = 0\n",
    "        \n",
    "        response = []\n",
    "        \n",
    "        for i in df['patterns']:\n",
    "\n",
    "            if word in i:\n",
    "                response.append((np.random.choice(df['responses'].iloc[a])))\n",
    "\n",
    "            a  = a + 1\n",
    "        print(response)           \n",
    "else:\n",
    "    print(\"no word matches the pattern\")\n",
    "            \n",
    "            "
   ]
  },
  {
   "cell_type": "code",
   "execution_count": null,
   "id": "0b99e572",
   "metadata": {},
   "outputs": [],
   "source": []
  },
  {
   "cell_type": "code",
   "execution_count": null,
   "id": "70872c4c",
   "metadata": {},
   "outputs": [],
   "source": []
  }
 ],
 "metadata": {
  "kernelspec": {
   "display_name": "Python 3 (ipykernel)",
   "language": "python",
   "name": "python3"
  },
  "language_info": {
   "codemirror_mode": {
    "name": "ipython",
    "version": 3
   },
   "file_extension": ".py",
   "mimetype": "text/x-python",
   "name": "python",
   "nbconvert_exporter": "python",
   "pygments_lexer": "ipython3",
   "version": "3.11.4"
  }
 },
 "nbformat": 4,
 "nbformat_minor": 5
}
