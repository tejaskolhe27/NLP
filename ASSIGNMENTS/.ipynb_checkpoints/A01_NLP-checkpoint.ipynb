{
 "cells": [
  {
   "cell_type": "markdown",
   "id": "6dc07860",
   "metadata": {},
   "source": [
    "##  Question 1"
   ]
  },
  {
   "cell_type": "code",
   "execution_count": 45,
   "id": "6acd80cc",
   "metadata": {},
   "outputs": [],
   "source": [
    "### -------------------\n",
    "### Importing libraries\n",
    "### -------------------\n",
    "\n",
    "import numpy as np\n",
    "import string\n",
    "import regex as re\n",
    "\n",
    "from nltk.tokenize import word_tokenize, sent_tokenize"
   ]
  },
  {
   "cell_type": "code",
   "execution_count": 2,
   "id": "23a3d910",
   "metadata": {},
   "outputs": [],
   "source": [
    "sentence = 'They told that their ages are 23, 25 and 29 respectively.'"
   ]
  },
  {
   "cell_type": "markdown",
   "id": "d7c25812",
   "metadata": {},
   "source": [
    "### 1. Find the average of ages"
   ]
  },
  {
   "cell_type": "code",
   "execution_count": 3,
   "id": "14575428",
   "metadata": {},
   "outputs": [],
   "source": [
    "word_tk = word_tokenize(sentence)"
   ]
  },
  {
   "cell_type": "code",
   "execution_count": 4,
   "id": "a8f57e32",
   "metadata": {},
   "outputs": [
    {
     "data": {
      "text/plain": [
       "['They',\n",
       " 'told',\n",
       " 'that',\n",
       " 'their',\n",
       " 'ages',\n",
       " 'are',\n",
       " '23',\n",
       " ',',\n",
       " '25',\n",
       " 'and',\n",
       " '29',\n",
       " 'respectively',\n",
       " '.']"
      ]
     },
     "execution_count": 4,
     "metadata": {},
     "output_type": "execute_result"
    }
   ],
   "source": [
    "word_tk"
   ]
  },
  {
   "cell_type": "code",
   "execution_count": 5,
   "id": "49693928",
   "metadata": {},
   "outputs": [],
   "source": [
    "age = []\n",
    "for word in word_tk:  # iterating over the list\n",
    "    if word.isdigit():  # condition to check, if the element is digit \n",
    "        age.append(int(word))  "
   ]
  },
  {
   "cell_type": "code",
   "execution_count": 6,
   "id": "a0af87e7",
   "metadata": {},
   "outputs": [],
   "source": [
    "avg_age = sum(age) / len(age)"
   ]
  },
  {
   "cell_type": "code",
   "execution_count": 7,
   "id": "3450b1fe",
   "metadata": {},
   "outputs": [
    {
     "name": "stdout",
     "output_type": "stream",
     "text": [
      "Average age =  25.67\n"
     ]
    }
   ],
   "source": [
    "print('Average age = ',np.round(avg_age,2))"
   ]
  },
  {
   "cell_type": "markdown",
   "id": "40cf23a8",
   "metadata": {},
   "source": [
    "###  2. Count total number of words starts with 't' / 'T'"
   ]
  },
  {
   "cell_type": "code",
   "execution_count": 8,
   "id": "fdaa2602",
   "metadata": {},
   "outputs": [],
   "source": [
    "# iterating over the list of the elements\n",
    "count = 0\n",
    "\n",
    "cond = ['t','T']\n",
    "\n",
    "for element in word_tk:\n",
    "    if element.startswith('t') or element.startswith('T'):\n",
    "        count += 1"
   ]
  },
  {
   "cell_type": "code",
   "execution_count": 9,
   "id": "b2cedab6",
   "metadata": {},
   "outputs": [
    {
     "name": "stdout",
     "output_type": "stream",
     "text": [
      "Total no. of elements starting with t/T are  4\n"
     ]
    }
   ],
   "source": [
    "print('Total no. of elements starting with t/T are ',count)"
   ]
  },
  {
   "cell_type": "markdown",
   "id": "b042c71d",
   "metadata": {},
   "source": [
    "### 3. Count total punctuation symbols"
   ]
  },
  {
   "cell_type": "code",
   "execution_count": 10,
   "id": "3aad7532",
   "metadata": {},
   "outputs": [],
   "source": [
    "punc = string.punctuation"
   ]
  },
  {
   "cell_type": "code",
   "execution_count": 11,
   "id": "f3dcfaa8",
   "metadata": {},
   "outputs": [],
   "source": [
    "punc_count = 0\n",
    "\n",
    "for element in word_tk:\n",
    "    if element in punc:\n",
    "        punc_count += 1"
   ]
  },
  {
   "cell_type": "code",
   "execution_count": 12,
   "id": "39887c6f",
   "metadata": {},
   "outputs": [
    {
     "name": "stdout",
     "output_type": "stream",
     "text": [
      "Total number of the punctuation are  2\n"
     ]
    }
   ],
   "source": [
    "print('Total number of the punctuation are ',punc_count)"
   ]
  },
  {
   "cell_type": "markdown",
   "id": "bca8c19a",
   "metadata": {},
   "source": [
    "### 4. Print the words in capital letters which ends with 'd'"
   ]
  },
  {
   "cell_type": "code",
   "execution_count": 13,
   "id": "8d870457",
   "metadata": {},
   "outputs": [],
   "source": [
    "for i in range(len(word_tk)):\n",
    "    if word_tk[i].endswith('d'):\n",
    "        a = word_tk[i].upper()\n",
    "        word_tk[i] = a"
   ]
  },
  {
   "cell_type": "code",
   "execution_count": 14,
   "id": "71a04cab",
   "metadata": {},
   "outputs": [
    {
     "data": {
      "text/plain": [
       "['They',\n",
       " 'TOLD',\n",
       " 'that',\n",
       " 'their',\n",
       " 'ages',\n",
       " 'are',\n",
       " '23',\n",
       " ',',\n",
       " '25',\n",
       " 'AND',\n",
       " '29',\n",
       " 'respectively',\n",
       " '.']"
      ]
     },
     "execution_count": 14,
     "metadata": {},
     "output_type": "execute_result"
    }
   ],
   "source": [
    "word_tk"
   ]
  },
  {
   "cell_type": "markdown",
   "id": "b960cc36",
   "metadata": {},
   "source": [
    "### 5. Merge all the words and print (no puctuations)"
   ]
  },
  {
   "cell_type": "code",
   "execution_count": 15,
   "id": "9d9d2161",
   "metadata": {},
   "outputs": [],
   "source": [
    "lst = ['.',',',' ']"
   ]
  },
  {
   "cell_type": "code",
   "execution_count": 16,
   "id": "69ad4156",
   "metadata": {},
   "outputs": [],
   "source": [
    "for element in word_tk:\n",
    "    if element in lst:\n",
    "        word_tk.remove(element)"
   ]
  },
  {
   "cell_type": "code",
   "execution_count": 17,
   "id": "20787ee1",
   "metadata": {},
   "outputs": [],
   "source": [
    "a = ''.join(word_tk)"
   ]
  },
  {
   "cell_type": "code",
   "execution_count": 18,
   "id": "8dae9c9c",
   "metadata": {},
   "outputs": [
    {
     "name": "stdout",
     "output_type": "stream",
     "text": [
      "all merged word is  TheyTOLDthattheiragesare2325AND29respectively\n"
     ]
    }
   ],
   "source": [
    "print('all merged word is ', a)"
   ]
  },
  {
   "cell_type": "markdown",
   "id": "798dc390",
   "metadata": {},
   "source": [
    "#### Another method"
   ]
  },
  {
   "cell_type": "code",
   "execution_count": 19,
   "id": "f23ad6a1",
   "metadata": {},
   "outputs": [],
   "source": [
    "lst = []\n",
    "for element in word_tk:\n",
    "    if element.isalnum():\n",
    "        lst.append(element)"
   ]
  },
  {
   "cell_type": "code",
   "execution_count": 20,
   "id": "5e2f4529",
   "metadata": {},
   "outputs": [],
   "source": [
    "str1 = ''.join(lst)"
   ]
  },
  {
   "cell_type": "code",
   "execution_count": 21,
   "id": "e3ab150d",
   "metadata": {},
   "outputs": [
    {
     "data": {
      "text/plain": [
       "'TheyTOLDthattheiragesare2325AND29respectively'"
      ]
     },
     "execution_count": 21,
     "metadata": {},
     "output_type": "execute_result"
    }
   ],
   "source": [
    "str1"
   ]
  },
  {
   "cell_type": "markdown",
   "id": "2d4c83be",
   "metadata": {},
   "source": [
    "##  Question 2"
   ]
  },
  {
   "cell_type": "markdown",
   "id": "e5a843b6",
   "metadata": {},
   "source": [
    "###  Open the wikipedia page of indian flag and perform following analysis"
   ]
  },
  {
   "cell_type": "code",
   "execution_count": 22,
   "id": "34c4e65b",
   "metadata": {},
   "outputs": [],
   "source": [
    "text ='''The national flag of India, colloquially called Tiraṅgā (the tricolour), is a horizontal rectangular tricolour flag, the colours being of India saffron, white and India green; with the Ashoka Chakra, a 24-spoke wheel, in navy blue at its centre.[1][2] It was adopted in its present form during a meeting of the Constituent Assembly held on 22 July 1947, and it became the official flag of the Union of India on 15 August 1947. The flag was subsequently retained as that of the Republic of India. In India, the term \"tricolour\" almost always refers to the Indian national flag.\n",
    "\n",
    "The flag is based on the Swaraj flag, a flag of the Indian National Congress adopted by Mahatma Gandhi after making significant modifications to the design proposed by Pingali Venkayya.[3] This flag included charkha which was replaced with chakra in 1947 by Jawaharlal Nehru.[4]\n",
    "\n",
    "Before the amendment of the flag code in 2021, the flag was by law only to be made of khadi; a special type of hand-spun cloth or silk, made popular by Mahatma Gandhi. The manufacturing process and specifications for the flag are laid out by the Bureau of Indian Standards. The right to manufacture the flag is held by the Khadi Development and Village Industries Commission, which allocates it to regional groups. As of 2023, there are 4 units in India that are licensed to manufacture the flag.\n",
    "\n",
    "Usage of the flag is governed by the Flag Code of India and other laws relating to the national emblems. The original code prohibited use of the flag by private citizens except on national days such as the Independence day and the Republic Day. In 2002, on hearing an appeal from a private citizen, Naveen Jindal, the Supreme Court of India directed the Government of India to amend the code to allow flag usage by private citizens. Subsequently, the Union Cabinet of India amended the code to allow limited usage. The code was amended once more in 2005 to allow some additional use including adaptations on certain forms of clothing. The flag code also governs the protocol of flying the flag and its use in conjunction with other national and non-national flags.'''"
   ]
  },
  {
   "cell_type": "code",
   "execution_count": 23,
   "id": "ed93c537",
   "metadata": {},
   "outputs": [
    {
     "data": {
      "text/plain": [
       "['The',\n",
       " 'national',\n",
       " 'flag',\n",
       " 'of',\n",
       " 'India',\n",
       " ',',\n",
       " 'colloquially',\n",
       " 'called',\n",
       " 'Tiraṅgā',\n",
       " '(',\n",
       " 'the',\n",
       " 'tricolour',\n",
       " ')',\n",
       " ',',\n",
       " 'is',\n",
       " 'a',\n",
       " 'horizontal',\n",
       " 'rectangular',\n",
       " 'tricolour',\n",
       " 'flag',\n",
       " ',',\n",
       " 'the',\n",
       " 'colours',\n",
       " 'being',\n",
       " 'of',\n",
       " 'India',\n",
       " 'saffron',\n",
       " ',',\n",
       " 'white',\n",
       " 'and',\n",
       " 'India',\n",
       " 'green',\n",
       " ';',\n",
       " 'with',\n",
       " 'the',\n",
       " 'Ashoka',\n",
       " 'Chakra',\n",
       " ',',\n",
       " 'a',\n",
       " '24-spoke',\n",
       " 'wheel',\n",
       " ',',\n",
       " 'in',\n",
       " 'navy',\n",
       " 'blue',\n",
       " 'at',\n",
       " 'its',\n",
       " 'centre',\n",
       " '.',\n",
       " '[',\n",
       " '1',\n",
       " ']',\n",
       " '[',\n",
       " '2',\n",
       " ']',\n",
       " 'It',\n",
       " 'was',\n",
       " 'adopted',\n",
       " 'in',\n",
       " 'its',\n",
       " 'present',\n",
       " 'form',\n",
       " 'during',\n",
       " 'a',\n",
       " 'meeting',\n",
       " 'of',\n",
       " 'the',\n",
       " 'Constituent',\n",
       " 'Assembly',\n",
       " 'held',\n",
       " 'on',\n",
       " '22',\n",
       " 'July',\n",
       " '1947',\n",
       " ',',\n",
       " 'and',\n",
       " 'it',\n",
       " 'became',\n",
       " 'the',\n",
       " 'official',\n",
       " 'flag',\n",
       " 'of',\n",
       " 'the',\n",
       " 'Union',\n",
       " 'of',\n",
       " 'India',\n",
       " 'on',\n",
       " '15',\n",
       " 'August',\n",
       " '1947',\n",
       " '.',\n",
       " 'The',\n",
       " 'flag',\n",
       " 'was',\n",
       " 'subsequently',\n",
       " 'retained',\n",
       " 'as',\n",
       " 'that',\n",
       " 'of',\n",
       " 'the',\n",
       " 'Republic',\n",
       " 'of',\n",
       " 'India',\n",
       " '.',\n",
       " 'In',\n",
       " 'India',\n",
       " ',',\n",
       " 'the',\n",
       " 'term',\n",
       " '``',\n",
       " 'tricolour',\n",
       " \"''\",\n",
       " 'almost',\n",
       " 'always',\n",
       " 'refers',\n",
       " 'to',\n",
       " 'the',\n",
       " 'Indian',\n",
       " 'national',\n",
       " 'flag',\n",
       " '.',\n",
       " 'The',\n",
       " 'flag',\n",
       " 'is',\n",
       " 'based',\n",
       " 'on',\n",
       " 'the',\n",
       " 'Swaraj',\n",
       " 'flag',\n",
       " ',',\n",
       " 'a',\n",
       " 'flag',\n",
       " 'of',\n",
       " 'the',\n",
       " 'Indian',\n",
       " 'National',\n",
       " 'Congress',\n",
       " 'adopted',\n",
       " 'by',\n",
       " 'Mahatma',\n",
       " 'Gandhi',\n",
       " 'after',\n",
       " 'making',\n",
       " 'significant',\n",
       " 'modifications',\n",
       " 'to',\n",
       " 'the',\n",
       " 'design',\n",
       " 'proposed',\n",
       " 'by',\n",
       " 'Pingali',\n",
       " 'Venkayya',\n",
       " '.',\n",
       " '[',\n",
       " '3',\n",
       " ']',\n",
       " 'This',\n",
       " 'flag',\n",
       " 'included',\n",
       " 'charkha',\n",
       " 'which',\n",
       " 'was',\n",
       " 'replaced',\n",
       " 'with',\n",
       " 'chakra',\n",
       " 'in',\n",
       " '1947',\n",
       " 'by',\n",
       " 'Jawaharlal',\n",
       " 'Nehru',\n",
       " '.',\n",
       " '[',\n",
       " '4',\n",
       " ']',\n",
       " 'Before',\n",
       " 'the',\n",
       " 'amendment',\n",
       " 'of',\n",
       " 'the',\n",
       " 'flag',\n",
       " 'code',\n",
       " 'in',\n",
       " '2021',\n",
       " ',',\n",
       " 'the',\n",
       " 'flag',\n",
       " 'was',\n",
       " 'by',\n",
       " 'law',\n",
       " 'only',\n",
       " 'to',\n",
       " 'be',\n",
       " 'made',\n",
       " 'of',\n",
       " 'khadi',\n",
       " ';',\n",
       " 'a',\n",
       " 'special',\n",
       " 'type',\n",
       " 'of',\n",
       " 'hand-spun',\n",
       " 'cloth',\n",
       " 'or',\n",
       " 'silk',\n",
       " ',',\n",
       " 'made',\n",
       " 'popular',\n",
       " 'by',\n",
       " 'Mahatma',\n",
       " 'Gandhi',\n",
       " '.',\n",
       " 'The',\n",
       " 'manufacturing',\n",
       " 'process',\n",
       " 'and',\n",
       " 'specifications',\n",
       " 'for',\n",
       " 'the',\n",
       " 'flag',\n",
       " 'are',\n",
       " 'laid',\n",
       " 'out',\n",
       " 'by',\n",
       " 'the',\n",
       " 'Bureau',\n",
       " 'of',\n",
       " 'Indian',\n",
       " 'Standards',\n",
       " '.',\n",
       " 'The',\n",
       " 'right',\n",
       " 'to',\n",
       " 'manufacture',\n",
       " 'the',\n",
       " 'flag',\n",
       " 'is',\n",
       " 'held',\n",
       " 'by',\n",
       " 'the',\n",
       " 'Khadi',\n",
       " 'Development',\n",
       " 'and',\n",
       " 'Village',\n",
       " 'Industries',\n",
       " 'Commission',\n",
       " ',',\n",
       " 'which',\n",
       " 'allocates',\n",
       " 'it',\n",
       " 'to',\n",
       " 'regional',\n",
       " 'groups',\n",
       " '.',\n",
       " 'As',\n",
       " 'of',\n",
       " '2023',\n",
       " ',',\n",
       " 'there',\n",
       " 'are',\n",
       " '4',\n",
       " 'units',\n",
       " 'in',\n",
       " 'India',\n",
       " 'that',\n",
       " 'are',\n",
       " 'licensed',\n",
       " 'to',\n",
       " 'manufacture',\n",
       " 'the',\n",
       " 'flag',\n",
       " '.',\n",
       " 'Usage',\n",
       " 'of',\n",
       " 'the',\n",
       " 'flag',\n",
       " 'is',\n",
       " 'governed',\n",
       " 'by',\n",
       " 'the',\n",
       " 'Flag',\n",
       " 'Code',\n",
       " 'of',\n",
       " 'India',\n",
       " 'and',\n",
       " 'other',\n",
       " 'laws',\n",
       " 'relating',\n",
       " 'to',\n",
       " 'the',\n",
       " 'national',\n",
       " 'emblems',\n",
       " '.',\n",
       " 'The',\n",
       " 'original',\n",
       " 'code',\n",
       " 'prohibited',\n",
       " 'use',\n",
       " 'of',\n",
       " 'the',\n",
       " 'flag',\n",
       " 'by',\n",
       " 'private',\n",
       " 'citizens',\n",
       " 'except',\n",
       " 'on',\n",
       " 'national',\n",
       " 'days',\n",
       " 'such',\n",
       " 'as',\n",
       " 'the',\n",
       " 'Independence',\n",
       " 'day',\n",
       " 'and',\n",
       " 'the',\n",
       " 'Republic',\n",
       " 'Day',\n",
       " '.',\n",
       " 'In',\n",
       " '2002',\n",
       " ',',\n",
       " 'on',\n",
       " 'hearing',\n",
       " 'an',\n",
       " 'appeal',\n",
       " 'from',\n",
       " 'a',\n",
       " 'private',\n",
       " 'citizen',\n",
       " ',',\n",
       " 'Naveen',\n",
       " 'Jindal',\n",
       " ',',\n",
       " 'the',\n",
       " 'Supreme',\n",
       " 'Court',\n",
       " 'of',\n",
       " 'India',\n",
       " 'directed',\n",
       " 'the',\n",
       " 'Government',\n",
       " 'of',\n",
       " 'India',\n",
       " 'to',\n",
       " 'amend',\n",
       " 'the',\n",
       " 'code',\n",
       " 'to',\n",
       " 'allow',\n",
       " 'flag',\n",
       " 'usage',\n",
       " 'by',\n",
       " 'private',\n",
       " 'citizens',\n",
       " '.',\n",
       " 'Subsequently',\n",
       " ',',\n",
       " 'the',\n",
       " 'Union',\n",
       " 'Cabinet',\n",
       " 'of',\n",
       " 'India',\n",
       " 'amended',\n",
       " 'the',\n",
       " 'code',\n",
       " 'to',\n",
       " 'allow',\n",
       " 'limited',\n",
       " 'usage',\n",
       " '.',\n",
       " 'The',\n",
       " 'code',\n",
       " 'was',\n",
       " 'amended',\n",
       " 'once',\n",
       " 'more',\n",
       " 'in',\n",
       " '2005',\n",
       " 'to',\n",
       " 'allow',\n",
       " 'some',\n",
       " 'additional',\n",
       " 'use',\n",
       " 'including',\n",
       " 'adaptations',\n",
       " 'on',\n",
       " 'certain',\n",
       " 'forms',\n",
       " 'of',\n",
       " 'clothing',\n",
       " '.',\n",
       " 'The',\n",
       " 'flag',\n",
       " 'code',\n",
       " 'also',\n",
       " 'governs',\n",
       " 'the',\n",
       " 'protocol',\n",
       " 'of',\n",
       " 'flying',\n",
       " 'the',\n",
       " 'flag',\n",
       " 'and',\n",
       " 'its',\n",
       " 'use',\n",
       " 'in',\n",
       " 'conjunction',\n",
       " 'with',\n",
       " 'other',\n",
       " 'national',\n",
       " 'and',\n",
       " 'non-national',\n",
       " 'flags',\n",
       " '.']"
      ]
     },
     "execution_count": 23,
     "metadata": {},
     "output_type": "execute_result"
    }
   ],
   "source": [
    "wtk = word_tokenize(text)\n",
    "wtk"
   ]
  },
  {
   "cell_type": "code",
   "execution_count": 31,
   "id": "16a3a4b8",
   "metadata": {},
   "outputs": [],
   "source": [
    "open_count = wtk.count('[')\n",
    "\n",
    "for i in range(open_count):\n",
    "    a = re.search(r'\\[', text)\n",
    "    b = a.start()\n",
    "    text = text[:b] + text[b+3:] # concatinating string, without [] part"
   ]
  },
  {
   "cell_type": "code",
   "execution_count": 33,
   "id": "1dcd7542",
   "metadata": {},
   "outputs": [
    {
     "data": {
      "text/plain": [
       "'The national flag of India, colloquially called Tiraṅgā (the tricolour), is a horizontal rectangular tricolour flag, the colours being of India saffron, white and India green; with the Ashoka Chakra, a 24-spoke wheel, in navy blue at its centre. It was adopted in its present form during a meeting of the Constituent Assembly held on 22 July 1947, and it became the official flag of the Union of India on 15 August 1947. The flag was subsequently retained as that of the Republic of India. In India, the term \"tricolour\" almost always refers to the Indian national flag.\\n\\nThe flag is based on the Swaraj flag, a flag of the Indian National Congress adopted by Mahatma Gandhi after making significant modifications to the design proposed by Pingali Venkayya. This flag included charkha which was replaced with chakra in 1947 by Jawaharlal Nehru.\\n\\nBefore the amendment of the flag code in 2021, the flag was by law only to be made of khadi; a special type of hand-spun cloth or silk, made popular by Mahatma Gandhi. The manufacturing process and specifications for the flag are laid out by the Bureau of Indian Standards. The right to manufacture the flag is held by the Khadi Development and Village Industries Commission, which allocates it to regional groups. As of 2023, there are 4 units in India that are licensed to manufacture the flag.\\n\\nUsage of the flag is governed by the Flag Code of India and other laws relating to the national emblems. The original code prohibited use of the flag by private citizens except on national days such as the Independence day and the Republic Day. In 2002, on hearing an appeal from a private citizen, Naveen Jindal, the Supreme Court of India directed the Government of India to amend the code to allow flag usage by private citizens. Subsequently, the Union Cabinet of India amended the code to allow limited usage. The code was amended once more in 2005 to allow some additional use including adaptations on certain forms of clothing. The flag code also governs the protocol of flying the flag and its use in conjunction with other national and non-national flags.'"
      ]
     },
     "execution_count": 33,
     "metadata": {},
     "output_type": "execute_result"
    }
   ],
   "source": [
    "text"
   ]
  },
  {
   "cell_type": "code",
   "execution_count": 34,
   "id": "31b0e6d3",
   "metadata": {},
   "outputs": [
    {
     "data": {
      "text/plain": [
       "['The',\n",
       " 'national',\n",
       " 'flag',\n",
       " 'of',\n",
       " 'India',\n",
       " ',',\n",
       " 'colloquially',\n",
       " 'called',\n",
       " 'Tiraṅgā',\n",
       " '(',\n",
       " 'the',\n",
       " 'tricolour',\n",
       " ')',\n",
       " ',',\n",
       " 'is',\n",
       " 'a',\n",
       " 'horizontal',\n",
       " 'rectangular',\n",
       " 'tricolour',\n",
       " 'flag',\n",
       " ',',\n",
       " 'the',\n",
       " 'colours',\n",
       " 'being',\n",
       " 'of',\n",
       " 'India',\n",
       " 'saffron',\n",
       " ',',\n",
       " 'white',\n",
       " 'and',\n",
       " 'India',\n",
       " 'green',\n",
       " ';',\n",
       " 'with',\n",
       " 'the',\n",
       " 'Ashoka',\n",
       " 'Chakra',\n",
       " ',',\n",
       " 'a',\n",
       " '24-spoke',\n",
       " 'wheel',\n",
       " ',',\n",
       " 'in',\n",
       " 'navy',\n",
       " 'blue',\n",
       " 'at',\n",
       " 'its',\n",
       " 'centre',\n",
       " '.',\n",
       " 'It',\n",
       " 'was',\n",
       " 'adopted',\n",
       " 'in',\n",
       " 'its',\n",
       " 'present',\n",
       " 'form',\n",
       " 'during',\n",
       " 'a',\n",
       " 'meeting',\n",
       " 'of',\n",
       " 'the',\n",
       " 'Constituent',\n",
       " 'Assembly',\n",
       " 'held',\n",
       " 'on',\n",
       " '22',\n",
       " 'July',\n",
       " '1947',\n",
       " ',',\n",
       " 'and',\n",
       " 'it',\n",
       " 'became',\n",
       " 'the',\n",
       " 'official',\n",
       " 'flag',\n",
       " 'of',\n",
       " 'the',\n",
       " 'Union',\n",
       " 'of',\n",
       " 'India',\n",
       " 'on',\n",
       " '15',\n",
       " 'August',\n",
       " '1947',\n",
       " '.',\n",
       " 'The',\n",
       " 'flag',\n",
       " 'was',\n",
       " 'subsequently',\n",
       " 'retained',\n",
       " 'as',\n",
       " 'that',\n",
       " 'of',\n",
       " 'the',\n",
       " 'Republic',\n",
       " 'of',\n",
       " 'India',\n",
       " '.',\n",
       " 'In',\n",
       " 'India',\n",
       " ',',\n",
       " 'the',\n",
       " 'term',\n",
       " '``',\n",
       " 'tricolour',\n",
       " \"''\",\n",
       " 'almost',\n",
       " 'always',\n",
       " 'refers',\n",
       " 'to',\n",
       " 'the',\n",
       " 'Indian',\n",
       " 'national',\n",
       " 'flag',\n",
       " '.',\n",
       " 'The',\n",
       " 'flag',\n",
       " 'is',\n",
       " 'based',\n",
       " 'on',\n",
       " 'the',\n",
       " 'Swaraj',\n",
       " 'flag',\n",
       " ',',\n",
       " 'a',\n",
       " 'flag',\n",
       " 'of',\n",
       " 'the',\n",
       " 'Indian',\n",
       " 'National',\n",
       " 'Congress',\n",
       " 'adopted',\n",
       " 'by',\n",
       " 'Mahatma',\n",
       " 'Gandhi',\n",
       " 'after',\n",
       " 'making',\n",
       " 'significant',\n",
       " 'modifications',\n",
       " 'to',\n",
       " 'the',\n",
       " 'design',\n",
       " 'proposed',\n",
       " 'by',\n",
       " 'Pingali',\n",
       " 'Venkayya',\n",
       " '.',\n",
       " 'This',\n",
       " 'flag',\n",
       " 'included',\n",
       " 'charkha',\n",
       " 'which',\n",
       " 'was',\n",
       " 'replaced',\n",
       " 'with',\n",
       " 'chakra',\n",
       " 'in',\n",
       " '1947',\n",
       " 'by',\n",
       " 'Jawaharlal',\n",
       " 'Nehru',\n",
       " '.',\n",
       " 'Before',\n",
       " 'the',\n",
       " 'amendment',\n",
       " 'of',\n",
       " 'the',\n",
       " 'flag',\n",
       " 'code',\n",
       " 'in',\n",
       " '2021',\n",
       " ',',\n",
       " 'the',\n",
       " 'flag',\n",
       " 'was',\n",
       " 'by',\n",
       " 'law',\n",
       " 'only',\n",
       " 'to',\n",
       " 'be',\n",
       " 'made',\n",
       " 'of',\n",
       " 'khadi',\n",
       " ';',\n",
       " 'a',\n",
       " 'special',\n",
       " 'type',\n",
       " 'of',\n",
       " 'hand-spun',\n",
       " 'cloth',\n",
       " 'or',\n",
       " 'silk',\n",
       " ',',\n",
       " 'made',\n",
       " 'popular',\n",
       " 'by',\n",
       " 'Mahatma',\n",
       " 'Gandhi',\n",
       " '.',\n",
       " 'The',\n",
       " 'manufacturing',\n",
       " 'process',\n",
       " 'and',\n",
       " 'specifications',\n",
       " 'for',\n",
       " 'the',\n",
       " 'flag',\n",
       " 'are',\n",
       " 'laid',\n",
       " 'out',\n",
       " 'by',\n",
       " 'the',\n",
       " 'Bureau',\n",
       " 'of',\n",
       " 'Indian',\n",
       " 'Standards',\n",
       " '.',\n",
       " 'The',\n",
       " 'right',\n",
       " 'to',\n",
       " 'manufacture',\n",
       " 'the',\n",
       " 'flag',\n",
       " 'is',\n",
       " 'held',\n",
       " 'by',\n",
       " 'the',\n",
       " 'Khadi',\n",
       " 'Development',\n",
       " 'and',\n",
       " 'Village',\n",
       " 'Industries',\n",
       " 'Commission',\n",
       " ',',\n",
       " 'which',\n",
       " 'allocates',\n",
       " 'it',\n",
       " 'to',\n",
       " 'regional',\n",
       " 'groups',\n",
       " '.',\n",
       " 'As',\n",
       " 'of',\n",
       " '2023',\n",
       " ',',\n",
       " 'there',\n",
       " 'are',\n",
       " '4',\n",
       " 'units',\n",
       " 'in',\n",
       " 'India',\n",
       " 'that',\n",
       " 'are',\n",
       " 'licensed',\n",
       " 'to',\n",
       " 'manufacture',\n",
       " 'the',\n",
       " 'flag',\n",
       " '.',\n",
       " 'Usage',\n",
       " 'of',\n",
       " 'the',\n",
       " 'flag',\n",
       " 'is',\n",
       " 'governed',\n",
       " 'by',\n",
       " 'the',\n",
       " 'Flag',\n",
       " 'Code',\n",
       " 'of',\n",
       " 'India',\n",
       " 'and',\n",
       " 'other',\n",
       " 'laws',\n",
       " 'relating',\n",
       " 'to',\n",
       " 'the',\n",
       " 'national',\n",
       " 'emblems',\n",
       " '.',\n",
       " 'The',\n",
       " 'original',\n",
       " 'code',\n",
       " 'prohibited',\n",
       " 'use',\n",
       " 'of',\n",
       " 'the',\n",
       " 'flag',\n",
       " 'by',\n",
       " 'private',\n",
       " 'citizens',\n",
       " 'except',\n",
       " 'on',\n",
       " 'national',\n",
       " 'days',\n",
       " 'such',\n",
       " 'as',\n",
       " 'the',\n",
       " 'Independence',\n",
       " 'day',\n",
       " 'and',\n",
       " 'the',\n",
       " 'Republic',\n",
       " 'Day',\n",
       " '.',\n",
       " 'In',\n",
       " '2002',\n",
       " ',',\n",
       " 'on',\n",
       " 'hearing',\n",
       " 'an',\n",
       " 'appeal',\n",
       " 'from',\n",
       " 'a',\n",
       " 'private',\n",
       " 'citizen',\n",
       " ',',\n",
       " 'Naveen',\n",
       " 'Jindal',\n",
       " ',',\n",
       " 'the',\n",
       " 'Supreme',\n",
       " 'Court',\n",
       " 'of',\n",
       " 'India',\n",
       " 'directed',\n",
       " 'the',\n",
       " 'Government',\n",
       " 'of',\n",
       " 'India',\n",
       " 'to',\n",
       " 'amend',\n",
       " 'the',\n",
       " 'code',\n",
       " 'to',\n",
       " 'allow',\n",
       " 'flag',\n",
       " 'usage',\n",
       " 'by',\n",
       " 'private',\n",
       " 'citizens',\n",
       " '.',\n",
       " 'Subsequently',\n",
       " ',',\n",
       " 'the',\n",
       " 'Union',\n",
       " 'Cabinet',\n",
       " 'of',\n",
       " 'India',\n",
       " 'amended',\n",
       " 'the',\n",
       " 'code',\n",
       " 'to',\n",
       " 'allow',\n",
       " 'limited',\n",
       " 'usage',\n",
       " '.',\n",
       " 'The',\n",
       " 'code',\n",
       " 'was',\n",
       " 'amended',\n",
       " 'once',\n",
       " 'more',\n",
       " 'in',\n",
       " '2005',\n",
       " 'to',\n",
       " 'allow',\n",
       " 'some',\n",
       " 'additional',\n",
       " 'use',\n",
       " 'including',\n",
       " 'adaptations',\n",
       " 'on',\n",
       " 'certain',\n",
       " 'forms',\n",
       " 'of',\n",
       " 'clothing',\n",
       " '.',\n",
       " 'The',\n",
       " 'flag',\n",
       " 'code',\n",
       " 'also',\n",
       " 'governs',\n",
       " 'the',\n",
       " 'protocol',\n",
       " 'of',\n",
       " 'flying',\n",
       " 'the',\n",
       " 'flag',\n",
       " 'and',\n",
       " 'its',\n",
       " 'use',\n",
       " 'in',\n",
       " 'conjunction',\n",
       " 'with',\n",
       " 'other',\n",
       " 'national',\n",
       " 'and',\n",
       " 'non-national',\n",
       " 'flags',\n",
       " '.']"
      ]
     },
     "execution_count": 34,
     "metadata": {},
     "output_type": "execute_result"
    }
   ],
   "source": [
    "wtk = word_tokenize(text)\n",
    "wtk"
   ]
  },
  {
   "cell_type": "markdown",
   "id": "eb7ce332",
   "metadata": {},
   "source": [
    "###  1. Count total number of words"
   ]
  },
  {
   "cell_type": "code",
   "execution_count": 36,
   "id": "94d0e85b",
   "metadata": {},
   "outputs": [],
   "source": [
    "count = 0\n",
    "\n",
    "for element in wtk:\n",
    "    if element.isalnum():\n",
    "        count += 1"
   ]
  },
  {
   "cell_type": "code",
   "execution_count": 37,
   "id": "547f52b8",
   "metadata": {},
   "outputs": [
    {
     "name": "stdout",
     "output_type": "stream",
     "text": [
      "total number of words =  359\n"
     ]
    }
   ],
   "source": [
    "print('total number of words = ',count)"
   ]
  },
  {
   "cell_type": "markdown",
   "id": "e3009bac",
   "metadata": {},
   "source": [
    "### 2. count percentage of punctuation marks"
   ]
  },
  {
   "cell_type": "code",
   "execution_count": 38,
   "id": "7dc1a92b",
   "metadata": {},
   "outputs": [],
   "source": [
    "pun_count = 0\n",
    "\n",
    "for element in wtk:\n",
    "    if element in punc:\n",
    "        pun_count += 1"
   ]
  },
  {
   "cell_type": "code",
   "execution_count": 40,
   "id": "1800ba4d",
   "metadata": {},
   "outputs": [],
   "source": [
    "percent = pun_count*100/len(wtk)"
   ]
  },
  {
   "cell_type": "code",
   "execution_count": 43,
   "id": "ce1706b1",
   "metadata": {},
   "outputs": [
    {
     "name": "stdout",
     "output_type": "stream",
     "text": [
      "percentage of the punctuatin is =  9.23\n"
     ]
    }
   ],
   "source": [
    "print('percentage of the punctuatin is = ',np.round(percent,2))"
   ]
  },
  {
   "cell_type": "markdown",
   "id": "b08fd8da",
   "metadata": {},
   "source": [
    "### 3. Print total number of lines"
   ]
  },
  {
   "cell_type": "code",
   "execution_count": 50,
   "id": "521e8899",
   "metadata": {},
   "outputs": [],
   "source": [
    "sent_tnk = sent_tokenize(text)"
   ]
  },
  {
   "cell_type": "code",
   "execution_count": 51,
   "id": "9817ffa3",
   "metadata": {},
   "outputs": [
    {
     "name": "stdout",
     "output_type": "stream",
     "text": [
      "Total number of lines =  16\n"
     ]
    }
   ],
   "source": [
    "print('Total number of lines = ',len(sent_tnk))"
   ]
  },
  {
   "cell_type": "markdown",
   "id": "11574213",
   "metadata": {},
   "source": [
    "### 4. How many words are there in title case"
   ]
  },
  {
   "cell_type": "code",
   "execution_count": 52,
   "id": "cb8df975",
   "metadata": {},
   "outputs": [],
   "source": [
    "a = 'Titan'"
   ]
  },
  {
   "cell_type": "code",
   "execution_count": 53,
   "id": "8df4bc9c",
   "metadata": {},
   "outputs": [],
   "source": [
    "title_count = 0\n",
    "\n",
    "for element in wtk:\n",
    "    if element.istitle():\n",
    "        title_count += 1"
   ]
  },
  {
   "cell_type": "code",
   "execution_count": 54,
   "id": "5a930e1b",
   "metadata": {},
   "outputs": [
    {
     "name": "stdout",
     "output_type": "stream",
     "text": [
      "Total num. of words in title case =  69\n"
     ]
    }
   ],
   "source": [
    "print('Total num. of words in title case = ', title_count)"
   ]
  },
  {
   "cell_type": "markdown",
   "id": "bb395f02",
   "metadata": {},
   "source": [
    "### 5. Remove the numbers and print the text"
   ]
  },
  {
   "cell_type": "code",
   "execution_count": 55,
   "id": "15c43f23",
   "metadata": {},
   "outputs": [],
   "source": [
    "alpha_lst = []\n",
    "\n",
    "for element in wtk:\n",
    "    if element.isalpha():\n",
    "        alpha_lst.append(element)"
   ]
  },
  {
   "cell_type": "code",
   "execution_count": 58,
   "id": "51973eb5",
   "metadata": {},
   "outputs": [],
   "source": [
    "new_alpha_lst = ' '.join(alpha_lst)"
   ]
  },
  {
   "cell_type": "code",
   "execution_count": 59,
   "id": "91bbd5c1",
   "metadata": {},
   "outputs": [
    {
     "name": "stdout",
     "output_type": "stream",
     "text": [
      "The national flag of India colloquially called Tiraṅgā the tricolour is a horizontal rectangular tricolour flag the colours being of India saffron white and India green with the Ashoka Chakra a wheel in navy blue at its centre It was adopted in its present form during a meeting of the Constituent Assembly held on July and it became the official flag of the Union of India on August The flag was subsequently retained as that of the Republic of India In India the term tricolour almost always refers to the Indian national flag The flag is based on the Swaraj flag a flag of the Indian National Congress adopted by Mahatma Gandhi after making significant modifications to the design proposed by Pingali Venkayya This flag included charkha which was replaced with chakra in by Jawaharlal Nehru Before the amendment of the flag code in the flag was by law only to be made of khadi a special type of cloth or silk made popular by Mahatma Gandhi The manufacturing process and specifications for the flag are laid out by the Bureau of Indian Standards The right to manufacture the flag is held by the Khadi Development and Village Industries Commission which allocates it to regional groups As of there are units in India that are licensed to manufacture the flag Usage of the flag is governed by the Flag Code of India and other laws relating to the national emblems The original code prohibited use of the flag by private citizens except on national days such as the Independence day and the Republic Day In on hearing an appeal from a private citizen Naveen Jindal the Supreme Court of India directed the Government of India to amend the code to allow flag usage by private citizens Subsequently the Union Cabinet of India amended the code to allow limited usage The code was amended once more in to allow some additional use including adaptations on certain forms of clothing The flag code also governs the protocol of flying the flag and its use in conjunction with other national and flags\n"
     ]
    }
   ],
   "source": [
    "print(new_alpha_lst)"
   ]
  },
  {
   "cell_type": "code",
   "execution_count": 61,
   "id": "11ef4a52",
   "metadata": {},
   "outputs": [
    {
     "data": {
      "text/plain": [
       "349"
      ]
     },
     "execution_count": 61,
     "metadata": {},
     "output_type": "execute_result"
    }
   ],
   "source": [
    "len(alpha_lst)"
   ]
  },
  {
   "cell_type": "code",
   "execution_count": null,
   "id": "6a39e84d",
   "metadata": {},
   "outputs": [],
   "source": []
  }
 ],
 "metadata": {
  "kernelspec": {
   "display_name": "Python 3 (ipykernel)",
   "language": "python",
   "name": "python3"
  },
  "language_info": {
   "codemirror_mode": {
    "name": "ipython",
    "version": 3
   },
   "file_extension": ".py",
   "mimetype": "text/x-python",
   "name": "python",
   "nbconvert_exporter": "python",
   "pygments_lexer": "ipython3",
   "version": "3.11.4"
  }
 },
 "nbformat": 4,
 "nbformat_minor": 5
}
