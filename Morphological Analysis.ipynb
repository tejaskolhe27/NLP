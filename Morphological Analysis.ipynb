{
 "cells": [
  {
   "cell_type": "code",
   "execution_count": 10,
   "id": "b7d13326",
   "metadata": {
    "scrolled": true
   },
   "outputs": [
    {
     "name": "stdout",
     "output_type": "stream",
     "text": [
      "Requirement already satisfied: morfessor in /home/dai/anaconda3/lib/python3.11/site-packages (2.0.6)\n",
      "Collecting polyglot\n",
      "  Downloading polyglot-16.7.4.tar.gz (126 kB)\n",
      "\u001b[2K     \u001b[38;2;114;156;31m━━━━━━━━━━━━━━━━━━━━━━━━━━━━━━━━━━━━━\u001b[0m \u001b[32m126.3/126.3 kB\u001b[0m \u001b[31m796.8 kB/s\u001b[0m eta \u001b[36m0:00:00\u001b[0m[31m2.2 MB/s\u001b[0m eta \u001b[36m0:00:01\u001b[0m\n",
      "\u001b[?25h  Preparing metadata (setup.py) ... \u001b[?25ldone\n",
      "\u001b[?25hRequirement already satisfied: PyICU in /home/dai/anaconda3/lib/python3.11/site-packages (2.12)\n",
      "Requirement already satisfied: pycld2 in /home/dai/anaconda3/lib/python3.11/site-packages (0.41)\n",
      "Building wheels for collected packages: polyglot\n",
      "  Building wheel for polyglot (setup.py) ... \u001b[?25ldone\n",
      "\u001b[?25h  Created wheel for polyglot: filename=polyglot-16.7.4-py2.py3-none-any.whl size=52562 sha256=a7446feeb60078ae2067454bc224e64e8b345953ac735053148513a8938d57b2\n",
      "  Stored in directory: /home/dai/.cache/pip/wheels/70/e3/da/d2f524831513cedfe2a49e46a94028bf6f632f6ba172d6dead\n",
      "Successfully built polyglot\n",
      "Installing collected packages: polyglot\n",
      "Successfully installed polyglot-16.7.4\n"
     ]
    }
   ],
   "source": [
    "!pip install morfessor polyglot PyICU pycld2 -U"
   ]
  },
  {
   "cell_type": "code",
   "execution_count": 11,
   "id": "b7c6cc00",
   "metadata": {},
   "outputs": [
    {
     "name": "stdout",
     "output_type": "stream",
     "text": [
      "[polyglot_data] Downloading package morph2.en to\n",
      "[polyglot_data]     /home/dai/polyglot_data...\n",
      "[polyglot_data] Downloading package morph2.mr to\n",
      "[polyglot_data]     /home/dai/polyglot_data...\n"
     ]
    }
   ],
   "source": [
    "%%bash\n",
    "polyglot download morph2.en morph2.mr"
   ]
  },
  {
   "cell_type": "code",
   "execution_count": 20,
   "id": "ae7887e6",
   "metadata": {},
   "outputs": [
    {
     "name": "stdout",
     "output_type": "stream",
     "text": [
      "[polyglot_data] Downloading package morph2.de to\n",
      "[polyglot_data]     /home/dai/polyglot_data...\n"
     ]
    }
   ],
   "source": [
    "%%bash\n",
    "polyglot download morph2.de"
   ]
  },
  {
   "cell_type": "code",
   "execution_count": 15,
   "id": "65ab99a0",
   "metadata": {},
   "outputs": [
    {
     "name": "stdout",
     "output_type": "stream",
     "text": [
      "  1. Kapampangan                2. Italian                    3. Upper Sorbian            \n",
      "  4. Sakha                      5. Hindi                      6. French                   \n",
      "  7. Spanish; Castilian         8. Vietnamese                 9. Arabic                   \n",
      " 10. Macedonian                11. Pashto, Pushto            12. Bosnian-Croatian-Serbian \n",
      " 13. Egyptian Arabic           14. Norwegian Nynorsk         15. Sundanese                \n",
      " 16. Sicilian                  17. Azerbaijani               18. Bulgarian                \n",
      " 19. Yoruba                    20. Tajik                     21. Georgian                 \n",
      " 22. Tatar                     23. Galician                  24. Malagasy                 \n",
      " 25. Uighur, Uyghur            26. Amharic                   27. Venetian                 \n",
      " 28. Yiddish                   29. Norwegian                 30. Alemannic                \n",
      " 31. Estonian                  32. West Flemish              33. Divehi; Dhivehi; Mald... \n",
      " 34. Japanese                  35. Ilokano                   36. Haitian; Haitian Creole  \n",
      " 37. Belarusian                38. Greek, Modern             39. Ossetian, Ossetic        \n",
      " 40. Welsh                     41. Malayalam                 42. Albanian                 \n",
      " 43. Marathi (Marāṭhī)         44. Armenian                  45. Slovene                  \n",
      " 46. Korean                    47. Breton                    48. Irish                    \n",
      " 49. Luxembourgish, Letzeb...  50. Bengali                   51. Serbian                  \n",
      " 52. Fiji Hindi                53. Javanese                  54. Finnish                  \n",
      " 55. Gan Chinese               56. Kirghiz, Kyrgyz           57. Catalan; Valencian       \n",
      " 58. Quechua                   59. Croatian                  60. Dutch                    \n",
      " 61. Swedish                   62. Ido                       63. Tagalog                  \n",
      " 64. Sanskrit (Saṁskṛta)       65. Piedmontese language      66. Asturian                 \n",
      " 67. Danish                    68. Cebuano                   69. Western Frisian          \n",
      " 70. Kannada                   71. Scots                     72. Maltese                  \n",
      " 73. Swahili                   74. Limburgish, Limburgan...  75. Waray-Waray              \n",
      " 76. Lombard language          77. Uzbek                     78. Kurdish                  \n",
      " 79. Latvian                   80. Burmese                   81. Aragonese                \n",
      " 82. Volapük                   83. Northern Sami             84. Faroese                  \n",
      " 85. Kazakh                    86. Telugu                    87. Ukrainian                \n",
      " 88. Assamese                  89. Chuvash                   90. Silesian                 \n",
      " 91. Turkmen                   92. Romanian, Moldavian, ...  93. Persian                  \n",
      " 94. Tibetan Standard, Tib...  95. Latin                     96. Slovak                   \n",
      " 97. Sinhala, Sinhalese        98. Bavarian                  99. Icelandic                \n",
      "100. Mongolian                101. Walloon                  102. Portuguese               \n",
      "103. Urdu                     104. Gujarati                 105. Manx                     \n",
      "106. Tamil                    107. Khmer                    108. English                  \n",
      "109. Malay                    110. Chechen                  111. Bishnupriya Manipuri     \n",
      "112. Afrikaans                113. Basque                   114. Polish                   \n",
      "115. German                   116. Esperanto                117. Indonesian               \n",
      "118. Occitan                  119. Chinese                  120. Czech                    \n",
      "121. Hebrew (modern)          122. Romansh                  123. Lithuanian               \n",
      "124. Turkish                  125. Nepali                   126. Bosnian                  \n",
      "127. Interlingua              128. Zazaki                   129. Oriya                    \n",
      "130. Hungarian                131. Scottish Gaelic; Gaelic  132. Bashkir                  \n",
      "133. Thai                     134. Panjabi, Punjabi         135. Russian                  \n",
      "\n"
     ]
    }
   ],
   "source": [
    "from polyglot.downloader import downloader\n",
    "print(downloader.supported_languages_table(\"morph2\"))"
   ]
  },
  {
   "cell_type": "code",
   "execution_count": 12,
   "id": "a587f709",
   "metadata": {},
   "outputs": [],
   "source": [
    "from polyglot.text import Text, Word"
   ]
  },
  {
   "cell_type": "code",
   "execution_count": 14,
   "id": "75130337",
   "metadata": {},
   "outputs": [
    {
     "name": "stdout",
     "output_type": "stream",
     "text": [
      "cats \t\t ['cat', 's']\n",
      "computing \t\t ['com', 'put', 'ing']\n",
      "association \t\t ['associ', 'ation']\n",
      "programming \t\t ['program', 'ming']\n",
      "leadership \t\t ['leader', 'ship']\n",
      "miscommunication \t\t ['mis', 'communication']\n",
      "identifiable \t\t ['identif', 'i', 'able']\n",
      "psychologicaly \t\t ['psycho', 'logical', 'y']\n",
      "engineering \t\t ['engine', 'er', 'ing']\n",
      "tabular \t\t ['tab', 'ular']\n",
      "realistic \t\t ['real', 'istic']\n",
      "colorfulness \t\t ['color', 'ful', 'ness']\n"
     ]
    }
   ],
   "source": [
    "#ENGLISH\n",
    "words = ['cats','computing','association','programming','leadership','miscommunication',\n",
    "        'identifiable','psychologicaly','engineering','tabular','realistic','colorfulness']\n",
    "\n",
    "for w in words: \n",
    "    w = Word(w,language=\"en\")\n",
    "    print(w,'\\t\\t',w.morphemes)"
   ]
  },
  {
   "cell_type": "code",
   "execution_count": 16,
   "id": "3a718646",
   "metadata": {},
   "outputs": [
    {
     "name": "stdout",
     "output_type": "stream",
     "text": [
      "राष्ट्रवादी \t\t ['राष्ट्र', 'वादी']\n",
      "राजकारणाच्या \t\t ['राजकारण', 'ाच्या']\n",
      "वैयक्तिक \t\t ['वैयक्तिक']\n",
      "समारंभासाठी \t\t ['समारंभ', 'ासाठी']\n",
      "भाषणामुळे \t\t ['भाषण', 'ामुळे']\n",
      "विधानसभा \t\t ['विधान', 'सभा']\n",
      "मुख्यमंत्री \t\t ['मुख्यमंत्री']\n",
      "निवडणुकीत \t\t ['निवडणुक', 'ीत']\n",
      "वर्चस्वाला \t\t ['वर्चस्व', 'ाला']\n",
      "स्कँडलमध्ये \t\t ['स्क', 'ँ', 'ड', 'ल', 'मध्ये']\n",
      "भ्रष्टाचाराबद्दल \t\t ['भ्रष्टाचार', 'ाबद्दल']\n",
      "मुख्यमंत्रिपदाची \t\t ['मुख्य', 'मंत्रिपद', 'ाची']\n"
     ]
    }
   ],
   "source": [
    "#MARATHI\n",
    "words = ['राष्ट्रवादी','राजकारणाच्या','वैयक्तिक','समारंभासाठी','भाषणामुळे','विधानसभा',\n",
    "        'मुख्यमंत्री','निवडणुकीत','वर्चस्वाला','स्कँडलमध्ये','भ्रष्टाचाराबद्दल','मुख्यमंत्रिपदाची']\n",
    "\n",
    "for w in words: \n",
    "    w = Word(w,language=\"mr\")\n",
    "    print(w,'\\t\\t',w.morphemes)"
   ]
  },
  {
   "cell_type": "code",
   "execution_count": 21,
   "id": "67f38a57",
   "metadata": {},
   "outputs": [
    {
     "name": "stdout",
     "output_type": "stream",
     "text": [
      "Handschuh \t\t ['Hand', 'sch', 'uh']\n",
      "Haustürschlüssel \t\t ['Hau', 'stür', 'schlüsse', 'l']\n",
      "Zimmerservice \t\t ['Zimmer', 's', 'er', 'v', 'ice']\n"
     ]
    }
   ],
   "source": [
    "#GERMAN\n",
    "words = ['Handschuh','Haustürschlüssel','Zimmerservice']\n",
    "\n",
    "for w in words: \n",
    "    w = Word(w,language=\"de\")\n",
    "    print(w,'\\t\\t',w.morphemes)"
   ]
  },
  {
   "cell_type": "code",
   "execution_count": 26,
   "id": "f85eeedd",
   "metadata": {},
   "outputs": [],
   "source": [
    "blob = 'Wewillmeettoday.'\n",
    "text  = Text(blob)\n",
    "text.language=\"en\""
   ]
  },
  {
   "cell_type": "code",
   "execution_count": 27,
   "id": "ca917251",
   "metadata": {},
   "outputs": [
    {
     "data": {
      "text/plain": [
       "WordList(['We', 'will', 'meet', 'to', 'day', '.'])"
      ]
     },
     "execution_count": 27,
     "metadata": {},
     "output_type": "execute_result"
    }
   ],
   "source": [
    "text.morphemes"
   ]
  },
  {
   "cell_type": "code",
   "execution_count": 28,
   "id": "3e0cd70e",
   "metadata": {},
   "outputs": [
    {
     "data": {
      "text/plain": [
       "WordList(['We', 'will', 'we', 'will', 'rock', 'y', 'ou'])"
      ]
     },
     "execution_count": 28,
     "metadata": {},
     "output_type": "execute_result"
    }
   ],
   "source": [
    "blob = 'Wewillwewillrockyou'\n",
    "text  = Text(blob)\n",
    "text.language=\"en\"\n",
    "\n",
    "text.morphemes"
   ]
  },
  {
   "cell_type": "code",
   "execution_count": null,
   "id": "4d3e5354",
   "metadata": {},
   "outputs": [],
   "source": []
  }
 ],
 "metadata": {
  "kernelspec": {
   "display_name": "Python 3 (ipykernel)",
   "language": "python",
   "name": "python3"
  },
  "language_info": {
   "codemirror_mode": {
    "name": "ipython",
    "version": 3
   },
   "file_extension": ".py",
   "mimetype": "text/x-python",
   "name": "python",
   "nbconvert_exporter": "python",
   "pygments_lexer": "ipython3",
   "version": "3.11.4"
  }
 },
 "nbformat": 4,
 "nbformat_minor": 5
}
