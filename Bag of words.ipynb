{
 "cells": [
  {
   "cell_type": "code",
   "execution_count": 1,
   "id": "92b87726",
   "metadata": {},
   "outputs": [],
   "source": [
    "import numpy as np\n",
    "import pandas as pd\n",
    "from nltk.tokenize import word_tokenize"
   ]
  },
  {
   "cell_type": "code",
   "execution_count": 2,
   "id": "b67b22a9",
   "metadata": {},
   "outputs": [],
   "source": [
    "s1= \"The quick brown fox jumps over the lazy dog.\"\n",
    "s2= \"The cat chases the mouse and it squeaks loudely.\""
   ]
  },
  {
   "cell_type": "code",
   "execution_count": 3,
   "id": "73244cb9",
   "metadata": {},
   "outputs": [],
   "source": [
    "s1=s1.lower()\n",
    "s2=s2.lower()"
   ]
  },
  {
   "cell_type": "code",
   "execution_count": 4,
   "id": "8ba9db6c",
   "metadata": {},
   "outputs": [
    {
     "data": {
      "text/plain": [
       "['the', 'quick', 'brown', 'fox', 'jumps', 'over', 'the', 'lazy', 'dog', '.']"
      ]
     },
     "execution_count": 4,
     "metadata": {},
     "output_type": "execute_result"
    }
   ],
   "source": [
    "w1=word_tokenize(s1)\n",
    "w1"
   ]
  },
  {
   "cell_type": "code",
   "execution_count": 5,
   "id": "04437210",
   "metadata": {},
   "outputs": [
    {
     "data": {
      "text/plain": [
       "['the',\n",
       " 'cat',\n",
       " 'chases',\n",
       " 'the',\n",
       " 'mouse',\n",
       " 'and',\n",
       " 'it',\n",
       " 'squeaks',\n",
       " 'loudely',\n",
       " '.']"
      ]
     },
     "execution_count": 5,
     "metadata": {},
     "output_type": "execute_result"
    }
   ],
   "source": [
    "w2=word_tokenize(s2)\n",
    "w2"
   ]
  },
  {
   "cell_type": "code",
   "execution_count": 6,
   "id": "70dab709",
   "metadata": {},
   "outputs": [
    {
     "data": {
      "text/plain": [
       "{'.',\n",
       " 'and',\n",
       " 'brown',\n",
       " 'cat',\n",
       " 'chases',\n",
       " 'dog',\n",
       " 'fox',\n",
       " 'it',\n",
       " 'jumps',\n",
       " 'lazy',\n",
       " 'loudely',\n",
       " 'mouse',\n",
       " 'over',\n",
       " 'quick',\n",
       " 'squeaks',\n",
       " 'the'}"
      ]
     },
     "execution_count": 6,
     "metadata": {},
     "output_type": "execute_result"
    }
   ],
   "source": [
    "tokens = w1+w2\n",
    "tokens=set(tokens)\n",
    "tokens"
   ]
  },
  {
   "cell_type": "code",
   "execution_count": 7,
   "id": "78d48e87",
   "metadata": {},
   "outputs": [
    {
     "data": {
      "text/html": [
       "<div>\n",
       "<style scoped>\n",
       "    .dataframe tbody tr th:only-of-type {\n",
       "        vertical-align: middle;\n",
       "    }\n",
       "\n",
       "    .dataframe tbody tr th {\n",
       "        vertical-align: top;\n",
       "    }\n",
       "\n",
       "    .dataframe thead th {\n",
       "        text-align: right;\n",
       "    }\n",
       "</style>\n",
       "<table border=\"1\" class=\"dataframe\">\n",
       "  <thead>\n",
       "    <tr style=\"text-align: right;\">\n",
       "      <th></th>\n",
       "      <th>fox</th>\n",
       "      <th>jumps</th>\n",
       "      <th>.</th>\n",
       "      <th>quick</th>\n",
       "      <th>chases</th>\n",
       "      <th>cat</th>\n",
       "      <th>mouse</th>\n",
       "      <th>and</th>\n",
       "      <th>lazy</th>\n",
       "      <th>squeaks</th>\n",
       "      <th>over</th>\n",
       "      <th>it</th>\n",
       "      <th>loudely</th>\n",
       "      <th>the</th>\n",
       "      <th>dog</th>\n",
       "      <th>brown</th>\n",
       "    </tr>\n",
       "  </thead>\n",
       "  <tbody>\n",
       "    <tr>\n",
       "      <th>1</th>\n",
       "      <td>NaN</td>\n",
       "      <td>NaN</td>\n",
       "      <td>NaN</td>\n",
       "      <td>NaN</td>\n",
       "      <td>NaN</td>\n",
       "      <td>NaN</td>\n",
       "      <td>NaN</td>\n",
       "      <td>NaN</td>\n",
       "      <td>NaN</td>\n",
       "      <td>NaN</td>\n",
       "      <td>NaN</td>\n",
       "      <td>NaN</td>\n",
       "      <td>NaN</td>\n",
       "      <td>NaN</td>\n",
       "      <td>NaN</td>\n",
       "      <td>NaN</td>\n",
       "    </tr>\n",
       "    <tr>\n",
       "      <th>2</th>\n",
       "      <td>NaN</td>\n",
       "      <td>NaN</td>\n",
       "      <td>NaN</td>\n",
       "      <td>NaN</td>\n",
       "      <td>NaN</td>\n",
       "      <td>NaN</td>\n",
       "      <td>NaN</td>\n",
       "      <td>NaN</td>\n",
       "      <td>NaN</td>\n",
       "      <td>NaN</td>\n",
       "      <td>NaN</td>\n",
       "      <td>NaN</td>\n",
       "      <td>NaN</td>\n",
       "      <td>NaN</td>\n",
       "      <td>NaN</td>\n",
       "      <td>NaN</td>\n",
       "    </tr>\n",
       "  </tbody>\n",
       "</table>\n",
       "</div>"
      ],
      "text/plain": [
       "   fox jumps    . quick chases  cat mouse  and lazy squeaks over   it loudely  \\\n",
       "1  NaN   NaN  NaN   NaN    NaN  NaN   NaN  NaN  NaN     NaN  NaN  NaN     NaN   \n",
       "2  NaN   NaN  NaN   NaN    NaN  NaN   NaN  NaN  NaN     NaN  NaN  NaN     NaN   \n",
       "\n",
       "   the  dog brown  \n",
       "1  NaN  NaN   NaN  \n",
       "2  NaN  NaN   NaN  "
      ]
     },
     "execution_count": 7,
     "metadata": {},
     "output_type": "execute_result"
    }
   ],
   "source": [
    "df = pd.DataFrame(index=[1,2],columns=list(tokens))\n",
    "df"
   ]
  },
  {
   "cell_type": "code",
   "execution_count": 8,
   "id": "859411fa",
   "metadata": {},
   "outputs": [],
   "source": [
    "counts1 = [w1.count(x) for x in df.columns]\n",
    "counts2 = [w2.count(x) for x in df.columns]"
   ]
  },
  {
   "cell_type": "code",
   "execution_count": 9,
   "id": "92b27eab",
   "metadata": {},
   "outputs": [],
   "source": [
    "df.iloc[0,:] = counts1\n",
    "df.iloc[1,:] = counts2"
   ]
  },
  {
   "cell_type": "code",
   "execution_count": 10,
   "id": "6d80250d",
   "metadata": {},
   "outputs": [
    {
     "data": {
      "text/html": [
       "<div>\n",
       "<style scoped>\n",
       "    .dataframe tbody tr th:only-of-type {\n",
       "        vertical-align: middle;\n",
       "    }\n",
       "\n",
       "    .dataframe tbody tr th {\n",
       "        vertical-align: top;\n",
       "    }\n",
       "\n",
       "    .dataframe thead th {\n",
       "        text-align: right;\n",
       "    }\n",
       "</style>\n",
       "<table border=\"1\" class=\"dataframe\">\n",
       "  <thead>\n",
       "    <tr style=\"text-align: right;\">\n",
       "      <th></th>\n",
       "      <th>fox</th>\n",
       "      <th>jumps</th>\n",
       "      <th>.</th>\n",
       "      <th>quick</th>\n",
       "      <th>chases</th>\n",
       "      <th>cat</th>\n",
       "      <th>mouse</th>\n",
       "      <th>and</th>\n",
       "      <th>lazy</th>\n",
       "      <th>squeaks</th>\n",
       "      <th>over</th>\n",
       "      <th>it</th>\n",
       "      <th>loudely</th>\n",
       "      <th>the</th>\n",
       "      <th>dog</th>\n",
       "      <th>brown</th>\n",
       "    </tr>\n",
       "  </thead>\n",
       "  <tbody>\n",
       "    <tr>\n",
       "      <th>1</th>\n",
       "      <td>1</td>\n",
       "      <td>1</td>\n",
       "      <td>1</td>\n",
       "      <td>1</td>\n",
       "      <td>0</td>\n",
       "      <td>0</td>\n",
       "      <td>0</td>\n",
       "      <td>0</td>\n",
       "      <td>1</td>\n",
       "      <td>0</td>\n",
       "      <td>1</td>\n",
       "      <td>0</td>\n",
       "      <td>0</td>\n",
       "      <td>2</td>\n",
       "      <td>1</td>\n",
       "      <td>1</td>\n",
       "    </tr>\n",
       "    <tr>\n",
       "      <th>2</th>\n",
       "      <td>0</td>\n",
       "      <td>0</td>\n",
       "      <td>1</td>\n",
       "      <td>0</td>\n",
       "      <td>1</td>\n",
       "      <td>1</td>\n",
       "      <td>1</td>\n",
       "      <td>1</td>\n",
       "      <td>0</td>\n",
       "      <td>1</td>\n",
       "      <td>0</td>\n",
       "      <td>1</td>\n",
       "      <td>1</td>\n",
       "      <td>2</td>\n",
       "      <td>0</td>\n",
       "      <td>0</td>\n",
       "    </tr>\n",
       "  </tbody>\n",
       "</table>\n",
       "</div>"
      ],
      "text/plain": [
       "  fox jumps  . quick chases cat mouse and lazy squeaks over it loudely the  \\\n",
       "1   1     1  1     1      0   0     0   0    1       0    1  0       0   2   \n",
       "2   0     0  1     0      1   1     1   1    0       1    0  1       1   2   \n",
       "\n",
       "  dog brown  \n",
       "1   1     1  \n",
       "2   0     0  "
      ]
     },
     "execution_count": 10,
     "metadata": {},
     "output_type": "execute_result"
    }
   ],
   "source": [
    "df"
   ]
  },
  {
   "cell_type": "markdown",
   "id": "f543a7d0",
   "metadata": {},
   "source": [
    "## Count Vectorizer"
   ]
  },
  {
   "cell_type": "code",
   "execution_count": 11,
   "id": "03e2e777",
   "metadata": {},
   "outputs": [],
   "source": [
    "from sklearn.feature_extraction.text import CountVectorizer"
   ]
  },
  {
   "cell_type": "code",
   "execution_count": 12,
   "id": "8fb69bc3",
   "metadata": {},
   "outputs": [],
   "source": [
    "cv = CountVectorizer()"
   ]
  },
  {
   "cell_type": "code",
   "execution_count": 13,
   "id": "4305d5ef",
   "metadata": {},
   "outputs": [
    {
     "data": {
      "text/plain": [
       "<2x15 sparse matrix of type '<class 'numpy.int64'>'\n",
       "\twith 16 stored elements in Compressed Sparse Row format>"
      ]
     },
     "execution_count": 13,
     "metadata": {},
     "output_type": "execute_result"
    }
   ],
   "source": [
    "vect_data = cv.fit_transform([s1,s2])\n",
    "vect_data"
   ]
  },
  {
   "cell_type": "code",
   "execution_count": 14,
   "id": "2c2dee24",
   "metadata": {},
   "outputs": [
    {
     "data": {
      "text/plain": [
       "array([[0, 1, 0, 0, 1, 1, 0, 1, 1, 0, 0, 1, 1, 0, 2],\n",
       "       [1, 0, 1, 1, 0, 0, 1, 0, 0, 1, 1, 0, 0, 1, 2]])"
      ]
     },
     "execution_count": 14,
     "metadata": {},
     "output_type": "execute_result"
    }
   ],
   "source": [
    "vect_data.toarray()"
   ]
  },
  {
   "cell_type": "code",
   "execution_count": 15,
   "id": "79529054",
   "metadata": {},
   "outputs": [
    {
     "data": {
      "text/plain": [
       "array(['and', 'brown', 'cat', 'chases', 'dog', 'fox', 'it', 'jumps',\n",
       "       'lazy', 'loudely', 'mouse', 'over', 'quick', 'squeaks', 'the'],\n",
       "      dtype=object)"
      ]
     },
     "execution_count": 15,
     "metadata": {},
     "output_type": "execute_result"
    }
   ],
   "source": [
    "cv.get_feature_names_out()"
   ]
  },
  {
   "cell_type": "code",
   "execution_count": 16,
   "id": "e757789b",
   "metadata": {},
   "outputs": [
    {
     "data": {
      "text/html": [
       "<div>\n",
       "<style scoped>\n",
       "    .dataframe tbody tr th:only-of-type {\n",
       "        vertical-align: middle;\n",
       "    }\n",
       "\n",
       "    .dataframe tbody tr th {\n",
       "        vertical-align: top;\n",
       "    }\n",
       "\n",
       "    .dataframe thead th {\n",
       "        text-align: right;\n",
       "    }\n",
       "</style>\n",
       "<table border=\"1\" class=\"dataframe\">\n",
       "  <thead>\n",
       "    <tr style=\"text-align: right;\">\n",
       "      <th></th>\n",
       "      <th>and</th>\n",
       "      <th>brown</th>\n",
       "      <th>cat</th>\n",
       "      <th>chases</th>\n",
       "      <th>dog</th>\n",
       "      <th>fox</th>\n",
       "      <th>it</th>\n",
       "      <th>jumps</th>\n",
       "      <th>lazy</th>\n",
       "      <th>loudely</th>\n",
       "      <th>mouse</th>\n",
       "      <th>over</th>\n",
       "      <th>quick</th>\n",
       "      <th>squeaks</th>\n",
       "      <th>the</th>\n",
       "    </tr>\n",
       "  </thead>\n",
       "  <tbody>\n",
       "    <tr>\n",
       "      <th>0</th>\n",
       "      <td>0</td>\n",
       "      <td>1</td>\n",
       "      <td>0</td>\n",
       "      <td>0</td>\n",
       "      <td>1</td>\n",
       "      <td>1</td>\n",
       "      <td>0</td>\n",
       "      <td>1</td>\n",
       "      <td>1</td>\n",
       "      <td>0</td>\n",
       "      <td>0</td>\n",
       "      <td>1</td>\n",
       "      <td>1</td>\n",
       "      <td>0</td>\n",
       "      <td>2</td>\n",
       "    </tr>\n",
       "    <tr>\n",
       "      <th>1</th>\n",
       "      <td>1</td>\n",
       "      <td>0</td>\n",
       "      <td>1</td>\n",
       "      <td>1</td>\n",
       "      <td>0</td>\n",
       "      <td>0</td>\n",
       "      <td>1</td>\n",
       "      <td>0</td>\n",
       "      <td>0</td>\n",
       "      <td>1</td>\n",
       "      <td>1</td>\n",
       "      <td>0</td>\n",
       "      <td>0</td>\n",
       "      <td>1</td>\n",
       "      <td>2</td>\n",
       "    </tr>\n",
       "  </tbody>\n",
       "</table>\n",
       "</div>"
      ],
      "text/plain": [
       "   and  brown  cat  chases  dog  fox  it  jumps  lazy  loudely  mouse  over  \\\n",
       "0    0      1    0       0    1    1   0      1     1        0      0     1   \n",
       "1    1      0    1       1    0    0   1      0     0        1      1     0   \n",
       "\n",
       "   quick  squeaks  the  \n",
       "0      1        0    2  \n",
       "1      0        1    2  "
      ]
     },
     "execution_count": 16,
     "metadata": {},
     "output_type": "execute_result"
    }
   ],
   "source": [
    "df = pd.DataFrame(vect_data.toarray(),\n",
    "                 columns=cv.get_feature_names_out())\n",
    "df"
   ]
  },
  {
   "cell_type": "code",
   "execution_count": 17,
   "id": "b14a5730",
   "metadata": {},
   "outputs": [],
   "source": [
    "# Adding a new sentence\n",
    "s3 = \"The lazy cat jumps over the dog.\""
   ]
  },
  {
   "cell_type": "code",
   "execution_count": 18,
   "id": "26730f49",
   "metadata": {},
   "outputs": [
    {
     "data": {
      "text/plain": [
       "<3x15 sparse matrix of type '<class 'numpy.int64'>'\n",
       "\twith 22 stored elements in Compressed Sparse Row format>"
      ]
     },
     "execution_count": 18,
     "metadata": {},
     "output_type": "execute_result"
    }
   ],
   "source": [
    "vect_data1 = cv.fit_transform([s1,s2,s3])\n",
    "vect_data1"
   ]
  },
  {
   "cell_type": "code",
   "execution_count": 19,
   "id": "76941d05",
   "metadata": {},
   "outputs": [
    {
     "data": {
      "text/html": [
       "<div>\n",
       "<style scoped>\n",
       "    .dataframe tbody tr th:only-of-type {\n",
       "        vertical-align: middle;\n",
       "    }\n",
       "\n",
       "    .dataframe tbody tr th {\n",
       "        vertical-align: top;\n",
       "    }\n",
       "\n",
       "    .dataframe thead th {\n",
       "        text-align: right;\n",
       "    }\n",
       "</style>\n",
       "<table border=\"1\" class=\"dataframe\">\n",
       "  <thead>\n",
       "    <tr style=\"text-align: right;\">\n",
       "      <th></th>\n",
       "      <th>and</th>\n",
       "      <th>brown</th>\n",
       "      <th>cat</th>\n",
       "      <th>chases</th>\n",
       "      <th>dog</th>\n",
       "      <th>fox</th>\n",
       "      <th>it</th>\n",
       "      <th>jumps</th>\n",
       "      <th>lazy</th>\n",
       "      <th>loudely</th>\n",
       "      <th>mouse</th>\n",
       "      <th>over</th>\n",
       "      <th>quick</th>\n",
       "      <th>squeaks</th>\n",
       "      <th>the</th>\n",
       "    </tr>\n",
       "  </thead>\n",
       "  <tbody>\n",
       "    <tr>\n",
       "      <th>0</th>\n",
       "      <td>0</td>\n",
       "      <td>1</td>\n",
       "      <td>0</td>\n",
       "      <td>0</td>\n",
       "      <td>1</td>\n",
       "      <td>1</td>\n",
       "      <td>0</td>\n",
       "      <td>1</td>\n",
       "      <td>1</td>\n",
       "      <td>0</td>\n",
       "      <td>0</td>\n",
       "      <td>1</td>\n",
       "      <td>1</td>\n",
       "      <td>0</td>\n",
       "      <td>2</td>\n",
       "    </tr>\n",
       "    <tr>\n",
       "      <th>1</th>\n",
       "      <td>1</td>\n",
       "      <td>0</td>\n",
       "      <td>1</td>\n",
       "      <td>1</td>\n",
       "      <td>0</td>\n",
       "      <td>0</td>\n",
       "      <td>1</td>\n",
       "      <td>0</td>\n",
       "      <td>0</td>\n",
       "      <td>1</td>\n",
       "      <td>1</td>\n",
       "      <td>0</td>\n",
       "      <td>0</td>\n",
       "      <td>1</td>\n",
       "      <td>2</td>\n",
       "    </tr>\n",
       "    <tr>\n",
       "      <th>2</th>\n",
       "      <td>0</td>\n",
       "      <td>0</td>\n",
       "      <td>1</td>\n",
       "      <td>0</td>\n",
       "      <td>1</td>\n",
       "      <td>0</td>\n",
       "      <td>0</td>\n",
       "      <td>1</td>\n",
       "      <td>1</td>\n",
       "      <td>0</td>\n",
       "      <td>0</td>\n",
       "      <td>1</td>\n",
       "      <td>0</td>\n",
       "      <td>0</td>\n",
       "      <td>2</td>\n",
       "    </tr>\n",
       "  </tbody>\n",
       "</table>\n",
       "</div>"
      ],
      "text/plain": [
       "   and  brown  cat  chases  dog  fox  it  jumps  lazy  loudely  mouse  over  \\\n",
       "0    0      1    0       0    1    1   0      1     1        0      0     1   \n",
       "1    1      0    1       1    0    0   1      0     0        1      1     0   \n",
       "2    0      0    1       0    1    0   0      1     1        0      0     1   \n",
       "\n",
       "   quick  squeaks  the  \n",
       "0      1        0    2  \n",
       "1      0        1    2  \n",
       "2      0        0    2  "
      ]
     },
     "execution_count": 19,
     "metadata": {},
     "output_type": "execute_result"
    }
   ],
   "source": [
    "df1 = pd.DataFrame(vect_data1.toarray(),\n",
    "                 columns=cv.get_feature_names_out())\n",
    "df1"
   ]
  },
  {
   "cell_type": "markdown",
   "id": "039d694e",
   "metadata": {},
   "source": [
    "## Getting file from local machine and vectorizing it"
   ]
  },
  {
   "cell_type": "code",
   "execution_count": 47,
   "id": "060cf856",
   "metadata": {},
   "outputs": [],
   "source": [
    "file = open('india.txt')\n",
    "data = file.readlines()"
   ]
  },
  {
   "cell_type": "code",
   "execution_count": 48,
   "id": "848beeef",
   "metadata": {},
   "outputs": [
    {
     "data": {
      "text/plain": [
       "['1.India, officially the Republic of India is a country in South Asia. \\n',\n",
       " \"2.It is the seventh-largest country by area; the most populous country as of June 2023; and from the time of its independence in 1947, the world's most populous democracy.\\n\",\n",
       " '3.Bounded by the Indian Ocean on the south, the Arabian Sea on the southwest, and the Bay of Bengal on the southeast, it shares land borders with Pakistan to the west; China, Nepal, and Bhutan to the north; and Bangladesh and Myanmar to the east. \\n',\n",
       " '4.In the Indian Ocean, India is in the vicinity of Sri Lanka and the Maldives; its Andaman and Nicobar Islands share a maritime border with Thailand, Myanmar, and Indonesia.\\n']"
      ]
     },
     "execution_count": 48,
     "metadata": {},
     "output_type": "execute_result"
    }
   ],
   "source": [
    "data"
   ]
  },
  {
   "cell_type": "code",
   "execution_count": 49,
   "id": "c4cfdd83",
   "metadata": {},
   "outputs": [],
   "source": [
    "cv_india = CountVectorizer()"
   ]
  },
  {
   "cell_type": "code",
   "execution_count": 50,
   "id": "32f883ac",
   "metadata": {},
   "outputs": [],
   "source": [
    "vector_data = cv_india.fit_transform(data)"
   ]
  },
  {
   "cell_type": "code",
   "execution_count": 51,
   "id": "8125a2fd",
   "metadata": {},
   "outputs": [
    {
     "data": {
      "text/html": [
       "<div>\n",
       "<style scoped>\n",
       "    .dataframe tbody tr th:only-of-type {\n",
       "        vertical-align: middle;\n",
       "    }\n",
       "\n",
       "    .dataframe tbody tr th {\n",
       "        vertical-align: top;\n",
       "    }\n",
       "\n",
       "    .dataframe thead th {\n",
       "        text-align: right;\n",
       "    }\n",
       "</style>\n",
       "<table border=\"1\" class=\"dataframe\">\n",
       "  <thead>\n",
       "    <tr style=\"text-align: right;\">\n",
       "      <th></th>\n",
       "      <th>1947</th>\n",
       "      <th>2023</th>\n",
       "      <th>and</th>\n",
       "      <th>andaman</th>\n",
       "      <th>arabian</th>\n",
       "      <th>area</th>\n",
       "      <th>as</th>\n",
       "      <th>asia</th>\n",
       "      <th>bangladesh</th>\n",
       "      <th>bay</th>\n",
       "      <th>...</th>\n",
       "      <th>southwest</th>\n",
       "      <th>sri</th>\n",
       "      <th>thailand</th>\n",
       "      <th>the</th>\n",
       "      <th>time</th>\n",
       "      <th>to</th>\n",
       "      <th>vicinity</th>\n",
       "      <th>west</th>\n",
       "      <th>with</th>\n",
       "      <th>world</th>\n",
       "    </tr>\n",
       "  </thead>\n",
       "  <tbody>\n",
       "    <tr>\n",
       "      <th>0</th>\n",
       "      <td>0</td>\n",
       "      <td>0</td>\n",
       "      <td>0</td>\n",
       "      <td>0</td>\n",
       "      <td>0</td>\n",
       "      <td>0</td>\n",
       "      <td>0</td>\n",
       "      <td>1</td>\n",
       "      <td>0</td>\n",
       "      <td>0</td>\n",
       "      <td>...</td>\n",
       "      <td>0</td>\n",
       "      <td>0</td>\n",
       "      <td>0</td>\n",
       "      <td>1</td>\n",
       "      <td>0</td>\n",
       "      <td>0</td>\n",
       "      <td>0</td>\n",
       "      <td>0</td>\n",
       "      <td>0</td>\n",
       "      <td>0</td>\n",
       "    </tr>\n",
       "    <tr>\n",
       "      <th>1</th>\n",
       "      <td>1</td>\n",
       "      <td>1</td>\n",
       "      <td>1</td>\n",
       "      <td>0</td>\n",
       "      <td>0</td>\n",
       "      <td>1</td>\n",
       "      <td>1</td>\n",
       "      <td>0</td>\n",
       "      <td>0</td>\n",
       "      <td>0</td>\n",
       "      <td>...</td>\n",
       "      <td>0</td>\n",
       "      <td>0</td>\n",
       "      <td>0</td>\n",
       "      <td>4</td>\n",
       "      <td>1</td>\n",
       "      <td>0</td>\n",
       "      <td>0</td>\n",
       "      <td>0</td>\n",
       "      <td>0</td>\n",
       "      <td>1</td>\n",
       "    </tr>\n",
       "    <tr>\n",
       "      <th>2</th>\n",
       "      <td>0</td>\n",
       "      <td>0</td>\n",
       "      <td>4</td>\n",
       "      <td>0</td>\n",
       "      <td>1</td>\n",
       "      <td>0</td>\n",
       "      <td>0</td>\n",
       "      <td>0</td>\n",
       "      <td>1</td>\n",
       "      <td>1</td>\n",
       "      <td>...</td>\n",
       "      <td>1</td>\n",
       "      <td>0</td>\n",
       "      <td>0</td>\n",
       "      <td>9</td>\n",
       "      <td>0</td>\n",
       "      <td>3</td>\n",
       "      <td>0</td>\n",
       "      <td>1</td>\n",
       "      <td>1</td>\n",
       "      <td>0</td>\n",
       "    </tr>\n",
       "    <tr>\n",
       "      <th>3</th>\n",
       "      <td>0</td>\n",
       "      <td>0</td>\n",
       "      <td>3</td>\n",
       "      <td>1</td>\n",
       "      <td>0</td>\n",
       "      <td>0</td>\n",
       "      <td>0</td>\n",
       "      <td>0</td>\n",
       "      <td>0</td>\n",
       "      <td>0</td>\n",
       "      <td>...</td>\n",
       "      <td>0</td>\n",
       "      <td>1</td>\n",
       "      <td>1</td>\n",
       "      <td>3</td>\n",
       "      <td>0</td>\n",
       "      <td>0</td>\n",
       "      <td>1</td>\n",
       "      <td>0</td>\n",
       "      <td>1</td>\n",
       "      <td>0</td>\n",
       "    </tr>\n",
       "  </tbody>\n",
       "</table>\n",
       "<p>4 rows × 64 columns</p>\n",
       "</div>"
      ],
      "text/plain": [
       "   1947  2023  and  andaman  arabian  area  as  asia  bangladesh  bay  ...  \\\n",
       "0     0     0    0        0        0     0   0     1           0    0  ...   \n",
       "1     1     1    1        0        0     1   1     0           0    0  ...   \n",
       "2     0     0    4        0        1     0   0     0           1    1  ...   \n",
       "3     0     0    3        1        0     0   0     0           0    0  ...   \n",
       "\n",
       "   southwest  sri  thailand  the  time  to  vicinity  west  with  world  \n",
       "0          0    0         0    1     0   0         0     0     0      0  \n",
       "1          0    0         0    4     1   0         0     0     0      1  \n",
       "2          1    0         0    9     0   3         0     1     1      0  \n",
       "3          0    1         1    3     0   0         1     0     1      0  \n",
       "\n",
       "[4 rows x 64 columns]"
      ]
     },
     "execution_count": 51,
     "metadata": {},
     "output_type": "execute_result"
    }
   ],
   "source": [
    "df = pd.DataFrame(vector_data.toarray(),\n",
    "                 columns=cv_india.get_feature_names_out())\n",
    "df"
   ]
  },
  {
   "cell_type": "code",
   "execution_count": null,
   "id": "d12da4c0",
   "metadata": {},
   "outputs": [],
   "source": []
  }
 ],
 "metadata": {
  "kernelspec": {
   "display_name": "Python 3 (ipykernel)",
   "language": "python",
   "name": "python3"
  },
  "language_info": {
   "codemirror_mode": {
    "name": "ipython",
    "version": 3
   },
   "file_extension": ".py",
   "mimetype": "text/x-python",
   "name": "python",
   "nbconvert_exporter": "python",
   "pygments_lexer": "ipython3",
   "version": "3.11.4"
  }
 },
 "nbformat": 4,
 "nbformat_minor": 5
}
