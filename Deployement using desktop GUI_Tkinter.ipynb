{
 "cells": [
  {
   "cell_type": "code",
   "execution_count": 1,
   "id": "c4dadc8d",
   "metadata": {},
   "outputs": [],
   "source": [
    "from tkinter import *"
   ]
  },
  {
   "cell_type": "markdown",
   "id": "952c6ca1",
   "metadata": {},
   "source": [
    "### Basic Window"
   ]
  },
  {
   "cell_type": "code",
   "execution_count": 2,
   "id": "e67104cc",
   "metadata": {},
   "outputs": [],
   "source": [
    "top = Tk()\n",
    "top.mainloop()"
   ]
  },
  {
   "cell_type": "markdown",
   "id": "e37b86c4",
   "metadata": {},
   "source": [
    "### Title and size"
   ]
  },
  {
   "cell_type": "code",
   "execution_count": 5,
   "id": "7747247c",
   "metadata": {},
   "outputs": [],
   "source": [
    "top = Tk()\n",
    "top.title(\"My first application\")        # Title of the window\n",
    "top.geometry('400x400')                  # Size of the window\n",
    "top.mainloop()"
   ]
  },
  {
   "cell_type": "markdown",
   "id": "8af108ba",
   "metadata": {},
   "source": [
    "### Add the widgets"
   ]
  },
  {
   "cell_type": "code",
   "execution_count": 11,
   "id": "cc966404",
   "metadata": {},
   "outputs": [],
   "source": [
    "top = Tk()\n",
    "top.title(\"My first application\")\n",
    "top.geometry('400x400')\n",
    "\n",
    "l = Label(top,text='Hello World')\n",
    "t = Entry(top)\n",
    "b = Button(top,text='Submit')\n",
    "\n",
    "l.pack()\n",
    "t.pack()\n",
    "b.pack()\n",
    "top.mainloop()"
   ]
  },
  {
   "cell_type": "markdown",
   "id": "92c53144",
   "metadata": {},
   "source": [
    "### Event Handling"
   ]
  },
  {
   "cell_type": "code",
   "execution_count": 49,
   "id": "ad027958",
   "metadata": {},
   "outputs": [],
   "source": [
    "top = Tk()\n",
    "top.title(\"My first application\")\n",
    "top.geometry('400x400')\n",
    "\n",
    "def find():\n",
    "    n = num.get()\n",
    "    print(\"Square is: \",n*n)\n",
    "\n",
    "\n",
    "num = IntVar()\n",
    "\n",
    "l = Label(top, text='Enter a number')\n",
    "t = Entry(top, textvariable=num)\n",
    "b = Button(top, text='Find Square', command=find)\n",
    "\n",
    "l.pack()\n",
    "t.pack()\n",
    "b.pack()\n",
    "top.mainloop()"
   ]
  },
  {
   "cell_type": "markdown",
   "id": "74b1a96f",
   "metadata": {},
   "source": [
    "### adding result on the window"
   ]
  },
  {
   "cell_type": "code",
   "execution_count": 41,
   "id": "c5e78915",
   "metadata": {},
   "outputs": [],
   "source": [
    "top = Tk()\n",
    "top.title(\"My first application\")\n",
    "top.geometry('400x400')\n",
    "\n",
    "def find():\n",
    "    try:\n",
    "        n = num.get()\n",
    "        result.config(text='Square is: %d' %(n*n))\n",
    "    except Exception as e:\n",
    "        error = Label(text = \"Error is: %s\" %(e))\n",
    "        error.pack()\n",
    "\n",
    "num = IntVar()\n",
    "\n",
    "l = Label(top, text='Enter a number')\n",
    "t = Entry(top, textvariable=num)\n",
    "b = Button(top, text='Find Square', command=find)\n",
    "result = Label(text = 'Square is ')\n",
    "\n",
    "l.pack()\n",
    "t.pack()\n",
    "b.pack()\n",
    "result.pack()\n",
    "top.mainloop()"
   ]
  },
  {
   "cell_type": "markdown",
   "id": "ad992169",
   "metadata": {},
   "source": [
    "### Binding"
   ]
  },
  {
   "cell_type": "code",
   "execution_count": 50,
   "id": "4ee6417f",
   "metadata": {},
   "outputs": [],
   "source": [
    "top = Tk()\n",
    "top.title(\"My first application\")\n",
    "top.geometry('400x400')\n",
    "\n",
    "def find(event):\n",
    "    try:\n",
    "        n = num.get()\n",
    "        result.config(text='Square is: %d' %(n*n))\n",
    "    except Exception as e:\n",
    "        error.config(text = \"Error is : %s\" %(e))\n",
    "\n",
    "num = IntVar()\n",
    "\n",
    "l = Label(top, text='Enter a number')\n",
    "t = Entry(top, textvariable=num)\n",
    "t.bind('<Return>',find)\n",
    "\n",
    "result = Label(text = 'Square is ')\n",
    "error = Label(text='')\n",
    "\n",
    "l.pack()\n",
    "t.pack()\n",
    "result.pack()\n",
    "error.pack()\n",
    "top.mainloop()"
   ]
  },
  {
   "cell_type": "markdown",
   "id": "e6cdc3f8",
   "metadata": {},
   "source": [
    "### Layout"
   ]
  },
  {
   "cell_type": "code",
   "execution_count": 40,
   "id": "6b068a9c",
   "metadata": {},
   "outputs": [],
   "source": [
    "top = Tk()\n",
    "top.title(\"My first application\")\n",
    "top.geometry('400x400')\n",
    "\n",
    "def find(event):\n",
    "    try:\n",
    "        n = num.get()\n",
    "        result.config(text='Square is: %d' %(n*n))\n",
    "    except Exception as e:\n",
    "        error.config(text = \"Error is : %s\" %(e))\n",
    "\n",
    "num = IntVar()\n",
    "\n",
    "Label(top, text='Enter a number').place(x=50,y=30)\n",
    "t=Entry(top, textvariable=num)\n",
    "t.bind('<Return>',find)\n",
    "\n",
    "result = Label(text = 'Square is ')\n",
    "error = Label(text='')\n",
    "\n",
    "\n",
    "t.place(x=50,y=60)\n",
    "result.place(x=50,y=90)\n",
    "error.place(x=50,y=120)\n",
    "top.mainloop()"
   ]
  },
  {
   "cell_type": "code",
   "execution_count": null,
   "id": "d92df26d",
   "metadata": {},
   "outputs": [],
   "source": []
  },
  {
   "cell_type": "markdown",
   "id": "fbcfe0d4",
   "metadata": {},
   "source": [
    "## Simple Calculator using Tkinter"
   ]
  },
  {
   "cell_type": "code",
   "execution_count": 81,
   "id": "181b3703",
   "metadata": {},
   "outputs": [],
   "source": [
    "top = Tk()\n",
    "top.title(\"Calculator\")\n",
    "top.geometry('400x400')\n",
    "\n",
    "def add():\n",
    "    try:\n",
    "        n1 = num1.get()\n",
    "        n2 = num2.get()\n",
    "        result.config(text='Addition is: %d' %(n1+n2))\n",
    "    except Exception as e:\n",
    "        error.config(text = \"Error is : %s\" %(e))\n",
    "        \n",
    "def subtract():\n",
    "    try:\n",
    "        n1 = num1.get()\n",
    "        n2 = num2.get()\n",
    "        result.config(text='Subtraction is: %d' %(n1-n2))\n",
    "    except Exception as e:\n",
    "        error.config(text = \"Error is : %s\" %(e))\n",
    "        \n",
    "def multiply():\n",
    "    try:\n",
    "        n1 = num1.get()\n",
    "        n2 = num2.get()\n",
    "        result.config(text='Multiplication is: %d' %(n1*n2))\n",
    "    except Exception as e:\n",
    "        error.config(text = \"Error is : %s\" %(e))\n",
    "        \n",
    "def divide():\n",
    "    try:\n",
    "        n1 = num1.get()\n",
    "        n2 = num2.get()\n",
    "        result.config(text='Division is: %d' %(n1/n2))\n",
    "    except Exception as e:\n",
    "        error.config(text = \"Error is : %s\" %(e))\n",
    "\n",
    "num1 = IntVar()\n",
    "num2 = IntVar()\n",
    "\n",
    "\n",
    "Label(top, text='Number 1',font=(\"Helvetica\", 12)).place(x=50,y=30)\n",
    "t1=Entry(top, textvariable=num1,font=(\"arial\", 10))\n",
    "\n",
    "Label(top, text='Number 2',font=(\"Helvetica\", 12)).place(x=250,y=30)\n",
    "t2=Entry(top, textvariable=num2,font=(\"arial\", 10))\n",
    "\n",
    "b1 = Button(top, text='+', command=add)\n",
    "b2 = Button(top, text='-', command=subtract)\n",
    "b3 = Button(top, text='*', command=multiply)\n",
    "b4 = Button(top, text='/', command=divide)\n",
    "\n",
    "result = Label(text = '')\n",
    "error = Label(text='')\n",
    "\n",
    "t1.place(x=60,y=60,width=50,height=20)\n",
    "t2.place(x=260,y=60,width=50,height=20)\n",
    "\n",
    "b1.place(x=10,y=100)\n",
    "b2.place(x=100,y=100)\n",
    "b3.place(x=200,y=100)\n",
    "b4.place(x=300,y=100)\n",
    "\n",
    "result.place(x=130,y=200)\n",
    "error.place(x=50,y=120)\n",
    "top.mainloop()"
   ]
  },
  {
   "cell_type": "code",
   "execution_count": null,
   "id": "4e5b7bf6",
   "metadata": {},
   "outputs": [],
   "source": []
  },
  {
   "cell_type": "markdown",
   "id": "ef5e0c0f",
   "metadata": {},
   "source": [
    "# Deploy the model(Classification SVC)"
   ]
  },
  {
   "cell_type": "code",
   "execution_count": 96,
   "id": "3fa59418",
   "metadata": {},
   "outputs": [],
   "source": [
    "import joblib\n",
    "from nltk.tokenize import word_tokenize\n",
    "from nltk.stem import WordNetLemmatizer\n",
    "from nltk.corpus import stopwords\n",
    "from nltk import pos_tag\n",
    "import string"
   ]
  },
  {
   "cell_type": "code",
   "execution_count": 102,
   "id": "58cccd89",
   "metadata": {},
   "outputs": [],
   "source": [
    "swords = stopwords.words('english')\n",
    "wnl = WordNetLemmatizer()\n",
    "\n",
    "def clean_text(text):\n",
    "    token1 = word_tokenize(text)\n",
    "    token2 = [word.lower() for word in token1 if word not in string.punctuation]\n",
    "    token3 = [word for word in token2 if word.lower() not in swords]\n",
    "    token4 =[]\n",
    "    tags = pos_tag(token3)\n",
    "    for word in tags:\n",
    "        if word[1].startswith('N'):\n",
    "            token4.append(wnl.lemmatize(word[0],pos = 'n'))\n",
    "        if word[1].startswith('V'):\n",
    "            token4.append(wnl.lemmatize(word[0],pos = 'v'))\n",
    "        if word[1].startswith('R'):\n",
    "            token4.append(wnl.lemmatize(word[0],pos = 'r'))\n",
    "        if word[1].startswith('J'):\n",
    "            token4.append(wnl.lemmatize(word[0],pos = 'a'))\n",
    "    return token4"
   ]
  },
  {
   "cell_type": "code",
   "execution_count": 103,
   "id": "f72d5dfb",
   "metadata": {},
   "outputs": [],
   "source": [
    "classifier = joblib.load('model1.bin')\n",
    "tfidf = joblib.load('vectorized.bin')"
   ]
  },
  {
   "cell_type": "code",
   "execution_count": 107,
   "id": "827c59a1",
   "metadata": {},
   "outputs": [],
   "source": [
    "top = Tk()\n",
    "\n",
    "def display(event):\n",
    "    global message\n",
    "    m1 = message.get()\n",
    "    m1 = tfidf.transform([m1])\n",
    "    result = classifier.predict(m1)[0]\n",
    "    \n",
    "    if result == 'ham':\n",
    "        Label(text='NOT Spam Message').place(x=100,y=200)\n",
    "    else:\n",
    "        Label(text='SPAM Message').place(x=100,y=200)\n",
    "\n",
    "message = StringVar()\n",
    "\n",
    "Label(top,text='Enter Message: ').place(x=50,y=50)\n",
    "e = Entry(top,width=100,textvariable=message)\n",
    "e.place(x=200,y=50)\n",
    "e.bind('<Return>',display)\n",
    "\n",
    "top.title(\"SPAM MESSAGE DETECTOR!!!\")\n",
    "top.geometry('1200x300')\n",
    "top.mainloop()"
   ]
  },
  {
   "cell_type": "code",
   "execution_count": null,
   "id": "ef744ac1",
   "metadata": {},
   "outputs": [],
   "source": []
  }
 ],
 "metadata": {
  "kernelspec": {
   "display_name": "Python 3 (ipykernel)",
   "language": "python",
   "name": "python3"
  },
  "language_info": {
   "codemirror_mode": {
    "name": "ipython",
    "version": 3
   },
   "file_extension": ".py",
   "mimetype": "text/x-python",
   "name": "python",
   "nbconvert_exporter": "python",
   "pygments_lexer": "ipython3",
   "version": "3.11.4"
  }
 },
 "nbformat": 4,
 "nbformat_minor": 5
}
