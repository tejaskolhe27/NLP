{
 "cells": [
  {
   "cell_type": "code",
   "execution_count": 1,
   "id": "db130828",
   "metadata": {},
   "outputs": [],
   "source": [
    "from tkinter import *"
   ]
  },
  {
   "cell_type": "markdown",
   "id": "be410373",
   "metadata": {},
   "source": [
    "### Basic Window"
   ]
  },
  {
   "cell_type": "code",
   "execution_count": 2,
   "id": "d8e0c81e",
   "metadata": {},
   "outputs": [],
   "source": [
    "top = Tk()\n",
    "top.mainloop()"
   ]
  },
  {
   "cell_type": "markdown",
   "id": "3a4f93da",
   "metadata": {},
   "source": [
    "### Title and size"
   ]
  },
  {
   "cell_type": "code",
   "execution_count": 5,
   "id": "156b49e8",
   "metadata": {},
   "outputs": [],
   "source": [
    "top = Tk()\n",
    "top.title(\"My first application\")        # Title of the window\n",
    "top.geometry('400x400')                  # Size of the window\n",
    "top.mainloop()"
   ]
  },
  {
   "cell_type": "markdown",
   "id": "b169ac5f",
   "metadata": {},
   "source": [
    "### Add the widgets"
   ]
  },
  {
   "cell_type": "code",
   "execution_count": 11,
   "id": "95c8c24b",
   "metadata": {},
   "outputs": [],
   "source": [
    "top = Tk()\n",
    "top.title(\"My first application\")\n",
    "top.geometry('400x400')\n",
    "\n",
    "l = Label(top,text='Hello World')\n",
    "t = Entry(top)\n",
    "b = Button(top,text='Submit')\n",
    "\n",
    "l.pack()\n",
    "t.pack()\n",
    "b.pack()\n",
    "top.mainloop()"
   ]
  },
  {
   "cell_type": "markdown",
   "id": "0f04127b",
   "metadata": {},
   "source": [
    "### Event Handling"
   ]
  },
  {
   "cell_type": "code",
   "execution_count": 49,
   "id": "6f8c5f47",
   "metadata": {},
   "outputs": [],
   "source": [
    "top = Tk()\n",
    "top.title(\"My first application\")\n",
    "top.geometry('400x400')\n",
    "\n",
    "def find():\n",
    "    n = num.get()\n",
    "    print(\"Square is: \",n*n)\n",
    "\n",
    "\n",
    "num = IntVar()\n",
    "\n",
    "l = Label(top, text='Enter a number')\n",
    "t = Entry(top, textvariable=num)\n",
    "b = Button(top, text='Find Square', command=find)\n",
    "\n",
    "l.pack()\n",
    "t.pack()\n",
    "b.pack()\n",
    "top.mainloop()"
   ]
  },
  {
   "cell_type": "markdown",
   "id": "06a3dd24",
   "metadata": {},
   "source": [
    "### adding result on the window"
   ]
  },
  {
   "cell_type": "code",
   "execution_count": 41,
   "id": "5ab85121",
   "metadata": {},
   "outputs": [],
   "source": [
    "top = Tk()\n",
    "top.title(\"My first application\")\n",
    "top.geometry('400x400')\n",
    "\n",
    "def find():\n",
    "    try:\n",
    "        n = num.get()\n",
    "        result.config(text='Square is: %d' %(n*n))\n",
    "    except Exception as e:\n",
    "        error = Label(text = \"Error is: %s\" %(e))\n",
    "        error.pack()\n",
    "\n",
    "num = IntVar()\n",
    "\n",
    "l = Label(top, text='Enter a number')\n",
    "t = Entry(top, textvariable=num)\n",
    "b = Button(top, text='Find Square', command=find)\n",
    "result = Label(text = 'Square is ')\n",
    "\n",
    "l.pack()\n",
    "t.pack()\n",
    "b.pack()\n",
    "result.pack()\n",
    "top.mainloop()"
   ]
  },
  {
   "cell_type": "markdown",
   "id": "7f06305f",
   "metadata": {},
   "source": [
    "### Binding"
   ]
  },
  {
   "cell_type": "code",
   "execution_count": 50,
   "id": "6027c08a",
   "metadata": {},
   "outputs": [],
   "source": [
    "top = Tk()\n",
    "top.title(\"My first application\")\n",
    "top.geometry('400x400')\n",
    "\n",
    "def find(event):\n",
    "    try:\n",
    "        n = num.get()\n",
    "        result.config(text='Square is: %d' %(n*n))\n",
    "    except Exception as e:\n",
    "        error.config(text = \"Error is : %s\" %(e))\n",
    "\n",
    "num = IntVar()\n",
    "\n",
    "l = Label(top, text='Enter a number')\n",
    "t = Entry(top, textvariable=num)\n",
    "t.bind('<Return>',find)\n",
    "\n",
    "result = Label(text = 'Square is ')\n",
    "error = Label(text='')\n",
    "\n",
    "l.pack()\n",
    "t.pack()\n",
    "result.pack()\n",
    "error.pack()\n",
    "top.mainloop()"
   ]
  },
  {
   "cell_type": "markdown",
   "id": "e101a159",
   "metadata": {},
   "source": [
    "### Layout"
   ]
  },
  {
   "cell_type": "code",
   "execution_count": 40,
   "id": "922a2142",
   "metadata": {},
   "outputs": [],
   "source": [
    "top = Tk()\n",
    "top.title(\"My first application\")\n",
    "top.geometry('400x400')\n",
    "\n",
    "def find(event):\n",
    "    try:\n",
    "        n = num.get()\n",
    "        result.config(text='Square is: %d' %(n*n))\n",
    "    except Exception as e:\n",
    "        error.config(text = \"Error is : %s\" %(e))\n",
    "\n",
    "num = IntVar()\n",
    "\n",
    "Label(top, text='Enter a number').place(x=50,y=30)\n",
    "t=Entry(top, textvariable=num)\n",
    "t.bind('<Return>',find)\n",
    "\n",
    "result = Label(text = 'Square is ')\n",
    "error = Label(text='')\n",
    "\n",
    "\n",
    "t.place(x=50,y=60)\n",
    "result.place(x=50,y=90)\n",
    "error.place(x=50,y=120)\n",
    "top.mainloop()"
   ]
  },
  {
   "cell_type": "code",
   "execution_count": null,
   "id": "86cc6da1",
   "metadata": {},
   "outputs": [],
   "source": []
  },
  {
   "cell_type": "markdown",
   "id": "e0ffed5d",
   "metadata": {},
   "source": [
    "## Simple Calculator using Tkinter"
   ]
  },
  {
   "cell_type": "code",
   "execution_count": 81,
   "id": "5fcaead5",
   "metadata": {},
   "outputs": [],
   "source": [
    "top = Tk()\n",
    "top.title(\"Calculator\")\n",
    "top.geometry('400x400')\n",
    "\n",
    "def add():\n",
    "    try:\n",
    "        n1 = num1.get()\n",
    "        n2 = num2.get()\n",
    "        result.config(text='Addition is: %d' %(n1+n2))\n",
    "    except Exception as e:\n",
    "        error.config(text = \"Error is : %s\" %(e))\n",
    "        \n",
    "def subtract():\n",
    "    try:\n",
    "        n1 = num1.get()\n",
    "        n2 = num2.get()\n",
    "        result.config(text='Subtraction is: %d' %(n1-n2))\n",
    "    except Exception as e:\n",
    "        error.config(text = \"Error is : %s\" %(e))\n",
    "        \n",
    "def multiply():\n",
    "    try:\n",
    "        n1 = num1.get()\n",
    "        n2 = num2.get()\n",
    "        result.config(text='Multiplication is: %d' %(n1*n2))\n",
    "    except Exception as e:\n",
    "        error.config(text = \"Error is : %s\" %(e))\n",
    "        \n",
    "def divide():\n",
    "    try:\n",
    "        n1 = num1.get()\n",
    "        n2 = num2.get()\n",
    "        result.config(text='Division is: %d' %(n1/n2))\n",
    "    except Exception as e:\n",
    "        error.config(text = \"Error is : %s\" %(e))\n",
    "\n",
    "num1 = IntVar()\n",
    "num2 = IntVar()\n",
    "\n",
    "\n",
    "Label(top, text='Number 1',font=(\"Helvetica\", 12)).place(x=50,y=30)\n",
    "t1=Entry(top, textvariable=num1,font=(\"arial\", 10))\n",
    "\n",
    "Label(top, text='Number 2',font=(\"Helvetica\", 12)).place(x=250,y=30)\n",
    "t2=Entry(top, textvariable=num2,font=(\"arial\", 10))\n",
    "\n",
    "b1 = Button(top, text='+', command=add)\n",
    "b2 = Button(top, text='-', command=subtract)\n",
    "b3 = Button(top, text='*', command=multiply)\n",
    "b4 = Button(top, text='/', command=divide)\n",
    "\n",
    "result = Label(text = '')\n",
    "error = Label(text='')\n",
    "\n",
    "t1.place(x=60,y=60,width=50,height=20)\n",
    "t2.place(x=260,y=60,width=50,height=20)\n",
    "\n",
    "b1.place(x=10,y=100)\n",
    "b2.place(x=100,y=100)\n",
    "b3.place(x=200,y=100)\n",
    "b4.place(x=300,y=100)\n",
    "\n",
    "result.place(x=130,y=200)\n",
    "error.place(x=50,y=120)\n",
    "top.mainloop()"
   ]
  },
  {
   "cell_type": "code",
   "execution_count": null,
   "id": "ae9f2144",
   "metadata": {},
   "outputs": [],
   "source": []
  },
  {
   "cell_type": "markdown",
   "id": "6e7b3ec9",
   "metadata": {},
   "source": [
    "# Deploy the model(Classification SVC)"
   ]
  },
  {
   "cell_type": "code",
   "execution_count": 84,
   "id": "e8fd33c4",
   "metadata": {},
   "outputs": [],
   "source": [
    "import joblib\n",
    "from nltk.tokenize import word_tokenize\n",
    "from nltk.stem import WordNetLemmatizer\n",
    "from nltk.corpus import stopwords\n",
    "from nltk import pos_tag"
   ]
  },
  {
   "cell_type": "code",
   "execution_count": 83,
   "id": "9adcb653",
   "metadata": {},
   "outputs": [],
   "source": [
    "def clean_text(text):\n",
    "    token1 = word_tokenize(text)\n",
    "    token2 = [word.lower() for word in token1 if word not in string.punctuation]\n",
    "    token3 = [word for word in token2 if word.lower() not in swords]\n",
    "    token4 =[]\n",
    "    tags = pos_tag(token3)\n",
    "    for word in tags:\n",
    "        if word[1].startswith('N'):\n",
    "            token4.append(wnl.lemmatize(word[0],pos = 'n'))\n",
    "        if word[1].startswith('V'):\n",
    "            token4.append(wnl.lemmatize(word[0],pos = 'v'))\n",
    "        if word[1].startswith('R'):\n",
    "            token4.append(wnl.lemmatize(word[0],pos = 'r'))\n",
    "        if word[1].startswith('J'):\n",
    "            token4.append(wnl.lemmatize(word[0],pos = 'a'))\n",
    "    return token4"
   ]
  },
  {
   "cell_type": "code",
   "execution_count": null,
   "id": "564cb698",
   "metadata": {},
   "outputs": [],
   "source": []
  }
 ],
 "metadata": {
  "kernelspec": {
   "display_name": "Python 3 (ipykernel)",
   "language": "python",
   "name": "python3"
  },
  "language_info": {
   "codemirror_mode": {
    "name": "ipython",
    "version": 3
   },
   "file_extension": ".py",
   "mimetype": "text/x-python",
   "name": "python",
   "nbconvert_exporter": "python",
   "pygments_lexer": "ipython3",
   "version": "3.11.4"
  }
 },
 "nbformat": 4,
 "nbformat_minor": 5
}
