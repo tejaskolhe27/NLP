{
 "cells": [
  {
   "cell_type": "markdown",
   "id": "3d76accc",
   "metadata": {},
   "source": [
    "### Dataset"
   ]
  },
  {
   "cell_type": "code",
   "execution_count": 1,
   "id": "f4d3c831",
   "metadata": {},
   "outputs": [],
   "source": [
    "# dataset: bbc-news-data.txt\n",
    "# Location: https://mitu.co.in/dataset"
   ]
  },
  {
   "cell_type": "markdown",
   "id": "9ca29a29",
   "metadata": {},
   "source": [
    "### Import neccessary libraries"
   ]
  },
  {
   "cell_type": "code",
   "execution_count": 31,
   "id": "cf7f4dfe",
   "metadata": {},
   "outputs": [],
   "source": [
    "import numpy as np\n",
    "import pandas as pd\n",
    "import matplotlib.pyplot as plt\n",
    "\n",
    "\n",
    "from sklearn.feature_extraction.text import TfidfVectorizer, CountVectorizer\n",
    "\n",
    "from nltk import FreqDist\n",
    "\n",
    "from nltk.tokenize import word_tokenize"
   ]
  },
  {
   "cell_type": "markdown",
   "id": "be41066c",
   "metadata": {},
   "source": [
    "### Read dataset"
   ]
  },
  {
   "cell_type": "code",
   "execution_count": 3,
   "id": "a71abd5c",
   "metadata": {},
   "outputs": [],
   "source": [
    "file = open('bbc-text-data.csv')"
   ]
  },
  {
   "cell_type": "code",
   "execution_count": 4,
   "id": "ced717ea",
   "metadata": {},
   "outputs": [],
   "source": [
    "data = file.readlines()"
   ]
  },
  {
   "cell_type": "code",
   "execution_count": 5,
   "id": "52e9f246",
   "metadata": {
    "scrolled": true
   },
   "outputs": [
    {
     "data": {
      "text/plain": [
       "2225"
      ]
     },
     "execution_count": 5,
     "metadata": {},
     "output_type": "execute_result"
    }
   ],
   "source": [
    "len(data)"
   ]
  },
  {
   "cell_type": "markdown",
   "id": "e824b241",
   "metadata": {},
   "source": [
    "### Feature Extraction"
   ]
  },
  {
   "cell_type": "code",
   "execution_count": 6,
   "id": "c9334197",
   "metadata": {},
   "outputs": [],
   "source": [
    "from sklearn.feature_extraction.text import TfidfVectorizer"
   ]
  },
  {
   "cell_type": "code",
   "execution_count": 7,
   "id": "c5e50616",
   "metadata": {},
   "outputs": [],
   "source": [
    "tfidf = TfidfVectorizer(stop_words='english')"
   ]
  },
  {
   "cell_type": "code",
   "execution_count": 8,
   "id": "581e4c89",
   "metadata": {},
   "outputs": [],
   "source": [
    "x_vect = tfidf.fit_transform(data)"
   ]
  },
  {
   "cell_type": "code",
   "execution_count": 9,
   "id": "3e7bad78",
   "metadata": {},
   "outputs": [
    {
     "data": {
      "text/plain": [
       "(2225, 29126)"
      ]
     },
     "execution_count": 9,
     "metadata": {},
     "output_type": "execute_result"
    }
   ],
   "source": [
    "x_vect.shape"
   ]
  },
  {
   "cell_type": "markdown",
   "id": "9c469edb",
   "metadata": {},
   "source": [
    "### Elbow Method"
   ]
  },
  {
   "cell_type": "code",
   "execution_count": 10,
   "id": "c24353c8",
   "metadata": {},
   "outputs": [],
   "source": [
    "from sklearn.cluster import KMeans"
   ]
  },
  {
   "cell_type": "code",
   "execution_count": 11,
   "id": "5add7366",
   "metadata": {},
   "outputs": [
    {
     "name": "stderr",
     "output_type": "stream",
     "text": [
      "/home/dai/anaconda3/lib/python3.11/site-packages/sklearn/cluster/_kmeans.py:1416: FutureWarning: The default value of `n_init` will change from 10 to 'auto' in 1.4. Set the value of `n_init` explicitly to suppress the warning\n",
      "  super()._check_params_vs_input(X, default_n_init=10)\n",
      "/home/dai/anaconda3/lib/python3.11/site-packages/sklearn/cluster/_kmeans.py:1416: FutureWarning: The default value of `n_init` will change from 10 to 'auto' in 1.4. Set the value of `n_init` explicitly to suppress the warning\n",
      "  super()._check_params_vs_input(X, default_n_init=10)\n"
     ]
    }
   ],
   "source": [
    "sse = []\n",
    "\n",
    "for k in range(1,10):\n",
    "    km = KMeans(n_clusters=k,random_state=0)\n",
    "    km.fit_predict(x_vect)\n",
    "    sse.append(km.inertia_)"
   ]
  },
  {
   "cell_type": "code",
   "execution_count": 12,
   "id": "f254c448",
   "metadata": {},
   "outputs": [
    {
     "data": {
      "image/png": "[encoded data removed]",
      "text/plain": [
       "<Figure size 640x480 with 1 Axes>"
      ]
     },
     "metadata": {},
     "output_type": "display_data"
    }
   ],
   "source": [
    "plt.plot(range(1,10),sse);"
   ]
  },
  {
   "cell_type": "code",
   "execution_count": 13,
   "id": "cc637c48",
   "metadata": {},
   "outputs": [],
   "source": [
    "# !pip install kneed"
   ]
  },
  {
   "cell_type": "code",
   "execution_count": 14,
   "id": "d223d8c3",
   "metadata": {},
   "outputs": [],
   "source": [
    "from kneed import KneeLocator"
   ]
  },
  {
   "cell_type": "code",
   "execution_count": 15,
   "id": "43d1aa23",
   "metadata": {},
   "outputs": [
    {
     "data": {
      "text/plain": [
       "5"
      ]
     },
     "execution_count": 15,
     "metadata": {},
     "output_type": "execute_result"
    }
   ],
   "source": [
    "kl= KneeLocator(range(1,10),sse,curve=\"convex\", direction='decreasing')\n",
    "kl.elbow"
   ]
  },
  {
   "cell_type": "markdown",
   "id": "1c795b66",
   "metadata": {},
   "source": [
    "### Build Model"
   ]
  },
  {
   "cell_type": "code",
   "execution_count": 16,
   "id": "b9e440d8",
   "metadata": {},
   "outputs": [],
   "source": [
    "km = KMeans(n_clusters = 5,\n",
    "           random_state = 0)"
   ]
  },
  {
   "cell_type": "code",
   "execution_count": 17,
   "id": "3acf8908",
   "metadata": {},
   "outputs": [
    {
     "data": {
      "text/plain": [
       "array([2, 4, 0, ..., 1, 4, 0], dtype=int32)"
      ]
     },
     "execution_count": 17,
     "metadata": {},
     "output_type": "execute_result"
    }
   ],
   "source": [
    "labels = km.fit_predict(x_vect)\n",
    "\n",
    "labels"
   ]
  },
  {
   "cell_type": "code",
   "execution_count": 18,
   "id": "cc11fa66",
   "metadata": {},
   "outputs": [],
   "source": [
    "labels_list = list(labels)"
   ]
  },
  {
   "cell_type": "code",
   "execution_count": 19,
   "id": "c6e7ecfd",
   "metadata": {},
   "outputs": [
    {
     "data": {
      "text/plain": [
       "392"
      ]
     },
     "execution_count": 19,
     "metadata": {},
     "output_type": "execute_result"
    }
   ],
   "source": [
    "labels_list.count(2)"
   ]
  },
  {
   "cell_type": "code",
   "execution_count": 20,
   "id": "f0e90a8e",
   "metadata": {},
   "outputs": [],
   "source": [
    "cluster = labels[1]"
   ]
  },
  {
   "cell_type": "code",
   "execution_count": 21,
   "id": "73699f67",
   "metadata": {},
   "outputs": [],
   "source": [
    "df = pd.DataFrame(data, columns=['text'])"
   ]
  },
  {
   "cell_type": "code",
   "execution_count": 22,
   "id": "7f08d0f8",
   "metadata": {},
   "outputs": [
    {
     "name": "stdout",
     "output_type": "stream",
     "text": [
      "<class 'pandas.core.frame.DataFrame'>\n",
      "RangeIndex: 2225 entries, 0 to 2224\n",
      "Data columns (total 1 columns):\n",
      " #   Column  Non-Null Count  Dtype \n",
      "---  ------  --------------  ----- \n",
      " 0   text    2225 non-null   object\n",
      "dtypes: object(1)\n",
      "memory usage: 17.5+ KB\n"
     ]
    }
   ],
   "source": [
    "df.info()"
   ]
  },
  {
   "cell_type": "code",
   "execution_count": 23,
   "id": "05987890",
   "metadata": {},
   "outputs": [],
   "source": [
    "df_label_two = df[labels == 2]"
   ]
  },
  {
   "cell_type": "code",
   "execution_count": 24,
   "id": "4ea32187",
   "metadata": {},
   "outputs": [
    {
     "name": "stdout",
     "output_type": "stream",
     "text": [
      "0: 520\n",
      "1: 329\n",
      "2: 392\n",
      "3: 244\n",
      "4: 740\n"
     ]
    }
   ],
   "source": [
    "print('0:', len(df[labels == 0]))\n",
    "print('1:', len(df[labels == 1]))\n",
    "print('2:', len(df[labels == 2]))\n",
    "print('3:', len(df[labels == 3]))\n",
    "print('4:', len(df[labels == 4]))"
   ]
  },
  {
   "cell_type": "code",
   "execution_count": 25,
   "id": "2d019373",
   "metadata": {},
   "outputs": [
    {
     "data": {
      "text/html": [
       "<div>\n",
       "<style scoped>\n",
       "    .dataframe tbody tr th:only-of-type {\n",
       "        vertical-align: middle;\n",
       "    }\n",
       "\n",
       "    .dataframe tbody tr th {\n",
       "        vertical-align: top;\n",
       "    }\n",
       "\n",
       "    .dataframe thead th {\n",
       "        text-align: right;\n",
       "    }\n",
       "</style>\n",
       "<table border=\"1\" class=\"dataframe\">\n",
       "  <thead>\n",
       "    <tr style=\"text-align: right;\">\n",
       "      <th></th>\n",
       "      <th>text</th>\n",
       "    </tr>\n",
       "  </thead>\n",
       "  <tbody>\n",
       "    <tr>\n",
       "      <th>0</th>\n",
       "      <td>tv future in the hands of viewers with home th...</td>\n",
       "    </tr>\n",
       "    <tr>\n",
       "      <th>20</th>\n",
       "      <td>security warning over  fbi virus  the us feder...</td>\n",
       "    </tr>\n",
       "    <tr>\n",
       "      <th>21</th>\n",
       "      <td>halo 2 heralds traffic explosion the growing p...</td>\n",
       "    </tr>\n",
       "    <tr>\n",
       "      <th>24</th>\n",
       "      <td>mobile audio enters new dimension as mobile ph...</td>\n",
       "    </tr>\n",
       "    <tr>\n",
       "      <th>27</th>\n",
       "      <td>mobile gig aims to rock 3g forget about going ...</td>\n",
       "    </tr>\n",
       "    <tr>\n",
       "      <th>...</th>\n",
       "      <td>...</td>\n",
       "    </tr>\n",
       "    <tr>\n",
       "      <th>2202</th>\n",
       "      <td>local net tv takes off in austria an austrian ...</td>\n",
       "    </tr>\n",
       "    <tr>\n",
       "      <th>2207</th>\n",
       "      <td>california sets fines for spyware the makers o...</td>\n",
       "    </tr>\n",
       "    <tr>\n",
       "      <th>2213</th>\n",
       "      <td>progress on new internet domains by early 2005...</td>\n",
       "    </tr>\n",
       "    <tr>\n",
       "      <th>2215</th>\n",
       "      <td>junk e-mails on relentless rise spam traffic i...</td>\n",
       "    </tr>\n",
       "    <tr>\n",
       "      <th>2217</th>\n",
       "      <td>rings of steel combat net attacks gambling is ...</td>\n",
       "    </tr>\n",
       "  </tbody>\n",
       "</table>\n",
       "<p>392 rows × 1 columns</p>\n",
       "</div>"
      ],
      "text/plain": [
       "                                                   text\n",
       "0     tv future in the hands of viewers with home th...\n",
       "20    security warning over  fbi virus  the us feder...\n",
       "21    halo 2 heralds traffic explosion the growing p...\n",
       "24    mobile audio enters new dimension as mobile ph...\n",
       "27    mobile gig aims to rock 3g forget about going ...\n",
       "...                                                 ...\n",
       "2202  local net tv takes off in austria an austrian ...\n",
       "2207  california sets fines for spyware the makers o...\n",
       "2213  progress on new internet domains by early 2005...\n",
       "2215  junk e-mails on relentless rise spam traffic i...\n",
       "2217  rings of steel combat net attacks gambling is ...\n",
       "\n",
       "[392 rows x 1 columns]"
      ]
     },
     "execution_count": 25,
     "metadata": {},
     "output_type": "execute_result"
    }
   ],
   "source": [
    "df_label_two"
   ]
  },
  {
   "cell_type": "markdown",
   "id": "7bf55802",
   "metadata": {},
   "source": [
    "### Finding the most frequent words in the cluster 2"
   ]
  },
  {
   "cell_type": "code",
   "execution_count": 26,
   "id": "d567304b",
   "metadata": {},
   "outputs": [],
   "source": [
    "word_data_two = list(df_label_two['text'])"
   ]
  },
  {
   "cell_type": "code",
   "execution_count": 27,
   "id": "56109860",
   "metadata": {},
   "outputs": [],
   "source": [
    "word_data_two_string = \"\".join(word_data_two)"
   ]
  },
  {
   "cell_type": "code",
   "execution_count": 32,
   "id": "1cd286d1",
   "metadata": {},
   "outputs": [],
   "source": [
    "word_token = word_tokenize(word_data_two_string)"
   ]
  },
  {
   "cell_type": "code",
   "execution_count": 28,
   "id": "8e30455d",
   "metadata": {},
   "outputs": [],
   "source": [
    "freq = FreqDist(word_data_two_string)"
   ]
  },
  {
   "cell_type": "code",
   "execution_count": 29,
   "id": "1888404d",
   "metadata": {},
   "outputs": [
    {
     "data": {
      "text/plain": [
       "[(' ', 211186),\n",
       " ('e', 113070),\n",
       " ('t', 82749),\n",
       " ('a', 74810),\n",
       " ('o', 72146),\n",
       " ('i', 67045),\n",
       " ('s', 65996),\n",
       " ('n', 62754),\n",
       " ('r', 55895),\n",
       " ('h', 41632)]"
      ]
     },
     "execution_count": 29,
     "metadata": {},
     "output_type": "execute_result"
    }
   ],
   "source": [
    "freq.most_common(10)"
   ]
  },
  {
   "cell_type": "code",
   "execution_count": null,
   "id": "2b7826c8",
   "metadata": {},
   "outputs": [],
   "source": []
  }
 ],
 "metadata": {
  "kernelspec": {
   "display_name": "Python 3 (ipykernel)",
   "language": "python",
   "name": "python3"
  },
  "language_info": {
   "codemirror_mode": {
    "name": "ipython",
    "version": 3
   },
   "file_extension": ".py",
   "mimetype": "text/x-python",
   "name": "python",
   "nbconvert_exporter": "python",
   "pygments_lexer": "ipython3",
   "version": "3.11.4"
  }
 },
 "nbformat": 4,
 "nbformat_minor": 5
}
