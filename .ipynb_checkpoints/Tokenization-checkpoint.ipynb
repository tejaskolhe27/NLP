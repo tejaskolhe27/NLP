{
 "cells": [
  {
   "cell_type": "code",
   "execution_count": 2,
   "id": "dab0abc8",
   "metadata": {},
   "outputs": [
    {
     "name": "stdout",
     "output_type": "stream",
     "text": [
      "showing info https://raw.githubusercontent.com/nltk/nltk_data/gh-pages/index.xml\n"
     ]
    },
    {
     "data": {
      "text/plain": [
       "True"
      ]
     },
     "execution_count": 2,
     "metadata": {},
     "output_type": "execute_result"
    }
   ],
   "source": [
    "import nltk\n",
    "nltk.download()"
   ]
  },
  {
   "cell_type": "code",
   "execution_count": 6,
   "id": "10e5b9f7",
   "metadata": {},
   "outputs": [
    {
     "name": "stderr",
     "output_type": "stream",
     "text": [
      "[nltk_data] Downloading package stopwords to /home/dai/nltk_data...\n",
      "[nltk_data]   Package stopwords is already up-to-date!\n",
      "[nltk_data] Downloading package averaged_perceptron_tagger to\n",
      "[nltk_data]     /home/dai/nltk_data...\n",
      "[nltk_data]   Unzipping taggers/averaged_perceptron_tagger.zip.\n",
      "[nltk_data] Downloading package wordnet to /home/dai/nltk_data...\n",
      "[nltk_data] Downloading package omw-1.4 to /home/dai/nltk_data...\n",
      "[nltk_data] Downloading package indian to /home/dai/nltk_data...\n",
      "[nltk_data] Error downloading 'indian' from\n",
      "[nltk_data]     <https://raw.githubusercontent.com/nltk/nltk_data/gh-\n",
      "[nltk_data]     pages/packages/corpora/indian.zip>:   <urlopen error\n",
      "[nltk_data]     [Errno 104] Connection reset by peer>\n",
      "[nltk_data] Downloading package maxent_ne_chunker to\n",
      "[nltk_data]     /home/dai/nltk_data...\n",
      "[nltk_data]   Unzipping chunkers/maxent_ne_chunker.zip.\n",
      "[nltk_data] Downloading package punkt to /home/dai/nltk_data...\n",
      "[nltk_data] Error downloading 'punkt' from\n",
      "[nltk_data]     <https://raw.githubusercontent.com/nltk/nltk_data/gh-\n",
      "[nltk_data]     pages/packages/tokenizers/punkt.zip>:   <urlopen error\n",
      "[nltk_data]     [Errno 104] Connection reset by peer>\n",
      "[nltk_data] Downloading package words to /home/dai/nltk_data...\n",
      "[nltk_data]   Unzipping corpora/words.zip.\n"
     ]
    },
    {
     "data": {
      "text/plain": [
       "True"
      ]
     },
     "execution_count": 6,
     "metadata": {},
     "output_type": "execute_result"
    }
   ],
   "source": [
    "nltk.download('stopwords')\n",
    "nltk.download('averaged_perceptron_tagger')\n",
    "nltk.download('wordnet')\n",
    "nltk.download('omw-1.4')\n",
    "nltk.download('indian')\n",
    "nltk.doent.com/nltk/nltk_data/gh-\n",
    "[nltk_data]     pages/packages/corpora/indian.zip>:   <urlopen error\n",
    "[nltk_data]     [Errno 104] Connection reset by peer>wnload('maxent_ne_chunker')\n",
    "nltk.download('punkt')\n",
    "nltk.download('words')"
   ]
  },
  {
   "cell_type": "code",
   "execution_count": 9,
   "id": "86d595eb",
   "metadata": {},
   "outputs": [
    {
     "name": "stderr",
     "output_type": "stream",
     "text": [
      "[nltk_data] Downloading package indian to /home/dai/nltk_data...\n",
      "[nltk_data]   Unzipping corpora/indian.zip.\n"
     ]
    },
    {
     "data": {
      "text/plain": [
       "True"
      ]
     },
     "execution_count": 9,
     "metadata": {},
     "output_type": "execute_result"
    }
   ],
   "source": [
    "nltk.download('indian')"
   ]
  },
  {
   "cell_type": "code",
   "execution_count": 11,
   "id": "5ca25087",
   "metadata": {},
   "outputs": [
    {
     "name": "stderr",
     "output_type": "stream",
     "text": [
      "[nltk_data] Downloading package punkt to /home/dai/nltk_data...\n",
      "[nltk_data]   Unzipping tokenizers/punkt.zip.\n"
     ]
    },
    {
     "data": {
      "text/plain": [
       "True"
      ]
     },
     "execution_count": 11,
     "metadata": {},
     "output_type": "execute_result"
    }
   ],
   "source": [
    "nltk.download('punkt')"
   ]
  },
  {
   "cell_type": "markdown",
   "id": "aed38152",
   "metadata": {},
   "source": [
    "### Sentence Tokenizer"
   ]
  },
  {
   "cell_type": "code",
   "execution_count": 12,
   "id": "34fe1a94",
   "metadata": {},
   "outputs": [],
   "source": [
    "from nltk.tokenize import sent_tokenize"
   ]
  },
  {
   "cell_type": "code",
   "execution_count": 29,
   "id": "d0310aaf",
   "metadata": {},
   "outputs": [],
   "source": [
    "sents = '''hello friends!\n",
    "how are you? welcome to Python Programming.'''"
   ]
  },
  {
   "cell_type": "code",
   "execution_count": 30,
   "id": "4a16594f",
   "metadata": {},
   "outputs": [
    {
     "data": {
      "text/plain": [
       "['hello friends!', 'how are you?', 'welcome to Python Programming.']"
      ]
     },
     "execution_count": 30,
     "metadata": {},
     "output_type": "execute_result"
    }
   ],
   "source": [
    "sent_list = sent_tokenize(sents)\n",
    "sent_list"
   ]
  },
  {
   "cell_type": "markdown",
   "id": "4a411f66",
   "metadata": {},
   "source": [
    "### Word Tokenizer"
   ]
  },
  {
   "cell_type": "code",
   "execution_count": 31,
   "id": "acfecd1c",
   "metadata": {},
   "outputs": [],
   "source": [
    "from nltk.tokenize import word_tokenize"
   ]
  },
  {
   "cell_type": "code",
   "execution_count": 32,
   "id": "cc7c16ac",
   "metadata": {},
   "outputs": [
    {
     "data": {
      "text/plain": [
       "['hello',\n",
       " 'friends',\n",
       " '!',\n",
       " 'how',\n",
       " 'are',\n",
       " 'you',\n",
       " '?',\n",
       " 'welcome',\n",
       " 'to',\n",
       " 'Python',\n",
       " 'Programming',\n",
       " '.']"
      ]
     },
     "execution_count": 32,
     "metadata": {},
     "output_type": "execute_result"
    }
   ],
   "source": [
    "words = word_tokenize(sents)\n",
    "words"
   ]
  },
  {
   "cell_type": "code",
   "execution_count": 33,
   "id": "25709dd2",
   "metadata": {},
   "outputs": [],
   "source": [
    "import string"
   ]
  },
  {
   "cell_type": "code",
   "execution_count": 35,
   "id": "81bf1760",
   "metadata": {},
   "outputs": [
    {
     "data": {
      "text/plain": [
       "'!\"#$%&\\'()*+,-./:;<=>?@[\\\\]^_`{|}~'"
      ]
     },
     "execution_count": 35,
     "metadata": {},
     "output_type": "execute_result"
    }
   ],
   "source": [
    "string.punctuation"
   ]
  },
  {
   "cell_type": "markdown",
   "id": "ce22fe3d",
   "metadata": {},
   "source": [
    "#### Find the percentage of punctuation symbols"
   ]
  },
  {
   "cell_type": "code",
   "execution_count": 44,
   "id": "65bc0060",
   "metadata": {},
   "outputs": [
    {
     "name": "stdout",
     "output_type": "stream",
     "text": [
      "Percentage of punctuation symbols:  25.0 %\n"
     ]
    }
   ],
   "source": [
    "s=len(words)\n",
    "tokens = string.punctuation\n",
    "c=0\n",
    "for i in sents:\n",
    "    if i in tokens:\n",
    "        c+=1\n",
    "print(\"Percentage of punctuation symbols: \",(c/s)*100,\"%\")"
   ]
  },
  {
   "cell_type": "code",
   "execution_count": 45,
   "id": "683a5a83",
   "metadata": {},
   "outputs": [
    {
     "data": {
      "text/plain": [
       "45"
      ]
     },
     "execution_count": 45,
     "metadata": {},
     "output_type": "execute_result"
    }
   ],
   "source": [
    "ord('-')"
   ]
  },
  {
   "cell_type": "code",
   "execution_count": 46,
   "id": "eaa5c408",
   "metadata": {},
   "outputs": [
    {
     "data": {
      "text/plain": [
       "36"
      ]
     },
     "execution_count": 46,
     "metadata": {},
     "output_type": "execute_result"
    }
   ],
   "source": [
    "ord('$')"
   ]
  },
  {
   "cell_type": "code",
   "execution_count": 52,
   "id": "ee321e75",
   "metadata": {},
   "outputs": [
    {
     "data": {
      "text/plain": [
       "'$'"
      ]
     },
     "execution_count": 52,
     "metadata": {},
     "output_type": "execute_result"
    }
   ],
   "source": [
    "chr(36)"
   ]
  },
  {
   "cell_type": "code",
   "execution_count": 50,
   "id": "5260ccd3",
   "metadata": {},
   "outputs": [
    {
     "data": {
      "text/plain": [
       "129292"
      ]
     },
     "execution_count": 50,
     "metadata": {},
     "output_type": "execute_result"
    }
   ],
   "source": [
    "ord('🤌')"
   ]
  },
  {
   "cell_type": "code",
   "execution_count": 53,
   "id": "92d7378d",
   "metadata": {},
   "outputs": [
    {
     "data": {
      "text/plain": [
       "'🤌'"
      ]
     },
     "execution_count": 53,
     "metadata": {},
     "output_type": "execute_result"
    }
   ],
   "source": [
    "chr(129292)"
   ]
  },
  {
   "cell_type": "code",
   "execution_count": 56,
   "id": "5e3e9ce2",
   "metadata": {},
   "outputs": [
    {
     "data": {
      "text/plain": [
       "'ÿ'"
      ]
     },
     "execution_count": 56,
     "metadata": {},
     "output_type": "execute_result"
    }
   ],
   "source": [
    "chr(0xff)"
   ]
  },
  {
   "cell_type": "code",
   "execution_count": 64,
   "id": "88c147c8",
   "metadata": {},
   "outputs": [
    {
     "data": {
      "text/plain": [
       "'ळ'"
      ]
     },
     "execution_count": 64,
     "metadata": {},
     "output_type": "execute_result"
    }
   ],
   "source": [
    "chr(0x0933)"
   ]
  },
  {
   "cell_type": "code",
   "execution_count": 71,
   "id": "8da8339a",
   "metadata": {},
   "outputs": [],
   "source": [
    "names = ['तेजस','विशाल','अथर्व','']"
   ]
  },
  {
   "cell_type": "code",
   "execution_count": 72,
   "id": "630d0ac7",
   "metadata": {},
   "outputs": [
    {
     "name": "stdout",
     "output_type": "stream",
     "text": [
      "तेजस\n"
     ]
    }
   ],
   "source": [
    "for name in names:\n",
    "    if name.startswith(\"त\"):\n",
    "        print(name)"
   ]
  },
  {
   "cell_type": "code",
   "execution_count": 73,
   "id": "2054e279",
   "metadata": {},
   "outputs": [
    {
     "name": "stdout",
     "output_type": "stream",
     "text": [
      "तेजस\n",
      "वीशाल\n",
      "अथर्व\n"
     ]
    }
   ],
   "source": [
    "for name in names:\n",
    "    print(name.replace('ि','ी'))"
   ]
  },
  {
   "cell_type": "code",
   "execution_count": 74,
   "id": "0bfd9629",
   "metadata": {},
   "outputs": [],
   "source": [
    "text = 'महाराष्ट्राला ऋग्वेदामध्ये \"राष्ट्र\" या नावाने संबोधले गेले आहे. अशोकाच्या काळात \"राष्ट्रिक\" आणि नंतर \"महा राष्ट्र\" या नावाने ओळखले जाऊ लागले असे चिनी प्रवाशी ह्युएन-त्सांग व इतर प्रवाशांच्या नोंदींवरून दिसून येते. हे नाव प्राकृत भाषेतील \"महाराष्ट्री\" या शब्दावरून पडले असण्याची शक्यता आहे.तर काहींच्या मते महाराष्ट्र म्हणजे महान असे राष्ट्र होय. .काही जण महाराष्ट्र या शब्दाचा अर्थ मर \" व रट्टा यांच्याशी लावतात परंतु काहींच्या मते हे नाव महाकांतार (महान वने- दंडकारण्य) या शब्दाचा अपभ्रंश आहे. चक्र्धर स्वामी यांनी महन्त् म्हणूनी महाराष्ट्र बोलिजे अशी व्याख्या केली आहे.'"
   ]
  },
  {
   "cell_type": "code",
   "execution_count": 75,
   "id": "dc5f6a6d",
   "metadata": {
    "collapsed": true
   },
   "outputs": [
    {
     "data": {
      "text/plain": [
       "['महाराष्ट्राला',\n",
       " 'ऋग्वेदामध्ये',\n",
       " '``',\n",
       " 'राष्ट्र',\n",
       " \"''\",\n",
       " 'या',\n",
       " 'नावाने',\n",
       " 'संबोधले',\n",
       " 'गेले',\n",
       " 'आहे',\n",
       " '.',\n",
       " 'अशोकाच्या',\n",
       " 'काळात',\n",
       " '``',\n",
       " 'राष्ट्रिक',\n",
       " \"''\",\n",
       " 'आणि',\n",
       " 'नंतर',\n",
       " '``',\n",
       " 'महा',\n",
       " 'राष्ट्र',\n",
       " \"''\",\n",
       " 'या',\n",
       " 'नावाने',\n",
       " 'ओळखले',\n",
       " 'जाऊ',\n",
       " 'लागले',\n",
       " 'असे',\n",
       " 'चिनी',\n",
       " 'प्रवाशी',\n",
       " 'ह्युएन-त्सांग',\n",
       " 'व',\n",
       " 'इतर',\n",
       " 'प्रवाशांच्या',\n",
       " 'नोंदींवरून',\n",
       " 'दिसून',\n",
       " 'येते',\n",
       " '.',\n",
       " 'हे',\n",
       " 'नाव',\n",
       " 'प्राकृत',\n",
       " 'भाषेतील',\n",
       " '``',\n",
       " 'महाराष्ट्री',\n",
       " \"''\",\n",
       " 'या',\n",
       " 'शब्दावरून',\n",
       " 'पडले',\n",
       " 'असण्याची',\n",
       " 'शक्यता',\n",
       " 'आहे.तर',\n",
       " 'काहींच्या',\n",
       " 'मते',\n",
       " 'महाराष्ट्र',\n",
       " 'म्हणजे',\n",
       " 'महान',\n",
       " 'असे',\n",
       " 'राष्ट्र',\n",
       " 'होय',\n",
       " '.',\n",
       " '.काही',\n",
       " 'जण',\n",
       " 'महाराष्ट्र',\n",
       " 'या',\n",
       " 'शब्दाचा',\n",
       " 'अर्थ',\n",
       " 'मर',\n",
       " '``',\n",
       " 'व',\n",
       " 'रट्टा',\n",
       " 'यांच्याशी',\n",
       " 'लावतात',\n",
       " 'परंतु',\n",
       " 'काहींच्या',\n",
       " 'मते',\n",
       " 'हे',\n",
       " 'नाव',\n",
       " 'महाकांतार',\n",
       " '(',\n",
       " 'महान',\n",
       " 'वने-',\n",
       " 'दंडकारण्य',\n",
       " ')',\n",
       " 'या',\n",
       " 'शब्दाचा',\n",
       " 'अपभ्रंश',\n",
       " 'आहे',\n",
       " '.',\n",
       " 'चक्र्धर',\n",
       " 'स्वामी',\n",
       " 'यांनी',\n",
       " 'महन्त्',\n",
       " 'म्हणूनी',\n",
       " 'महाराष्ट्र',\n",
       " 'बोलिजे',\n",
       " 'अशी',\n",
       " 'व्याख्या',\n",
       " 'केली',\n",
       " 'आहे',\n",
       " '.']"
      ]
     },
     "execution_count": 75,
     "metadata": {},
     "output_type": "execute_result"
    }
   ],
   "source": [
    "word_tokenize(text)"
   ]
  },
  {
   "cell_type": "code",
   "execution_count": 81,
   "id": "2925c2db",
   "metadata": {},
   "outputs": [
    {
     "data": {
      "text/plain": [
       "3"
      ]
     },
     "execution_count": 81,
     "metadata": {},
     "output_type": "execute_result"
    }
   ],
   "source": [
    "word_tokenize(text).count(\"महाराष्ट्र\")"
   ]
  },
  {
   "cell_type": "code",
   "execution_count": 82,
   "id": "02022f81",
   "metadata": {
    "scrolled": true
   },
   "outputs": [
    {
     "data": {
      "text/plain": [
       "['महाराष्ट्राला ऋग्वेदामध्ये \"राष्ट्र\" या नावाने संबोधले गेले आहे.',\n",
       " 'अशोकाच्या काळात \"राष्ट्रिक\" आणि नंतर \"महा राष्ट्र\" या नावाने ओळखले जाऊ लागले असे चिनी प्रवाशी ह्युएन-त्सांग व इतर प्रवाशांच्या नोंदींवरून दिसून येते.',\n",
       " 'हे नाव प्राकृत भाषेतील \"महाराष्ट्री\" या शब्दावरून पडले असण्याची शक्यता आहे.तर काहींच्या मते महाराष्ट्र म्हणजे महान असे राष्ट्र होय.',\n",
       " '.काही जण महाराष्ट्र या शब्दाचा अर्थ मर \" व रट्टा यांच्याशी लावतात परंतु काहींच्या मते हे नाव महाकांतार (महान वने- दंडकारण्य) या शब्दाचा अपभ्रंश आहे.',\n",
       " 'चक्र्धर स्वामी यांनी महन्त् म्हणूनी महाराष्ट्र बोलिजे अशी व्याख्या केली आहे.']"
      ]
     },
     "execution_count": 82,
     "metadata": {},
     "output_type": "execute_result"
    }
   ],
   "source": [
    "sent_tokenize(text)"
   ]
  },
  {
   "cell_type": "markdown",
   "id": "4fc44ff3",
   "metadata": {},
   "source": [
    "### Whitespace tokenizer"
   ]
  },
  {
   "cell_type": "code",
   "execution_count": 83,
   "id": "36878deb",
   "metadata": {},
   "outputs": [],
   "source": [
    "from nltk.tokenize import WhitespaceTokenizer"
   ]
  },
  {
   "cell_type": "code",
   "execution_count": 84,
   "id": "4bce9df2",
   "metadata": {},
   "outputs": [],
   "source": [
    "tk=WhitespaceTokenizer()"
   ]
  },
  {
   "cell_type": "code",
   "execution_count": 87,
   "id": "14fa5e61",
   "metadata": {
    "scrolled": true
   },
   "outputs": [
    {
     "data": {
      "text/plain": [
       "['hello',\n",
       " 'friends!',\n",
       " 'how',\n",
       " 'are',\n",
       " 'you?',\n",
       " 'welcome',\n",
       " 'to',\n",
       " 'Python',\n",
       " 'Programming.']"
      ]
     },
     "execution_count": 87,
     "metadata": {},
     "output_type": "execute_result"
    }
   ],
   "source": [
    "tk.tokenize(sents)"
   ]
  },
  {
   "cell_type": "markdown",
   "id": "846c28b8",
   "metadata": {},
   "source": [
    "### Space tokenizer"
   ]
  },
  {
   "cell_type": "code",
   "execution_count": 88,
   "id": "d211e0cb",
   "metadata": {},
   "outputs": [],
   "source": [
    "from nltk.tokenize import SpaceTokenizer"
   ]
  },
  {
   "cell_type": "code",
   "execution_count": 89,
   "id": "f79d06ac",
   "metadata": {},
   "outputs": [],
   "source": [
    "stk = SpaceTokenizer()"
   ]
  },
  {
   "cell_type": "code",
   "execution_count": 90,
   "id": "ad7d587d",
   "metadata": {},
   "outputs": [
    {
     "data": {
      "text/plain": [
       "['hello',\n",
       " 'friends!\\nhow',\n",
       " 'are',\n",
       " 'you?',\n",
       " 'welcome',\n",
       " 'to',\n",
       " 'Python',\n",
       " 'Programming.']"
      ]
     },
     "execution_count": 90,
     "metadata": {},
     "output_type": "execute_result"
    }
   ],
   "source": [
    "stk.tokenize(sents)"
   ]
  },
  {
   "cell_type": "markdown",
   "id": "186e1407",
   "metadata": {},
   "source": [
    "### Line Tokenizer"
   ]
  },
  {
   "cell_type": "code",
   "execution_count": 91,
   "id": "ab913f92",
   "metadata": {},
   "outputs": [],
   "source": [
    "from nltk.tokenize import LineTokenizer"
   ]
  },
  {
   "cell_type": "code",
   "execution_count": 92,
   "id": "1cee8e32",
   "metadata": {},
   "outputs": [],
   "source": [
    "ltk = LineTokenizer()"
   ]
  },
  {
   "cell_type": "code",
   "execution_count": 93,
   "id": "521227d2",
   "metadata": {},
   "outputs": [
    {
     "data": {
      "text/plain": [
       "['hello friends!', 'how are you? welcome to Python Programming.']"
      ]
     },
     "execution_count": 93,
     "metadata": {},
     "output_type": "execute_result"
    }
   ],
   "source": [
    "ltk.tokenize(sents)"
   ]
  },
  {
   "cell_type": "markdown",
   "id": "fd8bbf15",
   "metadata": {},
   "source": [
    "### Tab Tokenizer"
   ]
  },
  {
   "cell_type": "code",
   "execution_count": 94,
   "id": "8128c10f",
   "metadata": {},
   "outputs": [],
   "source": [
    "from nltk.tokenize import TabTokenizer"
   ]
  },
  {
   "cell_type": "code",
   "execution_count": 95,
   "id": "b25957f9",
   "metadata": {},
   "outputs": [],
   "source": [
    "sents = '''hello friends!\n",
    "how are you? welcome to\\tPython Programming.'''"
   ]
  },
  {
   "cell_type": "code",
   "execution_count": 96,
   "id": "9b632683",
   "metadata": {},
   "outputs": [],
   "source": [
    "ttk = TabTokenizer()"
   ]
  },
  {
   "cell_type": "code",
   "execution_count": 98,
   "id": "f0978b67",
   "metadata": {},
   "outputs": [
    {
     "data": {
      "text/plain": [
       "['hello friends!\\nhow are you? welcome to', 'Python Programming.']"
      ]
     },
     "execution_count": 98,
     "metadata": {},
     "output_type": "execute_result"
    }
   ],
   "source": [
    "ttk.tokenize(sents)"
   ]
  },
  {
   "cell_type": "markdown",
   "id": "336e91c9",
   "metadata": {},
   "source": [
    "### Tweet Tokenizer"
   ]
  },
  {
   "cell_type": "code",
   "execution_count": 99,
   "id": "6b1526d3",
   "metadata": {},
   "outputs": [],
   "source": [
    "from nltk.tokenize import TweetTokenizer"
   ]
  },
  {
   "cell_type": "code",
   "execution_count": 107,
   "id": "3b831442",
   "metadata": {},
   "outputs": [
    {
     "name": "stdout",
     "output_type": "stream",
     "text": [
      "Hello friends! :)\n",
      "How are you? Welcome to #python Programming:D\n",
      "Please check my web🥺: https://python.org\n"
     ]
    }
   ],
   "source": [
    "sent = '''Hello friends! :)\n",
    "How are you? Welcome to #python Programming:D\n",
    "Please check my web🥺: https://python.org'''\n",
    "print(sent)"
   ]
  },
  {
   "cell_type": "code",
   "execution_count": 108,
   "id": "cf13a7c5",
   "metadata": {},
   "outputs": [],
   "source": [
    "twtk=TweetTokenizer()"
   ]
  },
  {
   "cell_type": "code",
   "execution_count": 109,
   "id": "6018b97f",
   "metadata": {
    "scrolled": true
   },
   "outputs": [
    {
     "data": {
      "text/plain": [
       "['Hello',\n",
       " 'friends',\n",
       " '!',\n",
       " ':)',\n",
       " 'How',\n",
       " 'are',\n",
       " 'you',\n",
       " '?',\n",
       " 'Welcome',\n",
       " 'to',\n",
       " '#python',\n",
       " 'Programming',\n",
       " ':D',\n",
       " 'Please',\n",
       " 'check',\n",
       " 'my',\n",
       " 'web',\n",
       " '🥺',\n",
       " ':',\n",
       " 'https://python.org']"
      ]
     },
     "execution_count": 109,
     "metadata": {},
     "output_type": "execute_result"
    }
   ],
   "source": [
    "twtk.tokenize(sent)"
   ]
  },
  {
   "cell_type": "markdown",
   "id": "9a4f1662",
   "metadata": {},
   "source": [
    "### Multi-Word Expression Tokenizer"
   ]
  },
  {
   "cell_type": "code",
   "execution_count": 111,
   "id": "088fec75",
   "metadata": {},
   "outputs": [],
   "source": [
    "from nltk.tokenize import MWETokenizer"
   ]
  },
  {
   "cell_type": "code",
   "execution_count": 115,
   "id": "b4b36bfc",
   "metadata": {},
   "outputs": [],
   "source": [
    "sent = \"Van Rossem is in Pune today. We welcome Van Rossem here.\""
   ]
  },
  {
   "cell_type": "code",
   "execution_count": 119,
   "id": "e83f491d",
   "metadata": {},
   "outputs": [],
   "source": [
    "tk = MWETokenizer(separator=\" \")\n",
    "tk.add_mwe(('Van','Rossem'))"
   ]
  },
  {
   "cell_type": "code",
   "execution_count": 122,
   "id": "75360c88",
   "metadata": {},
   "outputs": [
    {
     "data": {
      "text/plain": [
       "['Van Rossem',\n",
       " 'is',\n",
       " 'in',\n",
       " 'Pune',\n",
       " 'today',\n",
       " '.',\n",
       " 'We',\n",
       " 'welcome',\n",
       " 'Van Rossem',\n",
       " 'here',\n",
       " '.']"
      ]
     },
     "execution_count": 122,
     "metadata": {},
     "output_type": "execute_result"
    }
   ],
   "source": [
    "tk.tokenize(word_tokenize(sent))"
   ]
  },
  {
   "cell_type": "markdown",
   "id": "f864bd37",
   "metadata": {},
   "source": [
    "### Create our Own Tokenizer"
   ]
  },
  {
   "cell_type": "code",
   "execution_count": 123,
   "id": "4c94c724",
   "metadata": {},
   "outputs": [],
   "source": [
    "import re"
   ]
  },
  {
   "cell_type": "code",
   "execution_count": 127,
   "id": "ebfac5fe",
   "metadata": {},
   "outputs": [],
   "source": [
    "def custom_tokenizer(text):\n",
    "    return re.split(r\"[.,:;?!\\s]+\",text)"
   ]
  },
  {
   "cell_type": "code",
   "execution_count": 128,
   "id": "f3c9f902",
   "metadata": {},
   "outputs": [],
   "source": [
    "sents = '''hello friends!\n",
    "How-are you? wel.come to\\tPython Progra?mming.'''"
   ]
  },
  {
   "cell_type": "code",
   "execution_count": 129,
   "id": "d4d0969f",
   "metadata": {},
   "outputs": [
    {
     "data": {
      "text/plain": [
       "['hello',\n",
       " 'friends',\n",
       " 'How-are',\n",
       " 'you',\n",
       " 'wel',\n",
       " 'come',\n",
       " 'to',\n",
       " 'Python',\n",
       " 'Progra',\n",
       " 'mming',\n",
       " '']"
      ]
     },
     "execution_count": 129,
     "metadata": {},
     "output_type": "execute_result"
    }
   ],
   "source": [
    "custom_tokenizer(sents)"
   ]
  },
  {
   "cell_type": "markdown",
   "id": "0a215a37",
   "metadata": {},
   "source": [
    "## On a Dataset"
   ]
  },
  {
   "cell_type": "code",
   "execution_count": 150,
   "id": "015ca317",
   "metadata": {},
   "outputs": [],
   "source": [
    "f=open('student3.tsv')"
   ]
  },
  {
   "cell_type": "code",
   "execution_count": 151,
   "id": "5aa46271",
   "metadata": {},
   "outputs": [],
   "source": [
    "data=f.read()"
   ]
  },
  {
   "cell_type": "code",
   "execution_count": 140,
   "id": "690fb635",
   "metadata": {},
   "outputs": [
    {
     "data": {
      "text/plain": [
       "'roll\\tname\\tclass\\tmarks\\tage\\n1\\tanil\\tTE\\t56.77\\t22\\n2\\tamit\\tTE\\t59.77\\t21\\n3\\taniket\\tBE\\t76.88\\t19\\n4\\tajinkya\\tTE\\t69.66\\t20\\n5\\tasha\\tTE\\t63.28\\t20\\n6\\tayesha\\tBE\\t49.55\\t20\\n7\\tamar\\tBE\\t65.34\\t19\\n8\\tamita\\tBE\\t68.33\\t23\\n9\\tamol\\tTE\\t56.75\\t20\\n10\\tanmol\\tBE\\t78.66\\t21\\n'"
      ]
     },
     "execution_count": 140,
     "metadata": {},
     "output_type": "execute_result"
    }
   ],
   "source": [
    "# print(data)\n",
    "data"
   ]
  },
  {
   "cell_type": "code",
   "execution_count": 156,
   "id": "6606407d",
   "metadata": {},
   "outputs": [],
   "source": [
    "tk=LineTokenizer()\n",
    "tab_tk = TabTokenizer()"
   ]
  },
  {
   "cell_type": "code",
   "execution_count": 157,
   "id": "bc9f280a",
   "metadata": {},
   "outputs": [],
   "source": [
    "res=[]\n",
    "for i in tk.tokenize(data):\n",
    "    res.append(tab_tk.tokenize(i))"
   ]
  },
  {
   "cell_type": "code",
   "execution_count": 158,
   "id": "eab4296f",
   "metadata": {},
   "outputs": [
    {
     "data": {
      "text/plain": [
       "[['roll', 'name', 'class', 'marks', 'age'],\n",
       " ['1', 'anil', 'TE', '56.77', '22'],\n",
       " ['2', 'amit', 'TE', '59.77', '21'],\n",
       " ['3', 'aniket', 'BE', '76.88', '19'],\n",
       " ['4', 'ajinkya', 'TE', '69.66', '20'],\n",
       " ['5', 'asha', 'TE', '63.28', '20'],\n",
       " ['6', 'ayesha', 'BE', '49.55', '20'],\n",
       " ['7', 'amar', 'BE', '65.34', '19'],\n",
       " ['8', 'amita', 'BE', '68.33', '23'],\n",
       " ['9', 'amol', 'TE', '56.75', '20'],\n",
       " ['10', 'anmol', 'BE', '78.66', '21']]"
      ]
     },
     "execution_count": 158,
     "metadata": {},
     "output_type": "execute_result"
    }
   ],
   "source": [
    "res"
   ]
  },
  {
   "cell_type": "code",
   "execution_count": 161,
   "id": "c8503832",
   "metadata": {},
   "outputs": [
    {
     "name": "stdout",
     "output_type": "stream",
     "text": [
      "['10', 'anmol', 'BE', '78.66', '21']\n"
     ]
    }
   ],
   "source": [
    "max=res[1][3]\n",
    "ind=res[1][1]\n",
    "for i in res[1:]:\n",
    "    if i[3]>max:\n",
    "        ind=i\n",
    "print(i)"
   ]
  },
  {
   "cell_type": "code",
   "execution_count": null,
   "id": "85b1f968",
   "metadata": {},
   "outputs": [],
   "source": []
  }
 ],
 "metadata": {
  "kernelspec": {
   "display_name": "Python 3 (ipykernel)",
   "language": "python",
   "name": "python3"
  },
  "language_info": {
   "codemirror_mode": {
    "name": "ipython",
    "version": 3
   },
   "file_extension": ".py",
   "mimetype": "text/x-python",
   "name": "python",
   "nbconvert_exporter": "python",
   "pygments_lexer": "ipython3",
   "version": "3.11.4"
  }
 },
 "nbformat": 4,
 "nbformat_minor": 5
}
