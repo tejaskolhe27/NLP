{
 "cells": [
  {
   "cell_type": "markdown",
   "id": "51fb6fad",
   "metadata": {},
   "source": [
    "### Porter Stemmer"
   ]
  },
  {
   "cell_type": "code",
   "execution_count": 1,
   "id": "3863c83a",
   "metadata": {},
   "outputs": [],
   "source": [
    "words1 = 'cat','catty','catlike','cats'\n",
    "words2 = 'playing','plays','played','players'\n",
    "words3 = 'go','went','gone','going','goes'\n",
    "words4 = 'goods','better','best','fasting','reachable'\n",
    "words5 = 'program','programmed','programming','programatic'"
   ]
  },
  {
   "cell_type": "code",
   "execution_count": 2,
   "id": "03b6d128",
   "metadata": {},
   "outputs": [],
   "source": [
    "from nltk.stem import PorterStemmer"
   ]
  },
  {
   "cell_type": "code",
   "execution_count": 3,
   "id": "80021b5a",
   "metadata": {},
   "outputs": [],
   "source": [
    "ps = PorterStemmer()"
   ]
  },
  {
   "cell_type": "code",
   "execution_count": 4,
   "id": "fb6b4103",
   "metadata": {},
   "outputs": [
    {
     "data": {
      "text/plain": [
       "'play'"
      ]
     },
     "execution_count": 4,
     "metadata": {},
     "output_type": "execute_result"
    }
   ],
   "source": [
    "ps.stem(words2[2])"
   ]
  },
  {
   "cell_type": "code",
   "execution_count": 5,
   "id": "7443b983",
   "metadata": {},
   "outputs": [
    {
     "data": {
      "text/plain": [
       "'goe'"
      ]
     },
     "execution_count": 5,
     "metadata": {},
     "output_type": "execute_result"
    }
   ],
   "source": [
    "ps.stem(words3[4])"
   ]
  },
  {
   "cell_type": "code",
   "execution_count": 6,
   "id": "6df033b3",
   "metadata": {},
   "outputs": [
    {
     "name": "stdout",
     "output_type": "stream",
     "text": [
      "cat\n",
      "catti\n",
      "catlik\n",
      "cat\n"
     ]
    }
   ],
   "source": [
    "for word in words1:\n",
    "    print(ps.stem(word))"
   ]
  },
  {
   "cell_type": "code",
   "execution_count": 7,
   "id": "b802addc",
   "metadata": {},
   "outputs": [
    {
     "name": "stdout",
     "output_type": "stream",
     "text": [
      "play\n",
      "play\n",
      "play\n",
      "player\n"
     ]
    }
   ],
   "source": [
    "for word in words2:\n",
    "    print(ps.stem(word))"
   ]
  },
  {
   "cell_type": "code",
   "execution_count": 8,
   "id": "7cd0dfb8",
   "metadata": {},
   "outputs": [
    {
     "name": "stdout",
     "output_type": "stream",
     "text": [
      "go\n",
      "went\n",
      "gone\n",
      "go\n",
      "goe\n"
     ]
    }
   ],
   "source": [
    "for word in words3:\n",
    "    print(ps.stem(word))"
   ]
  },
  {
   "cell_type": "code",
   "execution_count": 9,
   "id": "281d7a44",
   "metadata": {},
   "outputs": [
    {
     "name": "stdout",
     "output_type": "stream",
     "text": [
      "good\n",
      "better\n",
      "best\n",
      "fast\n",
      "reachabl\n"
     ]
    }
   ],
   "source": [
    "for word in words4:\n",
    "    print(ps.stem(word))"
   ]
  },
  {
   "cell_type": "code",
   "execution_count": 10,
   "id": "8f8d6506",
   "metadata": {},
   "outputs": [
    {
     "name": "stdout",
     "output_type": "stream",
     "text": [
      "program\n",
      "program\n",
      "program\n",
      "programat\n"
     ]
    }
   ],
   "source": [
    "for word in words5:\n",
    "    print(ps.stem(word))"
   ]
  },
  {
   "cell_type": "markdown",
   "id": "89109b9f",
   "metadata": {},
   "source": [
    "### Lancaster Stemmer"
   ]
  },
  {
   "cell_type": "code",
   "execution_count": 11,
   "id": "be439c96",
   "metadata": {},
   "outputs": [],
   "source": [
    "from nltk.stem import LancasterStemmer"
   ]
  },
  {
   "cell_type": "code",
   "execution_count": 12,
   "id": "da97696b",
   "metadata": {},
   "outputs": [],
   "source": [
    "ls = LancasterStemmer()"
   ]
  },
  {
   "cell_type": "code",
   "execution_count": 13,
   "id": "bf0b6b5f",
   "metadata": {},
   "outputs": [
    {
     "name": "stdout",
     "output_type": "stream",
     "text": [
      "cat\n",
      "catty\n",
      "catlik\n",
      "cat\n"
     ]
    }
   ],
   "source": [
    "for word in words1:\n",
    "    print(ls.stem(word))"
   ]
  },
  {
   "cell_type": "code",
   "execution_count": 14,
   "id": "72ce0bca",
   "metadata": {},
   "outputs": [
    {
     "name": "stdout",
     "output_type": "stream",
     "text": [
      "play\n",
      "play\n",
      "play\n",
      "play\n"
     ]
    }
   ],
   "source": [
    "for word in words2:\n",
    "    print(ls.stem(word))"
   ]
  },
  {
   "cell_type": "code",
   "execution_count": 15,
   "id": "2d90477d",
   "metadata": {},
   "outputs": [
    {
     "name": "stdout",
     "output_type": "stream",
     "text": [
      "go\n",
      "went\n",
      "gon\n",
      "going\n",
      "goe\n"
     ]
    }
   ],
   "source": [
    "for word in words3:\n",
    "    print(ls.stem(word))"
   ]
  },
  {
   "cell_type": "code",
   "execution_count": 16,
   "id": "696e8a03",
   "metadata": {},
   "outputs": [
    {
     "name": "stdout",
     "output_type": "stream",
     "text": [
      "good\n",
      "bet\n",
      "best\n",
      "fast\n",
      "reach\n"
     ]
    }
   ],
   "source": [
    "for word in words4:\n",
    "    print(ls.stem(word))"
   ]
  },
  {
   "cell_type": "code",
   "execution_count": 17,
   "id": "9768c2a6",
   "metadata": {},
   "outputs": [
    {
     "name": "stdout",
     "output_type": "stream",
     "text": [
      "program\n",
      "program\n",
      "program\n",
      "program\n"
     ]
    }
   ],
   "source": [
    "for word in words5:\n",
    "    print(ls.stem(word))"
   ]
  },
  {
   "cell_type": "markdown",
   "id": "cadc476f",
   "metadata": {},
   "source": [
    "# LEMMATIZATION"
   ]
  },
  {
   "cell_type": "markdown",
   "id": "0dd57891",
   "metadata": {},
   "source": [
    "v -> verb\n",
    "\n",
    "a -> adjective\n",
    "\n",
    "r -> adverb\n",
    "\n",
    "n -> noun"
   ]
  },
  {
   "cell_type": "code",
   "execution_count": 50,
   "id": "fd574278",
   "metadata": {},
   "outputs": [],
   "source": [
    "words1 = 'cat','catty','catlike','cats'\n",
    "words2 = 'playing','plays','played','players'\n",
    "words3 = 'go','went','gone','going','goes'\n",
    "words4 = 'goods','better','best','fasting','reachable'\n",
    "words5 = 'program','programmed','programming','programmatic'"
   ]
  },
  {
   "cell_type": "code",
   "execution_count": 18,
   "id": "e6fa6d2e",
   "metadata": {},
   "outputs": [],
   "source": [
    "from nltk.stem import WordNetLemmatizer"
   ]
  },
  {
   "cell_type": "code",
   "execution_count": 19,
   "id": "0762c18c",
   "metadata": {},
   "outputs": [],
   "source": [
    "lem = WordNetLemmatizer()"
   ]
  },
  {
   "cell_type": "code",
   "execution_count": 44,
   "id": "b3345487",
   "metadata": {},
   "outputs": [
    {
     "name": "stdout",
     "output_type": "stream",
     "text": [
      "cat\n",
      "catty\n",
      "catlike\n",
      "cat\n"
     ]
    }
   ],
   "source": [
    "for word in words1:\n",
    "    print(lem.lemmatize(word,pos='n'))"
   ]
  },
  {
   "cell_type": "code",
   "execution_count": 39,
   "id": "e45b5f6b",
   "metadata": {},
   "outputs": [
    {
     "name": "stdout",
     "output_type": "stream",
     "text": [
      "play\n",
      "play\n",
      "play\n",
      "players\n"
     ]
    }
   ],
   "source": [
    "for word in words2:\n",
    "    print(lem.lemmatize(word,pos='v'))"
   ]
  },
  {
   "cell_type": "code",
   "execution_count": 28,
   "id": "a90ea2af",
   "metadata": {},
   "outputs": [
    {
     "name": "stdout",
     "output_type": "stream",
     "text": [
      "go\n",
      "go\n",
      "go\n",
      "go\n",
      "go\n"
     ]
    }
   ],
   "source": [
    "for word in words3:\n",
    "    print(lem.lemmatize(word,pos='v'))"
   ]
  },
  {
   "cell_type": "code",
   "execution_count": 48,
   "id": "86cdc954",
   "metadata": {},
   "outputs": [
    {
     "name": "stdout",
     "output_type": "stream",
     "text": [
      "goods\n",
      "good\n",
      "best\n",
      "fasting\n",
      "reachable\n"
     ]
    }
   ],
   "source": [
    "for word in words4:\n",
    "    print(lem.lemmatize(word,pos='a'))"
   ]
  },
  {
   "cell_type": "code",
   "execution_count": 51,
   "id": "cfdadee0",
   "metadata": {},
   "outputs": [
    {
     "name": "stdout",
     "output_type": "stream",
     "text": [
      "program\n",
      "program\n",
      "program\n",
      "programmatic\n"
     ]
    }
   ],
   "source": [
    "for word in words5:\n",
    "    print(lem.lemmatize(word,pos='v'))"
   ]
  },
  {
   "cell_type": "code",
   "execution_count": 49,
   "id": "0efdbab5",
   "metadata": {},
   "outputs": [
    {
     "name": "stdout",
     "output_type": "stream",
     "text": [
      "wait\n",
      "wait\n",
      "wait\n",
      "wait\n"
     ]
    }
   ],
   "source": [
    "words6 = \"wait\", \"waiting\", \"waited\", \"waits\"\n",
    "for word in words6:\n",
    "    print(lem.lemmatize(word,pos='v'))"
   ]
  },
  {
   "cell_type": "code",
   "execution_count": null,
   "id": "1fee5d0b",
   "metadata": {},
   "outputs": [],
   "source": []
  }
 ],
 "metadata": {
  "kernelspec": {
   "display_name": "Python 3 (ipykernel)",
   "language": "python",
   "name": "python3"
  },
  "language_info": {
   "codemirror_mode": {
    "name": "ipython",
    "version": 3
   },
   "file_extension": ".py",
   "mimetype": "text/x-python",
   "name": "python",
   "nbconvert_exporter": "python",
   "pygments_lexer": "ipython3",
   "version": "3.11.4"
  }
 },
 "nbformat": 4,
 "nbformat_minor": 5
}
