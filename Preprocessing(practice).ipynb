{
 "cells": [
  {
   "cell_type": "markdown",
   "id": "16ea3edb",
   "metadata": {},
   "source": [
    "### Find the average of ages mentioned in the statement"
   ]
  },
  {
   "cell_type": "code",
   "execution_count": null,
   "id": "bde85baa",
   "metadata": {},
   "outputs": [],
   "source": [
    "sent = 'They told that their ages are 25 26 and 31 respectively'"
   ]
  },
  {
   "cell_type": "code",
   "execution_count": 3,
   "id": "175283c1",
   "metadata": {},
   "outputs": [
    {
     "data": {
      "text/plain": [
       "['They',\n",
       " 'told',\n",
       " 'that',\n",
       " 'their',\n",
       " 'ages',\n",
       " 'are',\n",
       " '25',\n",
       " '26',\n",
       " 'and',\n",
       " '31',\n",
       " 'respectively']"
      ]
     },
     "execution_count": 3,
     "metadata": {},
     "output_type": "execute_result"
    }
   ],
   "source": [
    "l = sent.split(' ')\n",
    "l"
   ]
  },
  {
   "cell_type": "code",
   "execution_count": 7,
   "id": "605cccf9",
   "metadata": {},
   "outputs": [
    {
     "name": "stdout",
     "output_type": "stream",
     "text": [
      "Avg is:  27.333333333333332\n"
     ]
    }
   ],
   "source": [
    "sum1=0\n",
    "cnt=0\n",
    "for i in l:\n",
    "    if i.isnumeric():\n",
    "        sum1 +=int(i)\n",
    "        cnt+=1\n",
    "        \n",
    "print(\"Avg is: \",(sum1/cnt))"
   ]
  },
  {
   "cell_type": "code",
   "execution_count": 15,
   "id": "e1f97785",
   "metadata": {},
   "outputs": [
    {
     "name": "stdout",
     "output_type": "stream",
     "text": [
      "[25, 26, 31]\n",
      "Avg is:  27.333333333333332\n"
     ]
    }
   ],
   "source": [
    "# OR\n",
    "\n",
    "words=sent.split()\n",
    "ages=[]\n",
    "for word in words:\n",
    "    if word.isdigit():\n",
    "        ages.append(int(word))\n",
    "print(ages)\n",
    "print(\"Avg is: \",sum(ages)/len(ages))"
   ]
  },
  {
   "cell_type": "code",
   "execution_count": 13,
   "id": "09cc107d",
   "metadata": {},
   "outputs": [
    {
     "name": "stdout",
     "output_type": "stream",
     "text": [
      "Avg is:  27.333333333333332\n"
     ]
    }
   ],
   "source": [
    "# OR\n",
    "\n",
    "ages = [int(word) for word in words if word.isdigit()]\n",
    "print(\"Avg is: \",sum(ages)/len(ages))"
   ]
  },
  {
   "cell_type": "markdown",
   "id": "3cc59a94",
   "metadata": {},
   "source": [
    "### Find how many sentences are there in the line?"
   ]
  },
  {
   "cell_type": "code",
   "execution_count": 32,
   "id": "80c88a26",
   "metadata": {},
   "outputs": [],
   "source": [
    "sents = '''Hello friends!\n",
    "How are you? Welcome to Python Programming.'''"
   ]
  },
  {
   "cell_type": "code",
   "execution_count": 34,
   "id": "c03f2d07",
   "metadata": {},
   "outputs": [
    {
     "name": "stdout",
     "output_type": "stream",
     "text": [
      "No. of sentences are:  3\n"
     ]
    }
   ],
   "source": [
    "tokens = ['?','!','.']\n",
    "c=0\n",
    "for i in sents:\n",
    "    if i in tokens:\n",
    "        c+=1\n",
    "print(\"No. of sentences are: \",c)"
   ]
  },
  {
   "cell_type": "markdown",
   "id": "66a00b5b",
   "metadata": {},
   "source": [
    "### Make the first letter of every first word in a sentence CAPITAL"
   ]
  },
  {
   "cell_type": "code",
   "execution_count": 35,
   "id": "92d6ad24",
   "metadata": {},
   "outputs": [],
   "source": [
    "### Make the first letter of every first word in sentence CAPITAL\n",
    "sents = '''hello friends!\n",
    "how are you? welcome to Python Programming.'''\n",
    "\n",
    "output = '''Hello friends!\n",
    "How are you? Welcome to Python Programming.'''"
   ]
  },
  {
   "cell_type": "code",
   "execution_count": 42,
   "id": "0806d6f8",
   "metadata": {},
   "outputs": [
    {
     "name": "stdout",
     "output_type": "stream",
     "text": [
      "Hello Friends!\n",
      "How Are You? Welcome To Python Programming.\n"
     ]
    }
   ],
   "source": [
    "capitalized_sents = sents.title()\n",
    "\n",
    "print(capitalized_sents)"
   ]
  },
  {
   "cell_type": "code",
   "execution_count": 63,
   "id": "1fa76421",
   "metadata": {},
   "outputs": [
    {
     "name": "stdout",
     "output_type": "stream",
     "text": [
      "Hello friends!\n",
      "how are you? welcome to python programming.\n"
     ]
    }
   ],
   "source": [
    "sentences = sents.split('!')\n",
    "capitalized_sentences = [sentence.capitalize() for sentence in sentences]\n",
    "output = '!'.join(capitalized_sentences)\n",
    "print(output)"
   ]
  }
 ],
 "metadata": {
  "kernelspec": {
   "display_name": "Python 3 (ipykernel)",
   "language": "python",
   "name": "python3"
  },
  "language_info": {
   "codemirror_mode": {
    "name": "ipython",
    "version": 3
   },
   "file_extension": ".py",
   "mimetype": "text/x-python",
   "name": "python",
   "nbconvert_exporter": "python",
   "pygments_lexer": "ipython3",
   "version": "3.11.4"
  }
 },
 "nbformat": 4,
 "nbformat_minor": 5
}
