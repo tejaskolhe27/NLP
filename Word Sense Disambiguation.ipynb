{
 "cells": [
  {
   "cell_type": "code",
   "execution_count": 1,
   "id": "21d0f1a6",
   "metadata": {},
   "outputs": [],
   "source": [
    "from nltk.wsd import lesk\n",
    "from nltk.tokenize import word_tokenize"
   ]
  },
  {
   "cell_type": "code",
   "execution_count": 2,
   "id": "726f9d61",
   "metadata": {},
   "outputs": [],
   "source": [
    "a1 = lesk(word_tokenize(\" this device is used to jam the signal\"),'jam')"
   ]
  },
  {
   "cell_type": "code",
   "execution_count": 3,
   "id": "c05a6652",
   "metadata": {},
   "outputs": [
    {
     "data": {
      "text/plain": [
       "'deliberate radiation or reflection of electromagnetic energy for the purpose of disrupting enemy use of electronic devices or systems'"
      ]
     },
     "execution_count": 3,
     "metadata": {},
     "output_type": "execute_result"
    }
   ],
   "source": [
    "a1.definition()"
   ]
  },
  {
   "cell_type": "code",
   "execution_count": 4,
   "id": "fdb90904",
   "metadata": {},
   "outputs": [
    {
     "data": {
      "text/plain": [
       "'deliberate radiation or reflection of electromagnetic energy for the purpose of disrupting enemy use of electronic devices or systems'"
      ]
     },
     "execution_count": 4,
     "metadata": {},
     "output_type": "execute_result"
    }
   ],
   "source": [
    "a2 = lesk(word_tokenize(\"There was a traffic jam at the junction\"),'jam')\n",
    "a2.definition()"
   ]
  },
  {
   "cell_type": "code",
   "execution_count": 5,
   "id": "8fd69569",
   "metadata": {},
   "outputs": [
    {
     "data": {
      "text/plain": [
       "'informal terms for a difficult situation'"
      ]
     },
     "execution_count": 5,
     "metadata": {},
     "output_type": "execute_result"
    }
   ],
   "source": [
    "a3 = lesk(word_tokenize(\"There was a traffic jam\"),'jam')\n",
    "a3.definition()"
   ]
  },
  {
   "cell_type": "code",
   "execution_count": 6,
   "id": "07997a35",
   "metadata": {},
   "outputs": [
    {
     "name": "stdout",
     "output_type": "stream",
     "text": [
      "Synset('season.v.01') lend flavor to\n",
      "Synset('season.n.01') a period of the year marked by special events or activities in some field\n"
     ]
    }
   ],
   "source": [
    "b1 = lesk(word_tokenize(\"Apply spices to the chicken to season it\"),\"season\")\n",
    "print(b1,b1.definition())\n",
    "b2 = lesk(word_tokenize(\"Mumbai recieves a lot of rain in the rainy season\"),\"season\")\n",
    "print(b2,b2.definition())"
   ]
  },
  {
   "cell_type": "code",
   "execution_count": 13,
   "id": "d4c16476",
   "metadata": {},
   "outputs": [
    {
     "data": {
      "text/plain": [
       "[Synset('curry.v.01'),\n",
       " Synset('resinate.v.01'),\n",
       " Synset('salt.v.01'),\n",
       " Synset('sauce.v.02'),\n",
       " Synset('savor.v.04'),\n",
       " Synset('zest.v.01')]"
      ]
     },
     "execution_count": 13,
     "metadata": {},
     "output_type": "execute_result"
    }
   ],
   "source": [
    "b1.hyponyms()"
   ]
  },
  {
   "cell_type": "code",
   "execution_count": 15,
   "id": "54a325ac",
   "metadata": {},
   "outputs": [
    {
     "name": "stdout",
     "output_type": "stream",
     "text": [
      "Synset('read.v.05') interpret the significance of, as of palms, tea leaves, intestines, the sky; also of human behavior\n",
      "Synset('understand.v.03') make sense of a language\n"
     ]
    }
   ],
   "source": [
    "c1 = lesk(word_tokenize(\"He reads the book\"),\"read\")\n",
    "print(c1,c1.definition())\n",
    "c2 = lesk(word_tokenize(\"He had read the book a long time ago\"),\"read\")\n",
    "print(c2,c2.definition())"
   ]
  },
  {
   "cell_type": "code",
   "execution_count": 20,
   "id": "9fb94708",
   "metadata": {},
   "outputs": [
    {
     "name": "stdout",
     "output_type": "stream",
     "text": [
      "Synset('bottle.n.02') the quantity contained in a bottle\n",
      "Synset('bottle.n.02') the quantity contained in a bottle\n"
     ]
    }
   ],
   "source": [
    "d1 = lesk(word_tokenize(\"Do not bottle up your emotions\"),\"bottle\")\n",
    "print(d1,d1.definition())\n",
    "\n",
    "d2 = lesk(word_tokenize(\"I drank from his bottle\"),\"bottle\")\n",
    "print(d2,d2.definition())"
   ]
  },
  {
   "cell_type": "code",
   "execution_count": null,
   "id": "44af3710",
   "metadata": {},
   "outputs": [],
   "source": []
  }
 ],
 "metadata": {
  "kernelspec": {
   "display_name": "Python 3 (ipykernel)",
   "language": "python",
   "name": "python3"
  },
  "language_info": {
   "codemirror_mode": {
    "name": "ipython",
    "version": 3
   },
   "file_extension": ".py",
   "mimetype": "text/x-python",
   "name": "python",
   "nbconvert_exporter": "python",
   "pygments_lexer": "ipython3",
   "version": "3.11.4"
  }
 },
 "nbformat": 4,
 "nbformat_minor": 5
}
