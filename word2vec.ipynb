{
 "cells": [
  {
   "cell_type": "code",
   "execution_count": 1,
   "id": "ba2d4893",
   "metadata": {},
   "outputs": [],
   "source": [
    "import nltk,string,gensim\n",
    "import json\n",
    "import pandas as pd\n"
   ]
  },
  {
   "cell_type": "code",
   "execution_count": 2,
   "id": "1b991d32",
   "metadata": {},
   "outputs": [
    {
     "name": "stderr",
     "output_type": "stream",
     "text": [
      "[nltk_data] Error loading abc: <urlopen error [Errno 104] Connection\n",
      "[nltk_data]     reset by peer>\n"
     ]
    },
    {
     "data": {
      "text/plain": [
       "False"
      ]
     },
     "execution_count": 2,
     "metadata": {},
     "output_type": "execute_result"
    }
   ],
   "source": [
    "nltk.download('abc')"
   ]
  },
  {
   "cell_type": "code",
   "execution_count": 3,
   "id": "1d1fe4ee",
   "metadata": {},
   "outputs": [],
   "source": [
    "from nltk.corpus import abc\n"
   ]
  },
  {
   "cell_type": "code",
   "execution_count": 4,
   "id": "0b00ca95",
   "metadata": {},
   "outputs": [],
   "source": [
    "#nearbt 29k sentences are available in the liabrary we can use this\n",
    "sents = abc.sents()"
   ]
  },
  {
   "cell_type": "code",
   "execution_count": 5,
   "id": "e82294be",
   "metadata": {},
   "outputs": [
    {
     "data": {
      "text/plain": [
       "29059"
      ]
     },
     "execution_count": 5,
     "metadata": {},
     "output_type": "execute_result"
    }
   ],
   "source": [
    "len(sents)"
   ]
  },
  {
   "cell_type": "code",
   "execution_count": 6,
   "id": "7741bb3f",
   "metadata": {},
   "outputs": [],
   "source": [
    "model = gensim.models.Word2Vec(abc.sents())"
   ]
  },
  {
   "cell_type": "code",
   "execution_count": 7,
   "id": "7d3d1f58",
   "metadata": {
    "scrolled": true
   },
   "outputs": [
    {
     "name": "stdout",
     "output_type": "stream",
     "text": [
      "[('law', 0.9220589995384216), ('policy', 0.9110901355743408), ('general', 0.9042730927467346), ('discussion', 0.9033832550048828), ('media', 0.9009779095649719), ('agriculture', 0.8990622758865356), ('Sam', 0.8937610983848572), ('unprecedented', 0.8928165435791016), ('education', 0.8923560976982117), ('astronomy', 0.8916730880737305)]\n"
     ]
    }
   ],
   "source": [
    "data = model.wv.most_similar('science')\n",
    "print(data)"
   ]
  },
  {
   "cell_type": "markdown",
   "id": "65430507",
   "metadata": {},
   "source": [
    "### Load The Json File"
   ]
  },
  {
   "cell_type": "code",
   "execution_count": 8,
   "id": "e0dced30",
   "metadata": {},
   "outputs": [],
   "source": [
    "\n",
    "json_file = \"intents.json\"\n",
    "with open(json_file,'r') as f:\n",
    "    data = json.load(f)"
   ]
  },
  {
   "cell_type": "code",
   "execution_count": 9,
   "id": "5126c9e3",
   "metadata": {},
   "outputs": [
    {
     "data": {
      "text/plain": [
       "[{'tag': 'welcome',\n",
       "  'patterns': ['Hi',\n",
       "   'How are you',\n",
       "   'Is any one to talk?',\n",
       "   'Hello',\n",
       "   'hi are you available'],\n",
       "  'responses': ['Hello, thanks for contacting us',\n",
       "   'Good to see you here',\n",
       "   ' Hi there, how may I assist you?']},\n",
       " {'tag': 'goodbye',\n",
       "  'patterns': ['Bye', 'See you later', 'Goodbye', 'I will come back soon'],\n",
       "  'responses': ['See you later, thanks for visiting',\n",
       "   'have a great day ahead',\n",
       "   'Wish you Come back again soon.']},\n",
       " {'tag': 'thankful',\n",
       "  'patterns': ['Thanks for helping me',\n",
       "   'Thank your guidance',\n",
       "   \"That's helpful and kind from you\"],\n",
       "  'responses': ['Happy to help!',\n",
       "   'Any time!',\n",
       "   'My pleasure',\n",
       "   'It is my duty to help you']},\n",
       " {'tag': 'hoursopening',\n",
       "  'patterns': ['What hours are you open?',\n",
       "   'Tell your opening time?',\n",
       "   'When are you open?',\n",
       "   'Just your timing please'],\n",
       "  'responses': [\"We're open every day 8am-7pm\",\n",
       "   'Our office hours are 8am-7pm every day',\n",
       "   'We open office at 8 am and close at 7 pm']},\n",
       " {'tag': 'payments',\n",
       "  'patterns': ['Can I pay using credit card?',\n",
       "   ' Can I pay using Mastercard?',\n",
       "   ' Can I pay using cash only?'],\n",
       "  'responses': ['We accept VISA, Mastercard and credit card',\n",
       "   'We accept credit card, debit cards and cash. Please don’t worry']}]"
      ]
     },
     "execution_count": 9,
     "metadata": {},
     "output_type": "execute_result"
    }
   ],
   "source": [
    "data"
   ]
  },
  {
   "cell_type": "code",
   "execution_count": 10,
   "id": "4812feb0",
   "metadata": {},
   "outputs": [],
   "source": [
    "#converting data into data Frame"
   ]
  },
  {
   "cell_type": "code",
   "execution_count": 11,
   "id": "7c643048",
   "metadata": {},
   "outputs": [],
   "source": [
    "df = pd.DataFrame(data)"
   ]
  },
  {
   "cell_type": "code",
   "execution_count": 12,
   "id": "3f843600",
   "metadata": {},
   "outputs": [
    {
     "data": {
      "text/html": [
       "<div>\n",
       "<style scoped>\n",
       "    .dataframe tbody tr th:only-of-type {\n",
       "        vertical-align: middle;\n",
       "    }\n",
       "\n",
       "    .dataframe tbody tr th {\n",
       "        vertical-align: top;\n",
       "    }\n",
       "\n",
       "    .dataframe thead th {\n",
       "        text-align: right;\n",
       "    }\n",
       "</style>\n",
       "<table border=\"1\" class=\"dataframe\">\n",
       "  <thead>\n",
       "    <tr style=\"text-align: right;\">\n",
       "      <th></th>\n",
       "      <th>tag</th>\n",
       "      <th>patterns</th>\n",
       "      <th>responses</th>\n",
       "    </tr>\n",
       "  </thead>\n",
       "  <tbody>\n",
       "    <tr>\n",
       "      <th>0</th>\n",
       "      <td>welcome</td>\n",
       "      <td>[Hi, How are you, Is any one to talk?, Hello, ...</td>\n",
       "      <td>[Hello, thanks for contacting us, Good to see ...</td>\n",
       "    </tr>\n",
       "    <tr>\n",
       "      <th>1</th>\n",
       "      <td>goodbye</td>\n",
       "      <td>[Bye, See you later, Goodbye, I will come back...</td>\n",
       "      <td>[See you later, thanks for visiting, have a gr...</td>\n",
       "    </tr>\n",
       "    <tr>\n",
       "      <th>2</th>\n",
       "      <td>thankful</td>\n",
       "      <td>[Thanks for helping me, Thank your guidance, T...</td>\n",
       "      <td>[Happy to help!, Any time!, My pleasure, It is...</td>\n",
       "    </tr>\n",
       "    <tr>\n",
       "      <th>3</th>\n",
       "      <td>hoursopening</td>\n",
       "      <td>[What hours are you open?, Tell your opening t...</td>\n",
       "      <td>[We're open every day 8am-7pm, Our office hour...</td>\n",
       "    </tr>\n",
       "    <tr>\n",
       "      <th>4</th>\n",
       "      <td>payments</td>\n",
       "      <td>[Can I pay using credit card?,  Can I pay usin...</td>\n",
       "      <td>[We accept VISA, Mastercard and credit card, W...</td>\n",
       "    </tr>\n",
       "  </tbody>\n",
       "</table>\n",
       "</div>"
      ],
      "text/plain": [
       "            tag                                           patterns  \\\n",
       "0       welcome  [Hi, How are you, Is any one to talk?, Hello, ...   \n",
       "1       goodbye  [Bye, See you later, Goodbye, I will come back...   \n",
       "2      thankful  [Thanks for helping me, Thank your guidance, T...   \n",
       "3  hoursopening  [What hours are you open?, Tell your opening t...   \n",
       "4      payments  [Can I pay using credit card?,  Can I pay usin...   \n",
       "\n",
       "                                           responses  \n",
       "0  [Hello, thanks for contacting us, Good to see ...  \n",
       "1  [See you later, thanks for visiting, have a gr...  \n",
       "2  [Happy to help!, Any time!, My pleasure, It is...  \n",
       "3  [We're open every day 8am-7pm, Our office hour...  \n",
       "4  [We accept VISA, Mastercard and credit card, W...  "
      ]
     },
     "execution_count": 12,
     "metadata": {},
     "output_type": "execute_result"
    }
   ],
   "source": [
    "df"
   ]
  },
  {
   "cell_type": "code",
   "execution_count": 13,
   "id": "eb440085",
   "metadata": {},
   "outputs": [],
   "source": [
    "df['patterns'] = df['patterns'].apply(', '.join)"
   ]
  },
  {
   "cell_type": "code",
   "execution_count": 14,
   "id": "f2af1730",
   "metadata": {
    "scrolled": true
   },
   "outputs": [
    {
     "data": {
      "text/html": [
       "<div>\n",
       "<style scoped>\n",
       "    .dataframe tbody tr th:only-of-type {\n",
       "        vertical-align: middle;\n",
       "    }\n",
       "\n",
       "    .dataframe tbody tr th {\n",
       "        vertical-align: top;\n",
       "    }\n",
       "\n",
       "    .dataframe thead th {\n",
       "        text-align: right;\n",
       "    }\n",
       "</style>\n",
       "<table border=\"1\" class=\"dataframe\">\n",
       "  <thead>\n",
       "    <tr style=\"text-align: right;\">\n",
       "      <th></th>\n",
       "      <th>tag</th>\n",
       "      <th>patterns</th>\n",
       "      <th>responses</th>\n",
       "    </tr>\n",
       "  </thead>\n",
       "  <tbody>\n",
       "    <tr>\n",
       "      <th>0</th>\n",
       "      <td>welcome</td>\n",
       "      <td>Hi, How are you, Is any one to talk?, Hello, h...</td>\n",
       "      <td>[Hello, thanks for contacting us, Good to see ...</td>\n",
       "    </tr>\n",
       "    <tr>\n",
       "      <th>1</th>\n",
       "      <td>goodbye</td>\n",
       "      <td>Bye, See you later, Goodbye, I will come back ...</td>\n",
       "      <td>[See you later, thanks for visiting, have a gr...</td>\n",
       "    </tr>\n",
       "    <tr>\n",
       "      <th>2</th>\n",
       "      <td>thankful</td>\n",
       "      <td>Thanks for helping me, Thank your guidance, Th...</td>\n",
       "      <td>[Happy to help!, Any time!, My pleasure, It is...</td>\n",
       "    </tr>\n",
       "    <tr>\n",
       "      <th>3</th>\n",
       "      <td>hoursopening</td>\n",
       "      <td>What hours are you open?, Tell your opening ti...</td>\n",
       "      <td>[We're open every day 8am-7pm, Our office hour...</td>\n",
       "    </tr>\n",
       "    <tr>\n",
       "      <th>4</th>\n",
       "      <td>payments</td>\n",
       "      <td>Can I pay using credit card?,  Can I pay using...</td>\n",
       "      <td>[We accept VISA, Mastercard and credit card, W...</td>\n",
       "    </tr>\n",
       "  </tbody>\n",
       "</table>\n",
       "</div>"
      ],
      "text/plain": [
       "            tag                                           patterns  \\\n",
       "0       welcome  Hi, How are you, Is any one to talk?, Hello, h...   \n",
       "1       goodbye  Bye, See you later, Goodbye, I will come back ...   \n",
       "2      thankful  Thanks for helping me, Thank your guidance, Th...   \n",
       "3  hoursopening  What hours are you open?, Tell your opening ti...   \n",
       "4      payments  Can I pay using credit card?,  Can I pay using...   \n",
       "\n",
       "                                           responses  \n",
       "0  [Hello, thanks for contacting us, Good to see ...  \n",
       "1  [See you later, thanks for visiting, have a gr...  \n",
       "2  [Happy to help!, Any time!, My pleasure, It is...  \n",
       "3  [We're open every day 8am-7pm, Our office hour...  \n",
       "4  [We accept VISA, Mastercard and credit card, W...  "
      ]
     },
     "execution_count": 14,
     "metadata": {},
     "output_type": "execute_result"
    }
   ],
   "source": [
    "df"
   ]
  },
  {
   "cell_type": "markdown",
   "id": "1339c5ce",
   "metadata": {},
   "source": [
    "`!pip install textblob`"
   ]
  },
  {
   "cell_type": "code",
   "execution_count": 15,
   "id": "73a5af7d",
   "metadata": {},
   "outputs": [],
   "source": [
    "#preproccesig of the data \n",
    "from nltk.corpus import stopwords\n",
    "from textblob import Word \n",
    "from nltk.tokenize import word_tokenize"
   ]
  },
  {
   "cell_type": "code",
   "execution_count": 16,
   "id": "29141ca3",
   "metadata": {},
   "outputs": [],
   "source": [
    "stop = stopwords.words('english')\n",
    "# Lowercase all words in the \"patterns\" column\n",
    "df['patterns'] = df['patterns'].apply(lambda x: ' '.join(x.lower() for x in x.split()))\n",
    "\n",
    "# Remove punctuation from \"patterns\"\n",
    "df['patterns'] = df['patterns'].apply(\n",
    "    lambda x: ' '.join(x for x in word_tokenize(x) if x not in string.punctuation))\n",
    "\n",
    "# Remove non-alphanumeric characters from \"patterns\"\n",
    "df['patterns'] = df['patterns'].str.replace('[^\\w\\s]','')\n",
    "\n",
    "# Remove digits from \"patterns\"\n",
    "df['patterns'] = df['patterns'].apply(lambda x: ' '.join(x for x in x.split() if not x.isdigit()))\n",
    "\n",
    "# Remove stop words from \"patterns\"\n",
    "df['patterns'] = df['patterns'].apply(lambda x: ' '.join(x for x in x.split() if not x in stop))\n",
    "\n",
    "# Lemmatize all words in \"patterns\"\n",
    "df['patterns'] = df['patterns'].apply(\n",
    "    lambda x: ' '.join([Word(word).lemmatize() for word in x.split()]))\n",
    "\n",
    "\n"
   ]
  },
  {
   "cell_type": "code",
   "execution_count": 17,
   "id": "7b68b8f4",
   "metadata": {},
   "outputs": [
    {
     "data": {
      "text/plain": [
       "0                       hi one talk hello hi available\n",
       "1                 bye see later goodbye come back soon\n",
       "2        thanks helping thank guidance 's helpful kind\n",
       "3       hour open tell opening time open timing please\n",
       "4    pay using credit card pay using mastercard pay...\n",
       "Name: patterns, dtype: object"
      ]
     },
     "execution_count": 17,
     "metadata": {},
     "output_type": "execute_result"
    }
   ],
   "source": [
    "df['patterns']"
   ]
  },
  {
   "cell_type": "code",
   "execution_count": 18,
   "id": "12569285",
   "metadata": {},
   "outputs": [],
   "source": [
    "from gensim.models import Word2Vec"
   ]
  },
  {
   "cell_type": "code",
   "execution_count": 19,
   "id": "4fc0aaf0",
   "metadata": {},
   "outputs": [
    {
     "name": "stdout",
     "output_type": "stream",
     "text": [
      "[['hi', 'one', 'talk', 'hello', 'hi', 'available'], ['bye', 'see', 'later', 'goodbye', 'come', 'back', 'soon'], ['thanks', 'helping', 'thank', 'guidance', \"'s\", 'helpful', 'kind'], ['hour', 'open', 'tell', 'opening', 'time', 'open', 'timing', 'please'], ['pay', 'using', 'credit', 'card', 'pay', 'using', 'mastercard', 'pay', 'using', 'cash']]\n"
     ]
    }
   ],
   "source": [
    "# taking the outer list\n",
    "bigger_list = []\n",
    "# Loop through each \"patterns\" entry in the DataFrame\n",
    "for i in df['patterns']:\n",
    "    # Split the current \"patterns\" string into a list of words\n",
    "    li = i.split()\n",
    "    bigger_list.append(li)\n",
    "print(bigger_list)"
   ]
  },
  {
   "cell_type": "code",
   "execution_count": 20,
   "id": "823143ee",
   "metadata": {},
   "outputs": [
    {
     "name": "stdout",
     "output_type": "stream",
     "text": [
      "Word2Vec<vocab=32, vector_size=100, alpha=0.025>\n"
     ]
    }
   ],
   "source": [
    "#custom data is fed to the machine for further processsing\n",
    "model = Word2Vec(bigger_list,min_count=1,workers = 4)\n",
    "print(model)"
   ]
  },
  {
   "cell_type": "code",
   "execution_count": 21,
   "id": "3fdec035",
   "metadata": {},
   "outputs": [],
   "source": [
    "model.save('word2vec.model') # saving the model in system\n",
    "model.save('model.bin')"
   ]
  },
  {
   "cell_type": "code",
   "execution_count": 22,
   "id": "d145e665",
   "metadata": {},
   "outputs": [],
   "source": [
    "new_model = Word2Vec.load('model.bin') # load the model from local repo\n"
   ]
  },
  {
   "cell_type": "code",
   "execution_count": 23,
   "id": "f95293d3",
   "metadata": {},
   "outputs": [
    {
     "data": {
      "text/plain": [
       "['pay',\n",
       " 'using',\n",
       " 'open',\n",
       " 'hi',\n",
       " 'credit',\n",
       " 'card',\n",
       " 'please',\n",
       " 'cash',\n",
       " 'timing',\n",
       " 'time',\n",
       " 'opening',\n",
       " 'tell',\n",
       " 'hour',\n",
       " 'kind',\n",
       " 'helpful',\n",
       " 'mastercard',\n",
       " \"'s\",\n",
       " 'guidance',\n",
       " 'helping',\n",
       " 'thank',\n",
       " 'soon',\n",
       " 'back',\n",
       " 'come',\n",
       " 'thanks',\n",
       " 'goodbye',\n",
       " 'later',\n",
       " 'bye',\n",
       " 'see',\n",
       " 'available',\n",
       " 'hello',\n",
       " 'talk',\n",
       " 'one']"
      ]
     },
     "execution_count": 23,
     "metadata": {},
     "output_type": "execute_result"
    }
   ],
   "source": [
    "# Extract the vocabulary (list of all words known to the model)\n",
    "# by converting the key-to-index dictionary to a simple list.\n",
    "vocab = list(new_model.wv.key_to_index)\n",
    "vocab"
   ]
  },
  {
   "cell_type": "code",
   "execution_count": 24,
   "id": "996a7caf",
   "metadata": {},
   "outputs": [
    {
     "name": "stdout",
     "output_type": "stream",
     "text": [
      "[('credit', 0.2528848946094513), ('later', 0.14958374202251434), ('thanks', 0.1472208946943283), ('helping', 0.14262542128562927), ('using', 0.13770504295825958), ('guidance', 0.11663373559713364), ('back', 0.07196696102619171), ('talk', 0.0620444193482399), ('come', 0.0456683486700058), ('card', 0.04410775378346443)]\n"
     ]
    }
   ],
   "source": [
    "similar_words = new_model.wv.most_similar('kind')\n",
    "print(similar_words)"
   ]
  },
  {
   "cell_type": "code",
   "execution_count": 25,
   "id": "1505e044",
   "metadata": {},
   "outputs": [
    {
     "name": "stdout",
     "output_type": "stream",
     "text": [
      "[('pay', 0.2164667844772339), ('available', 0.12651866674423218), ('hello', 0.10320200026035309), ('bye', 0.08369238674640656), ('come', 0.07771766185760498), ('one', 0.06282763928174973), ('timing', 0.04463838413357735), ('talk', 0.030229926109313965), ('thanks', 0.02999662235379219), ('helping', 0.02045464888215065)]\n"
     ]
    }
   ],
   "source": [
    "similar_words = new_model.wv.most_similar('time')\n",
    "print(similar_words)"
   ]
  },
  {
   "cell_type": "code",
   "execution_count": 26,
   "id": "50981a5f",
   "metadata": {},
   "outputs": [
    {
     "name": "stdout",
     "output_type": "stream",
     "text": [
      "[('credit', 0.20074497163295746), ('please', 0.17751173675060272), ('available', 0.16687217354774475), ('later', 0.11886844784021378), ('thank', 0.11027880012989044), ('thanks', 0.10125463455915451), ('cash', 0.09661099314689636), ('time', 0.08369241654872894), ('back', 0.0825704038143158), ('guidance', 0.07622209936380386)]\n"
     ]
    }
   ],
   "source": [
    "similar_words = new_model.wv.most_similar('bye')\n",
    "print(similar_words)"
   ]
  },
  {
   "cell_type": "code",
   "execution_count": 27,
   "id": "1e5af684",
   "metadata": {},
   "outputs": [
    {
     "name": "stdout",
     "output_type": "stream",
     "text": [
      "see\n"
     ]
    }
   ],
   "source": [
    "dissimilar_words = model.wv.doesnt_match(\n",
    "\"\"\" see you later, thanks for visiting \"\"\".split())\n",
    "print(dissimilar_words)"
   ]
  }
 ],
 "metadata": {
  "kernelspec": {
   "display_name": "Python 3 (ipykernel)",
   "language": "python",
   "name": "python3"
  },
  "language_info": {
   "codemirror_mode": {
    "name": "ipython",
    "version": 3
   },
   "file_extension": ".py",
   "mimetype": "text/x-python",
   "name": "python",
   "nbconvert_exporter": "python",
   "pygments_lexer": "ipython3",
   "version": "3.11.4"
  }
 },
 "nbformat": 4,
 "nbformat_minor": 5
}
