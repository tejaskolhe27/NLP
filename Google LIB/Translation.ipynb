{
 "cells": [
  {
   "cell_type": "code",
   "execution_count": 1,
   "id": "ba42a4c4",
   "metadata": {},
   "outputs": [
    {
     "name": "stdout",
     "output_type": "stream",
     "text": [
      "Collecting indic_transliteration\n",
      "  Downloading indic_transliteration-2.3.54-py3-none-any.whl.metadata (1.4 kB)\n",
      "Requirement already satisfied: backports.functools-lru-cache in /home/dai/anaconda3/lib/python3.11/site-packages (from indic_transliteration) (1.6.4)\n",
      "Requirement already satisfied: regex in /home/dai/.local/lib/python3.11/site-packages (from indic_transliteration) (2023.10.3)\n",
      "Requirement already satisfied: typer in /home/dai/anaconda3/lib/python3.11/site-packages (from indic_transliteration) (0.9.0)\n",
      "Requirement already satisfied: toml in /home/dai/anaconda3/lib/python3.11/site-packages (from indic_transliteration) (0.10.2)\n",
      "Collecting roman (from indic_transliteration)\n",
      "  Downloading roman-4.1-py3-none-any.whl.metadata (3.3 kB)\n",
      "Requirement already satisfied: click<9.0.0,>=7.1.1 in /home/dai/anaconda3/lib/python3.11/site-packages (from typer->indic_transliteration) (8.1.7)\n",
      "Requirement already satisfied: typing-extensions>=3.7.4.3 in /home/dai/anaconda3/lib/python3.11/site-packages (from typer->indic_transliteration) (4.8.0)\n",
      "Downloading indic_transliteration-2.3.54-py3-none-any.whl (146 kB)\n",
      "\u001b[2K   \u001b[38;2;114;156;31m━━━━━━━━━━━━━━━━━━━━━━━━━━━━━━━━━━━━━━━\u001b[0m \u001b[32m146.2/146.2 kB\u001b[0m \u001b[31m743.2 kB/s\u001b[0m eta \u001b[36m0:00:00\u001b[0m36m0:00:01\u001b[0m36m0:00:01\u001b[0m\n",
      "\u001b[?25hDownloading roman-4.1-py3-none-any.whl (5.5 kB)\n",
      "Installing collected packages: roman, indic_transliteration\n",
      "Successfully installed indic_transliteration-2.3.54 roman-4.1\n"
     ]
    }
   ],
   "source": [
    "#!pip install indic_transliteration"
   ]
  },
  {
   "cell_type": "code",
   "execution_count": 2,
   "id": "343d60eb",
   "metadata": {},
   "outputs": [],
   "source": [
    "from indic_transliteration import sanscript\n",
    "from indic_transliteration.sanscript import transliterate"
   ]
  },
  {
   "cell_type": "code",
   "execution_count": 24,
   "id": "ae975411",
   "metadata": {},
   "outputs": [],
   "source": [
    "data = \"tejasa kolhe\""
   ]
  },
  {
   "cell_type": "code",
   "execution_count": 25,
   "id": "3193083d",
   "metadata": {},
   "outputs": [
    {
     "name": "stdout",
     "output_type": "stream",
     "text": [
      "तेजस कोल्हे\n"
     ]
    }
   ],
   "source": [
    "print(transliterate(data,sanscript.ITRANS , sanscript.DEVANAGARI))"
   ]
  },
  {
   "cell_type": "code",
   "execution_count": 26,
   "id": "5dae1f63",
   "metadata": {},
   "outputs": [
    {
     "name": "stdout",
     "output_type": "stream",
     "text": [
      "തേജസ കോല്ഹേ\n"
     ]
    }
   ],
   "source": [
    "print(transliterate(data,sanscript.ITRANS , sanscript.MALAYALAM))"
   ]
  },
  {
   "cell_type": "code",
   "execution_count": null,
   "id": "f6d9692d",
   "metadata": {},
   "outputs": [],
   "source": []
  }
 ],
 "metadata": {
  "kernelspec": {
   "display_name": "Python 3 (ipykernel)",
   "language": "python",
   "name": "python3"
  },
  "language_info": {
   "codemirror_mode": {
    "name": "ipython",
    "version": 3
   },
   "file_extension": ".py",
   "mimetype": "text/x-python",
   "name": "python",
   "nbconvert_exporter": "python",
   "pygments_lexer": "ipython3",
   "version": "3.11.4"
  }
 },
 "nbformat": 4,
 "nbformat_minor": 5
}
