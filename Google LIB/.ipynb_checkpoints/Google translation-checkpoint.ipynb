{
 "cells": [
  {
   "cell_type": "code",
   "execution_count": 1,
   "id": "b1bff62c",
   "metadata": {},
   "outputs": [],
   "source": [
    "#pip install goslate"
   ]
  },
  {
   "cell_type": "code",
   "execution_count": 2,
   "id": "d5a6bf35",
   "metadata": {},
   "outputs": [],
   "source": [
    "from goslate import Goslate"
   ]
  },
  {
   "cell_type": "code",
   "execution_count": 3,
   "id": "71945106",
   "metadata": {},
   "outputs": [],
   "source": [
    "Text = \"Hello friends. i am your teacher . I will teach this course\""
   ]
  },
  {
   "cell_type": "code",
   "execution_count": 4,
   "id": "9c719034",
   "metadata": {},
   "outputs": [],
   "source": [
    "trans = Goslate()"
   ]
  },
  {
   "cell_type": "code",
   "execution_count": 6,
   "id": "48b0e6ca",
   "metadata": {},
   "outputs": [
    {
     "data": {
      "text/plain": [
       "'नमस्कार मित्रांनो. मी तुमचा शिक्षक आहे. मी हा कोर्स शिकवीन'"
      ]
     },
     "execution_count": 6,
     "metadata": {},
     "output_type": "execute_result"
    }
   ],
   "source": [
    "trans.translate(text = Text , target_language='mr')"
   ]
  },
  {
   "cell_type": "code",
   "execution_count": 7,
   "id": "e7365aae",
   "metadata": {},
   "outputs": [],
   "source": [
    "languages = Goslate().get_languages()"
   ]
  },
  {
   "cell_type": "code",
   "execution_count": 8,
   "id": "19c5e4af",
   "metadata": {},
   "outputs": [],
   "source": [
    "languages;"
   ]
  }
 ],
 "metadata": {
  "kernelspec": {
   "display_name": "Python 3 (ipykernel)",
   "language": "python",
   "name": "python3"
  },
  "language_info": {
   "codemirror_mode": {
    "name": "ipython",
    "version": 3
   },
   "file_extension": ".py",
   "mimetype": "text/x-python",
   "name": "python",
   "nbconvert_exporter": "python",
   "pygments_lexer": "ipython3",
   "version": "3.11.4"
  }
 },
 "nbformat": 4,
 "nbformat_minor": 5
}
