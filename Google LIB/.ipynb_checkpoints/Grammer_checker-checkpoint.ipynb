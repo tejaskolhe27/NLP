{
 "cells": [
  {
   "cell_type": "code",
   "execution_count": 1,
   "id": "7e8b8863",
   "metadata": {
    "scrolled": true
   },
   "outputs": [
    {
     "name": "stdout",
     "output_type": "stream",
     "text": [
      "Collecting language-tool-python\n",
      "  Downloading language_tool_python-2.7.1-py3-none-any.whl (34 kB)\n",
      "Requirement already satisfied: requests in /home/dai/anaconda3/lib/python3.11/site-packages (from language-tool-python) (2.31.0)\n",
      "Requirement already satisfied: tqdm in /home/dai/anaconda3/lib/python3.11/site-packages (from language-tool-python) (4.65.0)\n",
      "Requirement already satisfied: charset-normalizer<4,>=2 in /home/dai/anaconda3/lib/python3.11/site-packages (from requests->language-tool-python) (2.0.4)\n",
      "Requirement already satisfied: idna<4,>=2.5 in /home/dai/anaconda3/lib/python3.11/site-packages (from requests->language-tool-python) (3.4)\n",
      "Requirement already satisfied: urllib3<3,>=1.21.1 in /home/dai/anaconda3/lib/python3.11/site-packages (from requests->language-tool-python) (1.26.16)\n",
      "Requirement already satisfied: certifi>=2017.4.17 in /home/dai/anaconda3/lib/python3.11/site-packages (from requests->language-tool-python) (2023.11.17)\n",
      "Installing collected packages: language-tool-python\n",
      "Successfully installed language-tool-python-2.7.1\n"
     ]
    }
   ],
   "source": [
    "!pip install language-tool-python"
   ]
  },
  {
   "cell_type": "code",
   "execution_count": 2,
   "id": "ce006891",
   "metadata": {},
   "outputs": [],
   "source": [
    "import language_tool_python"
   ]
  },
  {
   "cell_type": "code",
   "execution_count": 3,
   "id": "a2eeb5e8",
   "metadata": {},
   "outputs": [
    {
     "name": "stderr",
     "output_type": "stream",
     "text": [
      "Downloading LanguageTool 5.7: 100%|██████████| 225M/225M [00:03<00:00, 59.5MB/s]\n",
      "Unzipping /tmp/tmp3yjmwan1.zip to /home/dai/.cache/language_tool_python.\n",
      "Downloaded https://www.languagetool.org/download/LanguageTool-5.7.zip to /home/dai/.cache/language_tool_python.\n"
     ]
    }
   ],
   "source": [
    "my_tool = language_tool_python.LanguageTool('en-US')"
   ]
  },
  {
   "cell_type": "code",
   "execution_count": 4,
   "id": "1b884fbd",
   "metadata": {},
   "outputs": [],
   "source": [
    "#given text"
   ]
  },
  {
   "cell_type": "code",
   "execution_count": 8,
   "id": "798551ed",
   "metadata": {},
   "outputs": [],
   "source": [
    "my_text = \"\"\"He have collected an documents . i is there.\"\"\""
   ]
  },
  {
   "cell_type": "code",
   "execution_count": 9,
   "id": "366a2bd8",
   "metadata": {},
   "outputs": [
    {
     "name": "stdout",
     "output_type": "stream",
     "text": [
      "Offset 3, length 4, Rule ID: HE_VERB_AGR\n",
      "Message: The pronoun ‘He’ is usually used with a third-person or a past tense verb.\n",
      "Suggestion: has; had\n",
      "He have collected an documents . i is there.\n",
      "   ^^^^\n",
      "Offset 18, length 12, Rule ID: A_NNS\n",
      "Message: The plural noun “documents” cannot be used with the article “an”. Did you mean “an document” or “documents”?\n",
      "Suggestion: an document; documents\n",
      "He have collected an documents . i is there.\n",
      "                  ^^^^^^^^^^^^\n",
      "Offset 30, length 2, Rule ID: COMMA_PARENTHESIS_WHITESPACE\n",
      "Message: Don’t put a space before the full stop.\n",
      "Suggestion: .\n",
      "He have collected an documents . i is there.\n",
      "                              ^^\n",
      "Offset 33, length 1, Rule ID: I_LOWERCASE\n",
      "Message: The personal pronoun “I” should be uppercase.\n",
      "Suggestion: I\n",
      "He have collected an documents . i is there.\n",
      "                                 ^\n",
      "Offset 35, length 2, Rule ID: PERS_PRONOUN_AGREEMENT\n",
      "Message: Did you mean “am” or “will be”?\n",
      "Suggestion: am; will be\n",
      "He have collected an documents . i is there.\n",
      "                                   ^^\n"
     ]
    }
   ],
   "source": [
    "#getting the matches\n",
    "my_matches = my_tool.check(my_text)\n",
    "\n",
    "#printing matches\n",
    "\n",
    "for m in my_matches:\n",
    "    print(m)"
   ]
  },
  {
   "cell_type": "code",
   "execution_count": 10,
   "id": "2e9197ef",
   "metadata": {},
   "outputs": [
    {
     "data": {
      "text/plain": [
       "'He has collected an document. I am there.'"
      ]
     },
     "execution_count": 10,
     "metadata": {},
     "output_type": "execute_result"
    }
   ],
   "source": [
    "my_tool.correct(my_text)"
   ]
  },
  {
   "cell_type": "code",
   "execution_count": null,
   "id": "6c2ef29f",
   "metadata": {},
   "outputs": [],
   "source": []
  }
 ],
 "metadata": {
  "kernelspec": {
   "display_name": "Python 3 (ipykernel)",
   "language": "python",
   "name": "python3"
  },
  "language_info": {
   "codemirror_mode": {
    "name": "ipython",
    "version": 3
   },
   "file_extension": ".py",
   "mimetype": "text/x-python",
   "name": "python",
   "nbconvert_exporter": "python",
   "pygments_lexer": "ipython3",
   "version": "3.11.4"
  }
 },
 "nbformat": 4,
 "nbformat_minor": 5
}
