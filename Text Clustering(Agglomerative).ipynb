{
 "cells": [
  {
   "cell_type": "markdown",
   "id": "3d76accc",
   "metadata": {},
   "source": [
    "### Dataset"
   ]
  },
  {
   "cell_type": "code",
   "execution_count": 1,
   "id": "f4d3c831",
   "metadata": {},
   "outputs": [],
   "source": [
    "# dataset: bbc-news-data.txt\n",
    "# Location: https://mitu.co.in/dataset"
   ]
  },
  {
   "cell_type": "markdown",
   "id": "9ca29a29",
   "metadata": {},
   "source": [
    "### Import neccessary libraries"
   ]
  },
  {
   "cell_type": "code",
   "execution_count": 2,
   "id": "cf7f4dfe",
   "metadata": {},
   "outputs": [],
   "source": [
    "import numpy as np\n",
    "import pandas as pd\n",
    "import matplotlib.pyplot as plt\n",
    "\n",
    "\n",
    "from sklearn.feature_extraction.text import TfidfVectorizer, CountVectorizer\n",
    "\n",
    "from nltk import FreqDist\n",
    "from sklearn.metrics import silhouette_score\n",
    "from nltk.tokenize import word_tokenize"
   ]
  },
  {
   "cell_type": "markdown",
   "id": "be41066c",
   "metadata": {},
   "source": [
    "### Read dataset"
   ]
  },
  {
   "cell_type": "code",
   "execution_count": 3,
   "id": "a71abd5c",
   "metadata": {},
   "outputs": [],
   "source": [
    "file = open('bbc-text-data.csv')"
   ]
  },
  {
   "cell_type": "code",
   "execution_count": 4,
   "id": "ced717ea",
   "metadata": {},
   "outputs": [],
   "source": [
    "data = file.readlines()"
   ]
  },
  {
   "cell_type": "code",
   "execution_count": 5,
   "id": "52e9f246",
   "metadata": {
    "scrolled": true
   },
   "outputs": [
    {
     "data": {
      "text/plain": [
       "2225"
      ]
     },
     "execution_count": 5,
     "metadata": {},
     "output_type": "execute_result"
    }
   ],
   "source": [
    "len(data)"
   ]
  },
  {
   "cell_type": "markdown",
   "id": "e824b241",
   "metadata": {},
   "source": [
    "### Feature Extraction"
   ]
  },
  {
   "cell_type": "code",
   "execution_count": 6,
   "id": "c9334197",
   "metadata": {},
   "outputs": [],
   "source": [
    "from sklearn.feature_extraction.text import TfidfVectorizer"
   ]
  },
  {
   "cell_type": "code",
   "execution_count": 7,
   "id": "c5e50616",
   "metadata": {},
   "outputs": [],
   "source": [
    "tfidf = TfidfVectorizer(stop_words='english')"
   ]
  },
  {
   "cell_type": "code",
   "execution_count": 8,
   "id": "581e4c89",
   "metadata": {},
   "outputs": [],
   "source": [
    "x_vect = tfidf.fit_transform(data)"
   ]
  },
  {
   "cell_type": "code",
   "execution_count": 9,
   "id": "3e7bad78",
   "metadata": {},
   "outputs": [
    {
     "data": {
      "text/plain": [
       "(2225, 29126)"
      ]
     },
     "execution_count": 9,
     "metadata": {},
     "output_type": "execute_result"
    }
   ],
   "source": [
    "x_vect.shape"
   ]
  },
  {
   "cell_type": "markdown",
   "id": "9c469edb",
   "metadata": {},
   "source": [
    "### Elbow Method"
   ]
  },
  {
   "cell_type": "code",
   "execution_count": 10,
   "id": "c24353c8",
   "metadata": {},
   "outputs": [],
   "source": [
    "from sklearn.cluster import AgglomerativeClustering"
   ]
  },
  {
   "cell_type": "markdown",
   "id": "1c795b66",
   "metadata": {},
   "source": [
    "### Build Model"
   ]
  },
  {
   "cell_type": "code",
   "execution_count": 11,
   "id": "b9e440d8",
   "metadata": {},
   "outputs": [],
   "source": [
    "ag = AgglomerativeClustering(n_clusters=5)"
   ]
  },
  {
   "cell_type": "code",
   "execution_count": 12,
   "id": "3acf8908",
   "metadata": {},
   "outputs": [
    {
     "data": {
      "text/plain": [
       "array([4, 0, 0, ..., 0, 0, 0])"
      ]
     },
     "execution_count": 12,
     "metadata": {},
     "output_type": "execute_result"
    }
   ],
   "source": [
    "labels = ag.fit_predict(x_vect.toarray())\n",
    "\n",
    "labels"
   ]
  },
  {
   "cell_type": "code",
   "execution_count": 13,
   "id": "cc11fa66",
   "metadata": {},
   "outputs": [],
   "source": [
    "labels_list = list(labels)"
   ]
  },
  {
   "cell_type": "code",
   "execution_count": 14,
   "id": "c6e7ecfd",
   "metadata": {},
   "outputs": [
    {
     "data": {
      "text/plain": [
       "365"
      ]
     },
     "execution_count": 14,
     "metadata": {},
     "output_type": "execute_result"
    }
   ],
   "source": [
    "labels_list.count(2)"
   ]
  },
  {
   "cell_type": "code",
   "execution_count": 15,
   "id": "f0e90a8e",
   "metadata": {},
   "outputs": [],
   "source": [
    "cluster = labels[1]"
   ]
  },
  {
   "cell_type": "code",
   "execution_count": 16,
   "id": "73699f67",
   "metadata": {},
   "outputs": [],
   "source": [
    "df = pd.DataFrame(data, columns=['text'])"
   ]
  },
  {
   "cell_type": "code",
   "execution_count": 17,
   "id": "7f08d0f8",
   "metadata": {
    "scrolled": true
   },
   "outputs": [
    {
     "name": "stdout",
     "output_type": "stream",
     "text": [
      "<class 'pandas.core.frame.DataFrame'>\n",
      "RangeIndex: 2225 entries, 0 to 2224\n",
      "Data columns (total 1 columns):\n",
      " #   Column  Non-Null Count  Dtype \n",
      "---  ------  --------------  ----- \n",
      " 0   text    2225 non-null   object\n",
      "dtypes: object(1)\n",
      "memory usage: 17.5+ KB\n"
     ]
    }
   ],
   "source": [
    "df.info()"
   ]
  },
  {
   "cell_type": "code",
   "execution_count": 28,
   "id": "9caf4906",
   "metadata": {},
   "outputs": [
    {
     "data": {
      "text/plain": [
       "{0: 1121, 4: 368, 2: 365, 1: 225, 3: 146}"
      ]
     },
     "execution_count": 28,
     "metadata": {},
     "output_type": "execute_result"
    }
   ],
   "source": [
    "pd.Series(labels).value_counts().to_dict()"
   ]
  },
  {
   "cell_type": "code",
   "execution_count": 29,
   "id": "05987890",
   "metadata": {},
   "outputs": [],
   "source": [
    "df = pd.DataFrame(data,columns =['text'])"
   ]
  },
  {
   "cell_type": "code",
   "execution_count": 30,
   "id": "4ea32187",
   "metadata": {},
   "outputs": [
    {
     "name": "stdout",
     "output_type": "stream",
     "text": [
      "0: 1121\n",
      "1: 225\n",
      "2: 365\n",
      "3: 146\n",
      "4: 368\n"
     ]
    }
   ],
   "source": [
    "print('0:', len(df[labels == 0]))\n",
    "print('1:', len(df[labels == 1]))\n",
    "print('2:', len(df[labels == 2]))\n",
    "print('3:', len(df[labels == 3]))\n",
    "print('4:', len(df[labels == 4]))"
   ]
  },
  {
   "cell_type": "code",
   "execution_count": 31,
   "id": "2d019373",
   "metadata": {},
   "outputs": [
    {
     "data": {
      "text/html": [
       "<div>\n",
       "<style scoped>\n",
       "    .dataframe tbody tr th:only-of-type {\n",
       "        vertical-align: middle;\n",
       "    }\n",
       "\n",
       "    .dataframe tbody tr th {\n",
       "        vertical-align: top;\n",
       "    }\n",
       "\n",
       "    .dataframe thead th {\n",
       "        text-align: right;\n",
       "    }\n",
       "</style>\n",
       "<table border=\"1\" class=\"dataframe\">\n",
       "  <thead>\n",
       "    <tr style=\"text-align: right;\">\n",
       "      <th></th>\n",
       "      <th>text</th>\n",
       "    </tr>\n",
       "  </thead>\n",
       "  <tbody>\n",
       "    <tr>\n",
       "      <th>3</th>\n",
       "      <td>yeading face newcastle in fa cup premiership s...</td>\n",
       "    </tr>\n",
       "    <tr>\n",
       "      <th>7</th>\n",
       "      <td>henman hopes ended in dubai third seed tim hen...</td>\n",
       "    </tr>\n",
       "    <tr>\n",
       "      <th>8</th>\n",
       "      <td>wilkinson fit to face edinburgh england captai...</td>\n",
       "    </tr>\n",
       "    <tr>\n",
       "      <th>14</th>\n",
       "      <td>moya emotional after davis cup win carlos moya...</td>\n",
       "    </tr>\n",
       "    <tr>\n",
       "      <th>17</th>\n",
       "      <td>connors boost for british tennis former world ...</td>\n",
       "    </tr>\n",
       "    <tr>\n",
       "      <th>...</th>\n",
       "      <td>...</td>\n",
       "    </tr>\n",
       "    <tr>\n",
       "      <th>2164</th>\n",
       "      <td>murray to make cup history andrew murray will ...</td>\n",
       "    </tr>\n",
       "    <tr>\n",
       "      <th>2177</th>\n",
       "      <td>henman decides to quit davis cup tim henman ha...</td>\n",
       "    </tr>\n",
       "    <tr>\n",
       "      <th>2180</th>\n",
       "      <td>campbell lifts lid on united feud arsenal s so...</td>\n",
       "    </tr>\n",
       "    <tr>\n",
       "      <th>2195</th>\n",
       "      <td>owen delighted with real display michael owen ...</td>\n",
       "    </tr>\n",
       "    <tr>\n",
       "      <th>2218</th>\n",
       "      <td>davies favours gloucester future wales hooker ...</td>\n",
       "    </tr>\n",
       "  </tbody>\n",
       "</table>\n",
       "<p>365 rows × 1 columns</p>\n",
       "</div>"
      ],
      "text/plain": [
       "                                                   text\n",
       "3     yeading face newcastle in fa cup premiership s...\n",
       "7     henman hopes ended in dubai third seed tim hen...\n",
       "8     wilkinson fit to face edinburgh england captai...\n",
       "14    moya emotional after davis cup win carlos moya...\n",
       "17    connors boost for british tennis former world ...\n",
       "...                                                 ...\n",
       "2164  murray to make cup history andrew murray will ...\n",
       "2177  henman decides to quit davis cup tim henman ha...\n",
       "2180  campbell lifts lid on united feud arsenal s so...\n",
       "2195  owen delighted with real display michael owen ...\n",
       "2218  davies favours gloucester future wales hooker ...\n",
       "\n",
       "[365 rows x 1 columns]"
      ]
     },
     "execution_count": 31,
     "metadata": {},
     "output_type": "execute_result"
    }
   ],
   "source": [
    "df_label_two"
   ]
  },
  {
   "cell_type": "markdown",
   "id": "7bf55802",
   "metadata": {},
   "source": [
    "### Finding the most frequent words in the cluster 2"
   ]
  },
  {
   "cell_type": "code",
   "execution_count": 32,
   "id": "d567304b",
   "metadata": {},
   "outputs": [],
   "source": [
    "word_data_two = list(df_label_two['text'])"
   ]
  },
  {
   "cell_type": "code",
   "execution_count": 33,
   "id": "56109860",
   "metadata": {},
   "outputs": [],
   "source": [
    "word_data_two_string = \"\".join(word_data_two)"
   ]
  },
  {
   "cell_type": "code",
   "execution_count": 34,
   "id": "1cd286d1",
   "metadata": {},
   "outputs": [],
   "source": [
    "word_token = word_tokenize(word_data_two_string)"
   ]
  },
  {
   "cell_type": "code",
   "execution_count": 35,
   "id": "8e30455d",
   "metadata": {},
   "outputs": [],
   "source": [
    "freq = FreqDist(word_data_two_string)"
   ]
  },
  {
   "cell_type": "code",
   "execution_count": 36,
   "id": "1888404d",
   "metadata": {
    "scrolled": true
   },
   "outputs": [
    {
     "data": {
      "text/plain": [
       "[(' ', 138955),\n",
       " ('e', 68068),\n",
       " ('a', 50657),\n",
       " ('t', 49080),\n",
       " ('n', 42066),\n",
       " ('i', 41734),\n",
       " ('o', 39698),\n",
       " ('s', 36151),\n",
       " ('r', 34458),\n",
       " ('h', 29445)]"
      ]
     },
     "execution_count": 36,
     "metadata": {},
     "output_type": "execute_result"
    }
   ],
   "source": [
    "freq.most_common(10)"
   ]
  },
  {
   "cell_type": "code",
   "execution_count": null,
   "id": "0dc21b82",
   "metadata": {},
   "outputs": [],
   "source": []
  }
 ],
 "metadata": {
  "kernelspec": {
   "display_name": "Python 3 (ipykernel)",
   "language": "python",
   "name": "python3"
  },
  "language_info": {
   "codemirror_mode": {
    "name": "ipython",
    "version": 3
   },
   "file_extension": ".py",
   "mimetype": "text/x-python",
   "name": "python",
   "nbconvert_exporter": "python",
   "pygments_lexer": "ipython3",
   "version": "3.11.4"
  }
 },
 "nbformat": 4,
 "nbformat_minor": 5
}
