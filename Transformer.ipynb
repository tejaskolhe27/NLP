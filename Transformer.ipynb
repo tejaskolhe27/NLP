{
  "nbformat": 4,
  "nbformat_minor": 0,
  "metadata": {
    "colab": {
      "provenance": [],
      "gpuType": "T4"
    },
    "kernelspec": {
      "name": "python3",
      "display_name": "Python 3"
    },
    "language_info": {
      "name": "python"
    },
    "accelerator": "GPU"
  },
  "cells": [
    {
      "cell_type": "code",
      "execution_count": 2,
      "metadata": {
        "id": "gFzBJ_NgF5Mh"
      },
      "outputs": [],
      "source": [
        "import tensorflow as tf\n",
        "from keras.datasets import imdb\n",
        "from keras.utils import pad_sequences\n",
        "from tensorflow.keras import layers\n",
        "from tensorflow.keras import models\n",
        "from keras.layers import *\n",
        "from keras.models import *\n"
      ]
    },
    {
      "cell_type": "code",
      "source": [
        "class TransformerBlock(layers.Layer):\n",
        "  def __init__(self,embed_dim,num_heads,ff_dim,rate = 0.1):\n",
        "\n",
        "    super().__init__()\n",
        "    self.att = layers.MultiHeadAttention(num_heads=num_heads,key_dim = embed_dim)\n",
        "    self.ffn = Sequential([\n",
        "        Dense(ff_dim,activation = 'relu'),\n",
        "        Dense(embed_dim)\n",
        "        ])\n",
        "\n",
        "    self.layersnorm1 = LayerNormalization(epsilon = 1e-6)\n",
        "    self.layersnorm2 = LayerNormalization(epsilon = 1e-6)\n",
        "\n",
        "    self.dropout1 = Dropout(rate)\n",
        "    self.dropout2 = Dropout(rate)\n",
        "\n",
        "  def call(self,inputs,training):\n",
        "    attn_output = self.att(inputs,inputs)\n",
        "\n",
        "    attn_output = self.dropout1(attn_output,training = training)\n",
        "    out1 = self.layersnorm1(inputs+attn_output)\n",
        "\n",
        "    ffn_output = self.ffn(out1)\n",
        "    ffn_output = self.dropout2(ffn_output,training = training)\n",
        "\n",
        "    return self.layersnorm2(out1+ffn_output)\n"
      ],
      "metadata": {
        "id": "Y9dssY8VGoHS"
      },
      "execution_count": 3,
      "outputs": []
    },
    {
      "cell_type": "code",
      "source": [
        "class TokenandPositionembedding(layers.Layer):\n",
        "  def __init__(self,maxlen,vocab_size,embed_dim):\n",
        "    super().__init__()\n",
        "    self.token_emb = layers.Embedding(input_dim = vocab_size,output_dim = embed_dim)\n",
        "    self.pos_emb = layers.Embedding(input_dim = maxlen,output_dim = embed_dim)\n",
        "\n",
        "\n",
        "  def call(self,x):\n",
        "    maxlen = tf.shape(x)[-1]\n",
        "    positions = tf.range(start =0,limit = maxlen,delta =1)\n",
        "    positions =self.pos_emb(positions)\n",
        "\n",
        "    x = self.token_emb(x)\n",
        "\n",
        "    return x+positions"
      ],
      "metadata": {
        "id": "7BnvRv8nNjvR"
      },
      "execution_count": 4,
      "outputs": []
    },
    {
      "cell_type": "code",
      "source": [
        "from re import X\n",
        "vocab_size=20000 #Only consider top 20k words\n",
        "maxlen=200 # Only consider the first 200 words of each movie review\n",
        "(X_train,y_train),(X_val,y_val)=imdb.load_data(num_words=vocab_size)\n",
        "print(len(X_train),\"Training Sequences\")\n",
        "print(len(X_val),\"Validation sequences\")\n",
        "X_train=pad_sequences(X_train,maxlen=maxlen)\n",
        "X_val=pad_sequences(X_val,maxlen=maxlen)"
      ],
      "metadata": {
        "id": "8_MqgXuUPJnT",
        "colab": {
          "base_uri": "https://localhost:8080/"
        },
        "outputId": "c8c1cc63-dddc-43a1-9244-81cd53ac3a1a"
      },
      "execution_count": 5,
      "outputs": [
        {
          "output_type": "stream",
          "name": "stdout",
          "text": [
            "25000 Training Sequences\n",
            "25000 Validation sequences\n"
          ]
        }
      ]
    },
    {
      "cell_type": "code",
      "source": [
        "X_train[:1]"
      ],
      "metadata": {
        "colab": {
          "base_uri": "https://localhost:8080/"
        },
        "id": "HQgWXzLzdD_5",
        "outputId": "f084df9d-2714-41f6-ba01-2d50d084585a"
      },
      "execution_count": 6,
      "outputs": [
        {
          "output_type": "execute_result",
          "data": {
            "text/plain": [
              "array([[    5,    25,   100,    43,   838,   112,    50,   670,     2,\n",
              "            9,    35,   480,   284,     5,   150,     4,   172,   112,\n",
              "          167,     2,   336,   385,    39,     4,   172,  4536,  1111,\n",
              "           17,   546,    38,    13,   447,     4,   192,    50,    16,\n",
              "            6,   147,  2025,    19,    14,    22,     4,  1920,  4613,\n",
              "          469,     4,    22,    71,    87,    12,    16,    43,   530,\n",
              "           38,    76,    15,    13,  1247,     4,    22,    17,   515,\n",
              "           17,    12,    16,   626,    18, 19193,     5,    62,   386,\n",
              "           12,     8,   316,     8,   106,     5,     4,  2223,  5244,\n",
              "           16,   480,    66,  3785,    33,     4,   130,    12,    16,\n",
              "           38,   619,     5,    25,   124,    51,    36,   135,    48,\n",
              "           25,  1415,    33,     6,    22,    12,   215,    28,    77,\n",
              "           52,     5,    14,   407,    16,    82, 10311,     8,     4,\n",
              "          107,   117,  5952,    15,   256,     4,     2,     7,  3766,\n",
              "            5,   723,    36,    71,    43,   530,   476,    26,   400,\n",
              "          317,    46,     7,     4, 12118,  1029,    13,   104,    88,\n",
              "            4,   381,    15,   297,    98,    32,  2071,    56,    26,\n",
              "          141,     6,   194,  7486,    18,     4,   226,    22,    21,\n",
              "          134,   476,    26,   480,     5,   144,    30,  5535,    18,\n",
              "           51,    36,    28,   224,    92,    25,   104,     4,   226,\n",
              "           65,    16,    38,  1334,    88,    12,    16,   283,     5,\n",
              "           16,  4472,   113,   103,    32,    15,    16,  5345,    19,\n",
              "          178,    32]], dtype=int32)"
            ]
          },
          "metadata": {},
          "execution_count": 6
        }
      ]
    },
    {
      "cell_type": "code",
      "source": [
        "embed_dim = 32\n",
        "num_heads= 2\n",
        "ff_dim = 32\n",
        "\n",
        "\n",
        "inputs = layers.Input(shape=(maxlen,))\n",
        "embedding_layer = TokenandPositionembedding(maxlen,vocab_size,embed_dim)\n",
        "\n",
        "x= embedding_layer(inputs)\n",
        "\n",
        "transformer_block = TransformerBlock(embed_dim,num_heads,ff_dim)\n",
        "x = transformer_block(x)\n",
        "x = layers.GlobalAveragePooling1D()(x)\n",
        "x = layers.Dropout(0.1)(x)\n",
        "x = layers.Dense(20,activation = 'relu')(x)\n",
        "x = layers.Dropout(0.1)(x)\n",
        "outputs = layers.Dense(2,activation = 'softmax')(x)\n",
        "model = Model(inputs = inputs,outputs = outputs)"
      ],
      "metadata": {
        "id": "RLDNTxfZdQcR"
      },
      "execution_count": 7,
      "outputs": []
    },
    {
      "cell_type": "code",
      "source": [
        "model.compile(optimizer = 'adam',loss = 'sparse_categorical_crossentropy',metrics = ['accuracy'])\n",
        "history = model.fit(X_train,y_train,batch_size = 32,epochs= 10,validation_data=[X_val,y_val])"
      ],
      "metadata": {
        "colab": {
          "base_uri": "https://localhost:8080/"
        },
        "id": "oEF0gFzNfOtS",
        "outputId": "77293178-1f3c-4fe7-d21a-765cd076aad8"
      },
      "execution_count": 8,
      "outputs": [
        {
          "output_type": "stream",
          "name": "stdout",
          "text": [
            "Epoch 1/10\n",
            "782/782 [==============================] - 69s 80ms/step - loss: 0.3866 - accuracy: 0.8167 - val_loss: 0.2916 - val_accuracy: 0.8720\n",
            "Epoch 2/10\n",
            "782/782 [==============================] - 24s 31ms/step - loss: 0.1983 - accuracy: 0.9246 - val_loss: 0.3140 - val_accuracy: 0.8731\n",
            "Epoch 3/10\n",
            "782/782 [==============================] - 20s 25ms/step - loss: 0.1280 - accuracy: 0.9534 - val_loss: 0.3608 - val_accuracy: 0.8654\n",
            "Epoch 4/10\n",
            "782/782 [==============================] - 13s 17ms/step - loss: 0.0831 - accuracy: 0.9720 - val_loss: 0.4658 - val_accuracy: 0.8534\n",
            "Epoch 5/10\n",
            "782/782 [==============================] - 12s 16ms/step - loss: 0.0559 - accuracy: 0.9821 - val_loss: 0.5961 - val_accuracy: 0.8434\n",
            "Epoch 6/10\n",
            "782/782 [==============================] - 12s 16ms/step - loss: 0.0373 - accuracy: 0.9889 - val_loss: 0.6359 - val_accuracy: 0.8457\n",
            "Epoch 7/10\n",
            "782/782 [==============================] - 13s 16ms/step - loss: 0.0289 - accuracy: 0.9915 - val_loss: 0.7080 - val_accuracy: 0.8374\n",
            "Epoch 8/10\n",
            "782/782 [==============================] - 13s 16ms/step - loss: 0.0294 - accuracy: 0.9909 - val_loss: 0.7154 - val_accuracy: 0.8375\n",
            "Epoch 9/10\n",
            "782/782 [==============================] - 10s 13ms/step - loss: 0.0194 - accuracy: 0.9947 - val_loss: 0.8900 - val_accuracy: 0.8355\n",
            "Epoch 10/10\n",
            "782/782 [==============================] - 14s 18ms/step - loss: 0.0156 - accuracy: 0.9954 - val_loss: 1.1192 - val_accuracy: 0.8325\n"
          ]
        }
      ]
    },
    {
      "cell_type": "code",
      "source": [
        "model.evaluate(X_val,y_val)"
      ],
      "metadata": {
        "colab": {
          "base_uri": "https://localhost:8080/"
        },
        "id": "XnJZ4ZcLi6hF",
        "outputId": "c1ea5ecc-9f53-45f1-c6a9-f00e67622b45"
      },
      "execution_count": 9,
      "outputs": [
        {
          "output_type": "stream",
          "name": "stdout",
          "text": [
            "782/782 [==============================] - 4s 5ms/step - loss: 1.1192 - accuracy: 0.8325\n"
          ]
        },
        {
          "output_type": "execute_result",
          "data": {
            "text/plain": [
              "[1.1192463636398315, 0.8324800133705139]"
            ]
          },
          "metadata": {},
          "execution_count": 9
        }
      ]
    },
    {
      "cell_type": "code",
      "source": [
        "y_pred = model.predict(X_val)"
      ],
      "metadata": {
        "colab": {
          "base_uri": "https://localhost:8080/"
        },
        "id": "gRAnUlXVlYmU",
        "outputId": "4cb00d16-f0d6-40b8-f0e6-aff23ece2fc0"
      },
      "execution_count": 10,
      "outputs": [
        {
          "output_type": "stream",
          "name": "stdout",
          "text": [
            "782/782 [==============================] - 4s 4ms/step\n"
          ]
        }
      ]
    },
    {
      "cell_type": "code",
      "source": [
        "import pandas as pd\n",
        "pd.DataFrame(history.history)"
      ],
      "metadata": {
        "colab": {
          "base_uri": "https://localhost:8080/",
          "height": 363
        },
        "id": "q1cqehPwlp4z",
        "outputId": "650b0f82-eb81-4105-fc7f-6ef2dd7fe0dc"
      },
      "execution_count": 12,
      "outputs": [
        {
          "output_type": "execute_result",
          "data": {
            "text/plain": [
              "       loss  accuracy  val_loss  val_accuracy\n",
              "0  0.386625   0.81668  0.291627       0.87200\n",
              "1  0.198331   0.92464  0.314006       0.87312\n",
              "2  0.128021   0.95340  0.360826       0.86540\n",
              "3  0.083103   0.97200  0.465782       0.85336\n",
              "4  0.055873   0.98208  0.596060       0.84344\n",
              "5  0.037295   0.98892  0.635949       0.84568\n",
              "6  0.028880   0.99148  0.708026       0.83744\n",
              "7  0.029400   0.99088  0.715428       0.83752\n",
              "8  0.019442   0.99472  0.889971       0.83552\n",
              "9  0.015559   0.99544  1.119246       0.83248"
            ],
            "text/html": [
              "\n",
              "  <div id=\"df-206ffb95-a44d-4e62-9d79-403a6b0a8cfe\" class=\"colab-df-container\">\n",
              "    <div>\n",
              "<style scoped>\n",
              "    .dataframe tbody tr th:only-of-type {\n",
              "        vertical-align: middle;\n",
              "    }\n",
              "\n",
              "    .dataframe tbody tr th {\n",
              "        vertical-align: top;\n",
              "    }\n",
              "\n",
              "    .dataframe thead th {\n",
              "        text-align: right;\n",
              "    }\n",
              "</style>\n",
              "<table border=\"1\" class=\"dataframe\">\n",
              "  <thead>\n",
              "    <tr style=\"text-align: right;\">\n",
              "      <th></th>\n",
              "      <th>loss</th>\n",
              "      <th>accuracy</th>\n",
              "      <th>val_loss</th>\n",
              "      <th>val_accuracy</th>\n",
              "    </tr>\n",
              "  </thead>\n",
              "  <tbody>\n",
              "    <tr>\n",
              "      <th>0</th>\n",
              "      <td>0.386625</td>\n",
              "      <td>0.81668</td>\n",
              "      <td>0.291627</td>\n",
              "      <td>0.87200</td>\n",
              "    </tr>\n",
              "    <tr>\n",
              "      <th>1</th>\n",
              "      <td>0.198331</td>\n",
              "      <td>0.92464</td>\n",
              "      <td>0.314006</td>\n",
              "      <td>0.87312</td>\n",
              "    </tr>\n",
              "    <tr>\n",
              "      <th>2</th>\n",
              "      <td>0.128021</td>\n",
              "      <td>0.95340</td>\n",
              "      <td>0.360826</td>\n",
              "      <td>0.86540</td>\n",
              "    </tr>\n",
              "    <tr>\n",
              "      <th>3</th>\n",
              "      <td>0.083103</td>\n",
              "      <td>0.97200</td>\n",
              "      <td>0.465782</td>\n",
              "      <td>0.85336</td>\n",
              "    </tr>\n",
              "    <tr>\n",
              "      <th>4</th>\n",
              "      <td>0.055873</td>\n",
              "      <td>0.98208</td>\n",
              "      <td>0.596060</td>\n",
              "      <td>0.84344</td>\n",
              "    </tr>\n",
              "    <tr>\n",
              "      <th>5</th>\n",
              "      <td>0.037295</td>\n",
              "      <td>0.98892</td>\n",
              "      <td>0.635949</td>\n",
              "      <td>0.84568</td>\n",
              "    </tr>\n",
              "    <tr>\n",
              "      <th>6</th>\n",
              "      <td>0.028880</td>\n",
              "      <td>0.99148</td>\n",
              "      <td>0.708026</td>\n",
              "      <td>0.83744</td>\n",
              "    </tr>\n",
              "    <tr>\n",
              "      <th>7</th>\n",
              "      <td>0.029400</td>\n",
              "      <td>0.99088</td>\n",
              "      <td>0.715428</td>\n",
              "      <td>0.83752</td>\n",
              "    </tr>\n",
              "    <tr>\n",
              "      <th>8</th>\n",
              "      <td>0.019442</td>\n",
              "      <td>0.99472</td>\n",
              "      <td>0.889971</td>\n",
              "      <td>0.83552</td>\n",
              "    </tr>\n",
              "    <tr>\n",
              "      <th>9</th>\n",
              "      <td>0.015559</td>\n",
              "      <td>0.99544</td>\n",
              "      <td>1.119246</td>\n",
              "      <td>0.83248</td>\n",
              "    </tr>\n",
              "  </tbody>\n",
              "</table>\n",
              "</div>\n",
              "    <div class=\"colab-df-buttons\">\n",
              "\n",
              "  <div class=\"colab-df-container\">\n",
              "    <button class=\"colab-df-convert\" onclick=\"convertToInteractive('df-206ffb95-a44d-4e62-9d79-403a6b0a8cfe')\"\n",
              "            title=\"Convert this dataframe to an interactive table.\"\n",
              "            style=\"display:none;\">\n",
              "\n",
              "  <svg xmlns=\"http://www.w3.org/2000/svg\" height=\"24px\" viewBox=\"0 -960 960 960\">\n",
              "    <path d=\"M120-120v-720h720v720H120Zm60-500h600v-160H180v160Zm220 220h160v-160H400v160Zm0 220h160v-160H400v160ZM180-400h160v-160H180v160Zm440 0h160v-160H620v160ZM180-180h160v-160H180v160Zm440 0h160v-160H620v160Z\"/>\n",
              "  </svg>\n",
              "    </button>\n",
              "\n",
              "  <style>\n",
              "    .colab-df-container {\n",
              "      display:flex;\n",
              "      gap: 12px;\n",
              "    }\n",
              "\n",
              "    .colab-df-convert {\n",
              "      background-color: #E8F0FE;\n",
              "      border: none;\n",
              "      border-radius: 50%;\n",
              "      cursor: pointer;\n",
              "      display: none;\n",
              "      fill: #1967D2;\n",
              "      height: 32px;\n",
              "      padding: 0 0 0 0;\n",
              "      width: 32px;\n",
              "    }\n",
              "\n",
              "    .colab-df-convert:hover {\n",
              "      background-color: #E2EBFA;\n",
              "      box-shadow: 0px 1px 2px rgba(60, 64, 67, 0.3), 0px 1px 3px 1px rgba(60, 64, 67, 0.15);\n",
              "      fill: #174EA6;\n",
              "    }\n",
              "\n",
              "    .colab-df-buttons div {\n",
              "      margin-bottom: 4px;\n",
              "    }\n",
              "\n",
              "    [theme=dark] .colab-df-convert {\n",
              "      background-color: #3B4455;\n",
              "      fill: #D2E3FC;\n",
              "    }\n",
              "\n",
              "    [theme=dark] .colab-df-convert:hover {\n",
              "      background-color: #434B5C;\n",
              "      box-shadow: 0px 1px 3px 1px rgba(0, 0, 0, 0.15);\n",
              "      filter: drop-shadow(0px 1px 2px rgba(0, 0, 0, 0.3));\n",
              "      fill: #FFFFFF;\n",
              "    }\n",
              "  </style>\n",
              "\n",
              "    <script>\n",
              "      const buttonEl =\n",
              "        document.querySelector('#df-206ffb95-a44d-4e62-9d79-403a6b0a8cfe button.colab-df-convert');\n",
              "      buttonEl.style.display =\n",
              "        google.colab.kernel.accessAllowed ? 'block' : 'none';\n",
              "\n",
              "      async function convertToInteractive(key) {\n",
              "        const element = document.querySelector('#df-206ffb95-a44d-4e62-9d79-403a6b0a8cfe');\n",
              "        const dataTable =\n",
              "          await google.colab.kernel.invokeFunction('convertToInteractive',\n",
              "                                                    [key], {});\n",
              "        if (!dataTable) return;\n",
              "\n",
              "        const docLinkHtml = 'Like what you see? Visit the ' +\n",
              "          '<a target=\"_blank\" href=https://colab.research.google.com/notebooks/data_table.ipynb>data table notebook</a>'\n",
              "          + ' to learn more about interactive tables.';\n",
              "        element.innerHTML = '';\n",
              "        dataTable['output_type'] = 'display_data';\n",
              "        await google.colab.output.renderOutput(dataTable, element);\n",
              "        const docLink = document.createElement('div');\n",
              "        docLink.innerHTML = docLinkHtml;\n",
              "        element.appendChild(docLink);\n",
              "      }\n",
              "    </script>\n",
              "  </div>\n",
              "\n",
              "\n",
              "<div id=\"df-2abe27bf-34b4-40f3-8f1d-e70e41e18108\">\n",
              "  <button class=\"colab-df-quickchart\" onclick=\"quickchart('df-2abe27bf-34b4-40f3-8f1d-e70e41e18108')\"\n",
              "            title=\"Suggest charts\"\n",
              "            style=\"display:none;\">\n",
              "\n",
              "<svg xmlns=\"http://www.w3.org/2000/svg\" height=\"24px\"viewBox=\"0 0 24 24\"\n",
              "     width=\"24px\">\n",
              "    <g>\n",
              "        <path d=\"M19 3H5c-1.1 0-2 .9-2 2v14c0 1.1.9 2 2 2h14c1.1 0 2-.9 2-2V5c0-1.1-.9-2-2-2zM9 17H7v-7h2v7zm4 0h-2V7h2v10zm4 0h-2v-4h2v4z\"/>\n",
              "    </g>\n",
              "</svg>\n",
              "  </button>\n",
              "\n",
              "<style>\n",
              "  .colab-df-quickchart {\n",
              "      --bg-color: #E8F0FE;\n",
              "      --fill-color: #1967D2;\n",
              "      --hover-bg-color: #E2EBFA;\n",
              "      --hover-fill-color: #174EA6;\n",
              "      --disabled-fill-color: #AAA;\n",
              "      --disabled-bg-color: #DDD;\n",
              "  }\n",
              "\n",
              "  [theme=dark] .colab-df-quickchart {\n",
              "      --bg-color: #3B4455;\n",
              "      --fill-color: #D2E3FC;\n",
              "      --hover-bg-color: #434B5C;\n",
              "      --hover-fill-color: #FFFFFF;\n",
              "      --disabled-bg-color: #3B4455;\n",
              "      --disabled-fill-color: #666;\n",
              "  }\n",
              "\n",
              "  .colab-df-quickchart {\n",
              "    background-color: var(--bg-color);\n",
              "    border: none;\n",
              "    border-radius: 50%;\n",
              "    cursor: pointer;\n",
              "    display: none;\n",
              "    fill: var(--fill-color);\n",
              "    height: 32px;\n",
              "    padding: 0;\n",
              "    width: 32px;\n",
              "  }\n",
              "\n",
              "  .colab-df-quickchart:hover {\n",
              "    background-color: var(--hover-bg-color);\n",
              "    box-shadow: 0 1px 2px rgba(60, 64, 67, 0.3), 0 1px 3px 1px rgba(60, 64, 67, 0.15);\n",
              "    fill: var(--button-hover-fill-color);\n",
              "  }\n",
              "\n",
              "  .colab-df-quickchart-complete:disabled,\n",
              "  .colab-df-quickchart-complete:disabled:hover {\n",
              "    background-color: var(--disabled-bg-color);\n",
              "    fill: var(--disabled-fill-color);\n",
              "    box-shadow: none;\n",
              "  }\n",
              "\n",
              "  .colab-df-spinner {\n",
              "    border: 2px solid var(--fill-color);\n",
              "    border-color: transparent;\n",
              "    border-bottom-color: var(--fill-color);\n",
              "    animation:\n",
              "      spin 1s steps(1) infinite;\n",
              "  }\n",
              "\n",
              "  @keyframes spin {\n",
              "    0% {\n",
              "      border-color: transparent;\n",
              "      border-bottom-color: var(--fill-color);\n",
              "      border-left-color: var(--fill-color);\n",
              "    }\n",
              "    20% {\n",
              "      border-color: transparent;\n",
              "      border-left-color: var(--fill-color);\n",
              "      border-top-color: var(--fill-color);\n",
              "    }\n",
              "    30% {\n",
              "      border-color: transparent;\n",
              "      border-left-color: var(--fill-color);\n",
              "      border-top-color: var(--fill-color);\n",
              "      border-right-color: var(--fill-color);\n",
              "    }\n",
              "    40% {\n",
              "      border-color: transparent;\n",
              "      border-right-color: var(--fill-color);\n",
              "      border-top-color: var(--fill-color);\n",
              "    }\n",
              "    60% {\n",
              "      border-color: transparent;\n",
              "      border-right-color: var(--fill-color);\n",
              "    }\n",
              "    80% {\n",
              "      border-color: transparent;\n",
              "      border-right-color: var(--fill-color);\n",
              "      border-bottom-color: var(--fill-color);\n",
              "    }\n",
              "    90% {\n",
              "      border-color: transparent;\n",
              "      border-bottom-color: var(--fill-color);\n",
              "    }\n",
              "  }\n",
              "</style>\n",
              "\n",
              "  <script>\n",
              "    async function quickchart(key) {\n",
              "      const quickchartButtonEl =\n",
              "        document.querySelector('#' + key + ' button');\n",
              "      quickchartButtonEl.disabled = true;  // To prevent multiple clicks.\n",
              "      quickchartButtonEl.classList.add('colab-df-spinner');\n",
              "      try {\n",
              "        const charts = await google.colab.kernel.invokeFunction(\n",
              "            'suggestCharts', [key], {});\n",
              "      } catch (error) {\n",
              "        console.error('Error during call to suggestCharts:', error);\n",
              "      }\n",
              "      quickchartButtonEl.classList.remove('colab-df-spinner');\n",
              "      quickchartButtonEl.classList.add('colab-df-quickchart-complete');\n",
              "    }\n",
              "    (() => {\n",
              "      let quickchartButtonEl =\n",
              "        document.querySelector('#df-2abe27bf-34b4-40f3-8f1d-e70e41e18108 button');\n",
              "      quickchartButtonEl.style.display =\n",
              "        google.colab.kernel.accessAllowed ? 'block' : 'none';\n",
              "    })();\n",
              "  </script>\n",
              "</div>\n",
              "\n",
              "    </div>\n",
              "  </div>\n"
            ]
          },
          "metadata": {},
          "execution_count": 12
        }
      ]
    },
    {
      "cell_type": "code",
      "source": [],
      "metadata": {
        "id": "McSBy0ebmQ4C"
      },
      "execution_count": null,
      "outputs": []
    }
  ]
}