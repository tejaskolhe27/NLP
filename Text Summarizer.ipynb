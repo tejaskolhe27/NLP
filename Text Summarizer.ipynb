{
 "cells": [
  {
   "cell_type": "code",
   "execution_count": 1,
   "id": "8405c026",
   "metadata": {},
   "outputs": [],
   "source": [
    "# !pip install gensim sumy transformers"
   ]
  },
  {
   "cell_type": "markdown",
   "id": "e7b530b1",
   "metadata": {},
   "source": [
    "## TextRank Summarizer"
   ]
  },
  {
   "cell_type": "code",
   "execution_count": 2,
   "id": "214843e7",
   "metadata": {},
   "outputs": [],
   "source": [
    "# Import the textrank sumarizer\n",
    "from sumy.summarizers.text_rank import TextRankSummarizer\n",
    "\n",
    "# Import the parser and tokenizer\n",
    "from sumy.parsers.plaintext import PlaintextParser\n",
    "from sumy.nlp.tokenizers import Tokenizer"
   ]
  },
  {
   "cell_type": "code",
   "execution_count": 3,
   "id": "7c39bc36",
   "metadata": {},
   "outputs": [],
   "source": [
    "text = '''\n",
    "The Bengal tiger is a population of the Panthera tigris tigris subspecies and the nominate tiger\n",
    "subspecies. It ranks among the biggest wild cats alive today.[2][3] It is considered to belong \n",
    "to the world's charismatic megafauna. The tiger is estimated to have been present in the Indian\n",
    "subcontinent since the Late Pleistocene, for about 12,000 to 16,500 years.[5][6][7] Today, it is\n",
    "threatened by poaching, loss and fragmentation of habitat, and was estimated at comprising fewer\n",
    "than 2,500 wild individuals by 2011. None of the Tiger Conservation Landscapes within its range \n",
    "is considered large enough to support an effective population of more than 250 adult individuals.\n",
    "The Bengal tiger's historical range covered the Indus River valley until the early 19th century,\n",
    "almost all of India, Pakistan, southern Nepal, Bangladesh, Bhutan, and southwestern China. \n",
    "Today, it inhabits India, Bangladesh, Nepal, Bhutan, and southwestern China.[6] India's tiger \n",
    "population was estimated at 2,603–3,346 individuals by 2018.[9] Around 300–500 individuals are \n",
    "estimated in Bangladesh,[8] 355 in Nepal by 2022,[10] and 90 individuals in Bhutan by 2015.\n",
    "Felis tigris was the scientific name used by Carl Linnaeus in 1758 for the tiger.[12] \n",
    "It was subordinated to the genus Panthera by Reginald Innes Pocock in 1929. Bengal is the \n",
    "traditional type locality of the species and the nominate subspecies Panthera tigris tigris.\n",
    "The validity of several tiger subspecies in continental Asia was questioned in 1999. \n",
    "Morphologically, tigers from different regions vary little, and gene flow between populations \n",
    "in those regions is considered to have been possible during the Pleistocene. Therefore, it was \n",
    "proposed to recognise only two subspecies as valid, namely P. t. tigris in mainland Asia, and \n",
    "P. t. sondaica in the Greater Sunda Islands and possibly in Sundaland.[14] The nominate \n",
    "subspecies P. t. tigris constitutes two clades: the northern clade comprises the Siberian and \n",
    "Caspian tiger populations, and the southern clade all remaining continental tiger populations.\n",
    "[15] The extinct and living tiger populations in continental Asia have been subsumed to P. t. \n",
    "tigris since the revision of felid taxonomy in 2017.[1] Results of a genetic analysis of 32 \n",
    "tiger samples indicate that the Bengal tiger samples grouped into a different clade than the \n",
    "Siberian tiger samples'''"
   ]
  },
  {
   "cell_type": "code",
   "execution_count": 4,
   "id": "81bac7d8",
   "metadata": {},
   "outputs": [
    {
     "data": {
      "text/plain": [
       "19"
      ]
     },
     "execution_count": 4,
     "metadata": {},
     "output_type": "execute_result"
    }
   ],
   "source": [
    "from nltk.tokenize import sent_tokenize\n",
    "len(sent_tokenize(text))"
   ]
  },
  {
   "cell_type": "code",
   "execution_count": 5,
   "id": "d43d8daa",
   "metadata": {},
   "outputs": [],
   "source": [
    "# Initializing my parser\n",
    "my_parser = PlaintextParser.from_string(text,Tokenizer('english'))"
   ]
  },
  {
   "cell_type": "code",
   "execution_count": 6,
   "id": "6af65591",
   "metadata": {},
   "outputs": [],
   "source": [
    "# Creating a summary of 3 sentences\n",
    "text_rank_summarizer = TextRankSummarizer()\n",
    "summary = text_rank_summarizer(my_parser.document,sentences_count=3)"
   ]
  },
  {
   "cell_type": "code",
   "execution_count": 7,
   "id": "2c869838",
   "metadata": {},
   "outputs": [
    {
     "name": "stdout",
     "output_type": "stream",
     "text": [
      "The Bengal tiger is a population of the Panthera tigris tigris subspecies and the nominate tiger subspecies.\n",
      "The tiger is estimated to have been present in the Indian subcontinent since the Late Pleistocene, for about 12,000 to 16,500 years.\n",
      "[14] The nominate subspecies P. t. tigris constitutes two clades: the northern clade comprises the Siberian and Caspian tiger populations, and the southern clade all remaining continental tiger populations.\n"
     ]
    }
   ],
   "source": [
    "for sent in summary:\n",
    "    print(sent)"
   ]
  },
  {
   "cell_type": "markdown",
   "id": "d282510b",
   "metadata": {},
   "source": [
    "## Using URL(Web Scrapping)"
   ]
  },
  {
   "cell_type": "code",
   "execution_count": 8,
   "id": "b3085fe1",
   "metadata": {},
   "outputs": [],
   "source": [
    "import urllib\n",
    "from bs4 import BeautifulSoup"
   ]
  },
  {
   "cell_type": "code",
   "execution_count": 9,
   "id": "d999e0e2",
   "metadata": {},
   "outputs": [],
   "source": [
    "url = urllib.request.urlopen(\"https://en.wikipedia.org/wiki/Rajgad_Fort\")"
   ]
  },
  {
   "cell_type": "code",
   "execution_count": 10,
   "id": "5df66af1",
   "metadata": {},
   "outputs": [],
   "source": [
    "data = url.read()"
   ]
  },
  {
   "cell_type": "code",
   "execution_count": 11,
   "id": "b63f11a6",
   "metadata": {},
   "outputs": [],
   "source": [
    "soup=BeautifulSoup(data,'html.parser')\n",
    "text=soup.get_text()"
   ]
  },
  {
   "cell_type": "code",
   "execution_count": 12,
   "id": "c2ea4aec",
   "metadata": {},
   "outputs": [
    {
     "data": {
      "text/plain": [
       "62"
      ]
     },
     "execution_count": 12,
     "metadata": {},
     "output_type": "execute_result"
    }
   ],
   "source": [
    "len(sent_tokenize(text))"
   ]
  },
  {
   "cell_type": "code",
   "execution_count": 13,
   "id": "ba238536",
   "metadata": {},
   "outputs": [],
   "source": [
    "# Initializing my parser\n",
    "my_parser = PlaintextParser.from_string(text,Tokenizer('english'))"
   ]
  },
  {
   "cell_type": "code",
   "execution_count": 14,
   "id": "8bd7738b",
   "metadata": {},
   "outputs": [],
   "source": [
    "# Creating a summary of 3 sentences\n",
    "text_rank_summarizer = TextRankSummarizer()\n",
    "summary = text_rank_summarizer(my_parser.document,sentences_count=3)"
   ]
  },
  {
   "cell_type": "code",
   "execution_count": 15,
   "id": "431eceb8",
   "metadata": {
    "scrolled": true
   },
   "outputs": [
    {
     "name": "stdout",
     "output_type": "stream",
     "text": [
      "History[edit] The fort has stood witness to many significant historic events including the birth of Chhatrapati Shivaji's son Rajaram I, the death of Shivaji's wife Saibai, the return of Shivaji from Agra, the burial of Afzal Khan's head in the Mahadarwaja walls of Balle Killa, the strict words of Sonopant Dabir to Shivaji.\n",
      "Amazing Maharashtra Rajgad Fort Information in Marathi Pune Trekkers vteForts in MaharashtraAhmednagar district Ahmednagar Fort Bahadurgad Bhairavgad Bitangad Harishchandragad Kaladgad Kharda Kunjargad Madan Fort Manjarsumbha fort Pabargad Patta Fort Ratangad Akola district Akola Fort Balapur Narnala Amravati district Amner Fort Gawilghur Aurangabad district Antur Fort Daulatabad Fort Chandrapur district Chandrapur Fort Ballarpur Fort Bhadravati Fort Manikgad Dhule district Bhamer Laling Thalner Kolhapur district Bhudargad Gandharvgad Panhala Pargadh Pavangad Samangad Vishalgad Latur district Udgir Mumbai City district Bombay Castle Dongri Fort Fort George Mahim Fort Mazagon Fort Riwa Fort Sewri Fort Sion Hillock Fort Worli Fort Mumbai Suburban district Castella de Aguada Madh Nagpur district Sitabuldi Nanded district Kandhar Fort Nashik district Aavandhagad Achala Fort Ahivant Fort Alang Anjaneri Ankai Fort Bahulagad Bhaskargad Chandwad Chauler Fort Dermal Dhodap Hargad Harihar fort Hatgad Indrai Kanchangad Kanhergad Kavnai fort Kulang Madangad Malegaon Mangi-Tungi Moragad Mulher Nhavigad Rajdher fort Ramsej Salher Salota Saptashrungi Tankai fort Tringalwadi Waghera Osmanabad district Naldurg Fort Paranda Fort Palghar district Bassein Kaldurg Tandulwadi Pune district Anghaai Fort Bhorgiri Fort Chawand Dhakoba Ghangad Hadsar Fort Induri Fort Jivdhan Kailasgad Kawla Korigad/Koraigad Lohagad Malhargad Manaranjan Mangalgad Morgiri Fort Narayangad Nimgiri Purandar Rajgad Rajmachi Rayri Fort Rohida Sangram Durg Sindola Fort Shaniwar Wada Shivneri Shrivardhan Sinhagad Tikona Torna Tung Vajragad Fort Visapur Raigad district Agarkot Avchitgad Bhimashankar Fort Birwadi Chambhargad Chandragad Dhak Bahiri Dronagiri Gadad Bahiri Ghangad Ghosalgad Irshalgad Karnala Khaderi Khanderi Kondhawi Fort Korlai Kothaligad Peb fort Kulaba Kurdugad Lingana Maangad Madgad Malanggad Mangalgad (Kangori) Manikgad Mirgad Mrugagad Murud-Janjira Padargad Padmadurg/ Kasa Fort Prabalgad Raigad Ratnagad Revdanda Sagargad Samrajgad Sankshi Fort Sarasgad Sarjekot Songad Songiri Fort Sudhagad Surgad Talagad Underi Vikatgad Peb fort Ratnagiri district Aambolgad Anjanwel Bankot Gowalkot Jaigad Kanakdurg Mahipatgad Mandangad Prachitgad Prunagad Rasalgad Ratnagiri (Ratnadurg) Sumargad Suvarnadurg Yashwantgad Satara district Ajinkyatara Bhairavgad Bhushangad Chandan-Vandan Dategad Gunavantgad Jangali Jayagad Kalyangad Kamalgad Kenjalgad Mahimangad Pandavgad Prachitgad Pratapgad Sajjangad Santoshgad Vairatgad Vardhangad Varugad Vasantgad Vasota Sindhudurg district Aasavgad Bharatgad Rajkot Fort Sanrjekot Sindhudurg Vijaydurg Thane district Aasawa Arnala Asherigad Ballalgad Balwantgad Belapur Fort Bhairavgad Bhandargad Bhavanigad Bhupatgad Chanderigad Dahanugad Daulatmandal Dharavi Durgadi Fort Gambhirgad Ghodbunder Fort Gorakhgad Gotara Jivdhaanigad Kamandurg Kelwegad Kohojgad Mahuli Malang gad Palasgad Pankot Tahuli Shirgav Fort Jalna district Jalna Fort(Mastgarh) Rohilagarh Jafrabad Qila\n",
      "vte Forts in IndiaAhom dynasty Talatal Ghar Kareng Ghar Rang Ghar Garchuk Lachit Garh Bahmani Sultanate Bidar Gulbarga British Raj Anchuthengu St. George William Bombay Riwa Worli Mazagon Sion Hillock Sewri Mahim Tellicherry St. David Deccan sultanates Ahmednagar Daulatabad Gawilghur Golconda Jalna Fort(Mastgarh) Narnala Panhala Delhi Sultanate Aligarh Bandhavgarh Hathras Qila Mubarak Siri Tughlaqabad Salimgarh Eastern Ganga dynasty Barabati Raibania Faruqi dynasty Asirgarh Laling Thalner Gujarat Sultanate Bhadra Jat Bawana Fort Gohad Lohagarh Nahar Singh Mahal Kakatiya dynasty Warangal Kingdom of Mysore Devanahalli Palakkad Bekal Sankagiri Malwa Sultanate Mandsaur Mandavgadh Maratha Empire Dongri Harishchandragad Kolaba Lohagad Sudhagad Sinhagad Tikona Panhala Pratapgad Vishalgad Rajgad Sindhudurg Vijaydurg Shivneri Raigad Gajendragarh Gingee Shaniwar Wada Jhansi Hinglajgarh Manora Visapur Sadashivgad Mughal Empire Purana Qila Chanderi Agra Allahabad Fatehpur Sikri Red Akola Hari Parbat Fort Ramnagar Nayak dynasty Chitradurga Bekal Dindigul Gingee Tiruchirapalli Rock Chandragiri Fort Hosdurg Portuguese Bassein Fort Bombay Castle Mahim Arnala Castella de Aguada Diu Fort Surat Castle Fortim do Mar, Diu Fortim do Mar, Simbor Emmanuel Fort Anjediva Korlai Madh Fort St Thomas, Tangasseri St. Angelo Pallipuram Aguada Fort Tiracol Anjediva Cranganore Ghodbunder Fortaleza de Chaul Ponda Fort Chapora Fort Fortaleza de São Sebastião de Tivim Cabo de Rama Corjuem Fort Mormugão fort Rachol Fort Fort of São Tiago of Banastarim Rajputs Achalgarh Amber Bhangarh Chittor Jaigarh Jaisalmer Jalore Junagarh Kankwadi Kumbhalgarh Nahargarh Qila Rai Pithora Taragarh Lal Kot Gwalior Kalinjar Hinglajgarh Mehrangarh Narwar Senapati fortress Sabalgarh Bahu Kangra Ranthambore Bhatner fort Sikh Empire Kamlah Siddi Murud-Janjira Belapur Underi Sur Empire Chunar Rohtasgarh Munger Travancore Vattakottai Udayagiri East Vijayanagara Chandragiri Gingee Bangalore Udayagiri Vellore\n"
     ]
    }
   ],
   "source": [
    "for sent in summary:\n",
    "    print(sent)"
   ]
  },
  {
   "cell_type": "markdown",
   "id": "4f08f5e2",
   "metadata": {},
   "source": [
    "## LexRank Summarizer"
   ]
  },
  {
   "cell_type": "code",
   "execution_count": 16,
   "id": "5cc65708",
   "metadata": {},
   "outputs": [],
   "source": [
    "# Import the LexRank summarizer\n",
    "from sumy.summarizers.lex_rank import LexRankSummarizer"
   ]
  },
  {
   "cell_type": "code",
   "execution_count": 17,
   "id": "ba6f4263",
   "metadata": {},
   "outputs": [],
   "source": [
    "text = '''\n",
    "The Bengal tiger is a population of the Panthera tigris tigris subspecies and the nominate tiger\n",
    "subspecies. It ranks among the biggest wild cats alive today.[2][3] It is considered to belong \n",
    "to the world's charismatic megafauna. The tiger is estimated to have been present in the Indian\n",
    "subcontinent since the Late Pleistocene, for about 12,000 to 16,500 years.[5][6][7] Today, it is\n",
    "threatened by poaching, loss and fragmentation of habitat, and was estimated at comprising fewer\n",
    "than 2,500 wild individuals by 2011. None of the Tiger Conservation Landscapes within its range \n",
    "is considered large enough to support an effective population of more than 250 adult individuals.\n",
    "The Bengal tiger's historical range covered the Indus River valley until the early 19th century,\n",
    "almost all of India, Pakistan, southern Nepal, Bangladesh, Bhutan, and southwestern China. \n",
    "Today, it inhabits India, Bangladesh, Nepal, Bhutan, and southwestern China.[6] India's tiger \n",
    "population was estimated at 2,603–3,346 individuals by 2018.[9] Around 300–500 individuals are \n",
    "estimated in Bangladesh,[8] 355 in Nepal by 2022,[10] and 90 individuals in Bhutan by 2015.\n",
    "Felis tigris was the scientific name used by Carl Linnaeus in 1758 for the tiger.[12] \n",
    "It was subordinated to the genus Panthera by Reginald Innes Pocock in 1929. Bengal is the \n",
    "traditional type locality of the species and the nominate subspecies Panthera tigris tigris.\n",
    "The validity of several tiger subspecies in continental Asia was questioned in 1999. \n",
    "Morphologically, tigers from different regions vary little, and gene flow between populations \n",
    "in those regions is considered to have been possible during the Pleistocene. Therefore, it was \n",
    "proposed to recognise only two subspecies as valid, namely P. t. tigris in mainland Asia, and \n",
    "P. t. sondaica in the Greater Sunda Islands and possibly in Sundaland.[14] The nominate \n",
    "subspecies P. t. tigris constitutes two clades: the northern clade comprises the Siberian and \n",
    "Caspian tiger populations, and the southern clade all remaining continental tiger populations.\n",
    "[15] The extinct and living tiger populations in continental Asia have been subsumed to P. t. \n",
    "tigris since the revision of felid taxonomy in 2017.[1] Results of a genetic analysis of 32 \n",
    "tiger samples indicate that the Bengal tiger samples grouped into a different clade than the \n",
    "Siberian tiger samples'''"
   ]
  },
  {
   "cell_type": "code",
   "execution_count": 18,
   "id": "bcbedaa0",
   "metadata": {},
   "outputs": [],
   "source": [
    "# Initializing my parser\n",
    "my_parser = PlaintextParser.from_string(text,Tokenizer('english'))"
   ]
  },
  {
   "cell_type": "code",
   "execution_count": 19,
   "id": "7e02fad0",
   "metadata": {},
   "outputs": [],
   "source": [
    "# Create a summary of 3 sentences\n",
    "lex_rank_summarizer = LexRankSummarizer()\n",
    "summary = lex_rank_summarizer(my_parser.document,sentences_count=3)"
   ]
  },
  {
   "cell_type": "code",
   "execution_count": 20,
   "id": "2b4693db",
   "metadata": {},
   "outputs": [
    {
     "name": "stdout",
     "output_type": "stream",
     "text": [
      "The Bengal tiger is a population of the Panthera tigris tigris subspecies and the nominate tiger subspecies.\n",
      "[6] India's tiger population was estimated at 2,603–3,346 individuals by 2018.\n",
      "[9] Around 300–500 individuals are estimated in Bangladesh,[8] 355 in Nepal by 2022,[10] and 90 individuals in Bhutan by 2015.\n"
     ]
    }
   ],
   "source": [
    "for sent in summary:\n",
    "    print(sent)"
   ]
  },
  {
   "cell_type": "markdown",
   "id": "2c0b3882",
   "metadata": {},
   "source": [
    "## LSA Summarizer"
   ]
  },
  {
   "cell_type": "code",
   "execution_count": 21,
   "id": "def668bd",
   "metadata": {},
   "outputs": [],
   "source": [
    "# Import the LSA summarizer\n",
    "from sumy.summarizers.lsa import LsaSummarizer"
   ]
  },
  {
   "cell_type": "code",
   "execution_count": 22,
   "id": "6dd8371e",
   "metadata": {},
   "outputs": [],
   "source": [
    "# Initializing my parser\n",
    "my_parser = PlaintextParser.from_string(text,Tokenizer('english'))"
   ]
  },
  {
   "cell_type": "code",
   "execution_count": 23,
   "id": "6d18fc65",
   "metadata": {},
   "outputs": [],
   "source": [
    "# Create a summary of 3 sentences\n",
    "lsa_summarizer = LsaSummarizer()\n",
    "summary = lsa_summarizer(my_parser.document,sentences_count=3)"
   ]
  },
  {
   "cell_type": "code",
   "execution_count": 24,
   "id": "3c73f254",
   "metadata": {},
   "outputs": [
    {
     "name": "stdout",
     "output_type": "stream",
     "text": [
      "Today, it inhabits India, Bangladesh, Nepal, Bhutan, and southwestern China.\n",
      "[12] It was subordinated to the genus Panthera by Reginald Innes Pocock in 1929.\n",
      "Morphologically, tigers from different regions vary little, and gene flow between populations in those regions is considered to have been possible during the Pleistocene.\n"
     ]
    }
   ],
   "source": [
    "for sent in summary:\n",
    "    print(sent)"
   ]
  },
  {
   "cell_type": "markdown",
   "id": "6ce02eec",
   "metadata": {},
   "source": [
    "## Using transformers(GPT) for text summarization"
   ]
  },
  {
   "cell_type": "code",
   "execution_count": 25,
   "id": "db773056",
   "metadata": {},
   "outputs": [],
   "source": [
    "import transformers"
   ]
  },
  {
   "cell_type": "code",
   "execution_count": 26,
   "id": "8506a2eb",
   "metadata": {},
   "outputs": [
    {
     "name": "stderr",
     "output_type": "stream",
     "text": [
      "2023-12-12 15:18:11.270697: I tensorflow/core/util/port.cc:113] oneDNN custom operations are on. You may see slightly different numerical results due to floating-point round-off errors from different computation orders. To turn them off, set the environment variable `TF_ENABLE_ONEDNN_OPTS=0`.\n",
      "2023-12-12 15:18:11.331446: E external/local_xla/xla/stream_executor/cuda/cuda_dnn.cc:9261] Unable to register cuDNN factory: Attempting to register factory for plugin cuDNN when one has already been registered\n",
      "2023-12-12 15:18:11.331491: E external/local_xla/xla/stream_executor/cuda/cuda_fft.cc:607] Unable to register cuFFT factory: Attempting to register factory for plugin cuFFT when one has already been registered\n",
      "2023-12-12 15:18:11.332858: E external/local_xla/xla/stream_executor/cuda/cuda_blas.cc:1515] Unable to register cuBLAS factory: Attempting to register factory for plugin cuBLAS when one has already been registered\n",
      "2023-12-12 15:18:11.342661: I tensorflow/core/platform/cpu_feature_guard.cc:182] This TensorFlow binary is optimized to use available CPU instructions in performance-critical operations.\n",
      "To enable the following instructions: AVX2 AVX512F AVX512_VNNI FMA, in other operations, rebuild TensorFlow with the appropriate compiler flags.\n",
      "2023-12-12 15:18:18.968538: W tensorflow/compiler/tf2tensorrt/utils/py_utils.cc:38] TF-TRT Warning: Could not find TensorRT\n",
      "No model was supplied, defaulted to sshleifer/distilbart-cnn-12-6 and revision a4f8f3e (https://huggingface.co/sshleifer/distilbart-cnn-12-6).\n",
      "Using a pipeline without specifying a model name and revision in production is not recommended.\n"
     ]
    },
    {
     "data": {
      "application/vnd.jupyter.widget-view+json": {
       "model_id": "b710857d4443415d87074376caac3091",
       "version_major": 2,
       "version_minor": 0
      },
      "text/plain": [
       "config.json:   0%|          | 0.00/1.80k [00:00<?, ?B/s]"
      ]
     },
     "metadata": {},
     "output_type": "display_data"
    },
    {
     "data": {
      "application/vnd.jupyter.widget-view+json": {
       "model_id": "8cae1ac6524b44409df11cf05d74e4f9",
       "version_major": 2,
       "version_minor": 0
      },
      "text/plain": [
       "pytorch_model.bin:   0%|          | 0.00/1.22G [00:00<?, ?B/s]"
      ]
     },
     "metadata": {},
     "output_type": "display_data"
    },
    {
     "data": {
      "application/vnd.jupyter.widget-view+json": {
       "model_id": "9af000a6676242dc965ced3d8466a3e8",
       "version_major": 2,
       "version_minor": 0
      },
      "text/plain": [
       "tokenizer_config.json:   0%|          | 0.00/26.0 [00:00<?, ?B/s]"
      ]
     },
     "metadata": {},
     "output_type": "display_data"
    },
    {
     "data": {
      "application/vnd.jupyter.widget-view+json": {
       "model_id": "5e414d46837c413abfd46cb2029fcd72",
       "version_major": 2,
       "version_minor": 0
      },
      "text/plain": [
       "vocab.json:   0%|          | 0.00/899k [00:00<?, ?B/s]"
      ]
     },
     "metadata": {},
     "output_type": "display_data"
    },
    {
     "data": {
      "application/vnd.jupyter.widget-view+json": {
       "model_id": "540fb359db7f4f659965319bd736e72a",
       "version_major": 2,
       "version_minor": 0
      },
      "text/plain": [
       "merges.txt:   0%|          | 0.00/456k [00:00<?, ?B/s]"
      ]
     },
     "metadata": {},
     "output_type": "display_data"
    }
   ],
   "source": [
    "pipeline = transformers.pipeline(\"summarization\")"
   ]
  },
  {
   "cell_type": "code",
   "execution_count": 28,
   "id": "31e7f143",
   "metadata": {},
   "outputs": [
    {
     "name": "stdout",
     "output_type": "stream",
     "text": [
      " The Bengal tiger ranks among the biggest wild cats alive today . It is estimated to have been present in the Indian subcontinent since the Late Pleistocene, for about 12,000 to 16,500 years . The tiger's historical range covered the Indus River valley until the early 19th century . Today, it is threatened by poaching, loss and fragmentation of habitat .\n"
     ]
    }
   ],
   "source": [
    "summary_text = pipeline(text,max_length=200,\n",
    "                       min_length=5,do_sample=False)[0]['summary_text']\n",
    "\n",
    "print(summary_text)"
   ]
  },
  {
   "cell_type": "code",
   "execution_count": null,
   "id": "ec1ab4dd",
   "metadata": {},
   "outputs": [],
   "source": []
  }
 ],
 "metadata": {
  "kernelspec": {
   "display_name": "Python 3 (ipykernel)",
   "language": "python",
   "name": "python3"
  },
  "language_info": {
   "codemirror_mode": {
    "name": "ipython",
    "version": 3
   },
   "file_extension": ".py",
   "mimetype": "text/x-python",
   "name": "python",
   "nbconvert_exporter": "python",
   "pygments_lexer": "ipython3",
   "version": "3.11.4"
  }
 },
 "nbformat": 4,
 "nbformat_minor": 5
}
